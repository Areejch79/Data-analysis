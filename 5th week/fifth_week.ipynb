{
  "cells": [
    {
      "cell_type": "code",
      "execution_count": 1,
      "metadata": {
        "id": "zeya9GwXUKkU"
      },
      "outputs": [],
      "source": [
        "import pandas as pd\n",
        "import plotly.express as px\n",
        "import plotly.graph_objects as go\n",
        "import plotly.io as pio\n",
        "from wordcloud import WordCloud\n",
        "pio.templates.default = \"plotly_white\""
      ]
    },
    {
      "cell_type": "code",
      "execution_count": 2,
      "metadata": {
        "colab": {
          "base_uri": "https://localhost:8080/",
          "height": 571
        },
        "id": "1ZMOpWNq_e6_",
        "outputId": "c7fdace2-0987-4041-dcc5-733a7d33c47c"
      },
      "outputs": [
        {
          "data": {
            "text/html": [
              "<div>\n",
              "<style scoped>\n",
              "    .dataframe tbody tr th:only-of-type {\n",
              "        vertical-align: middle;\n",
              "    }\n",
              "\n",
              "    .dataframe tbody tr th {\n",
              "        vertical-align: top;\n",
              "    }\n",
              "\n",
              "    .dataframe thead th {\n",
              "        text-align: right;\n",
              "    }\n",
              "</style>\n",
              "<table border=\"1\" class=\"dataframe\">\n",
              "  <thead>\n",
              "    <tr style=\"text-align: right;\">\n",
              "      <th></th>\n",
              "      <th>Impressions</th>\n",
              "      <th>From Home</th>\n",
              "      <th>From Hashtags</th>\n",
              "      <th>From Explore</th>\n",
              "      <th>From Other</th>\n",
              "      <th>Saves</th>\n",
              "      <th>Comments</th>\n",
              "      <th>Shares</th>\n",
              "      <th>Likes</th>\n",
              "      <th>Profile Visits</th>\n",
              "      <th>Follows</th>\n",
              "      <th>Caption</th>\n",
              "      <th>Hashtags</th>\n",
              "    </tr>\n",
              "  </thead>\n",
              "  <tbody>\n",
              "    <tr>\n",
              "      <th>0</th>\n",
              "      <td>3920</td>\n",
              "      <td>2586</td>\n",
              "      <td>1028</td>\n",
              "      <td>619</td>\n",
              "      <td>56</td>\n",
              "      <td>98</td>\n",
              "      <td>9</td>\n",
              "      <td>5</td>\n",
              "      <td>162</td>\n",
              "      <td>35</td>\n",
              "      <td>2</td>\n",
              "      <td>Here are some of the most important data visua...</td>\n",
              "      <td>#finance #money #business #investing #investme...</td>\n",
              "    </tr>\n",
              "    <tr>\n",
              "      <th>1</th>\n",
              "      <td>5394</td>\n",
              "      <td>2727</td>\n",
              "      <td>1838</td>\n",
              "      <td>1174</td>\n",
              "      <td>78</td>\n",
              "      <td>194</td>\n",
              "      <td>7</td>\n",
              "      <td>14</td>\n",
              "      <td>224</td>\n",
              "      <td>48</td>\n",
              "      <td>10</td>\n",
              "      <td>Here are some of the best data science project...</td>\n",
              "      <td>#healthcare #health #covid #data #datascience ...</td>\n",
              "    </tr>\n",
              "    <tr>\n",
              "      <th>2</th>\n",
              "      <td>4021</td>\n",
              "      <td>2085</td>\n",
              "      <td>1188</td>\n",
              "      <td>0</td>\n",
              "      <td>533</td>\n",
              "      <td>41</td>\n",
              "      <td>11</td>\n",
              "      <td>1</td>\n",
              "      <td>131</td>\n",
              "      <td>62</td>\n",
              "      <td>12</td>\n",
              "      <td>Learn how to train a machine learning model an...</td>\n",
              "      <td>#data #datascience #dataanalysis #dataanalytic...</td>\n",
              "    </tr>\n",
              "    <tr>\n",
              "      <th>3</th>\n",
              "      <td>4528</td>\n",
              "      <td>2700</td>\n",
              "      <td>621</td>\n",
              "      <td>932</td>\n",
              "      <td>73</td>\n",
              "      <td>172</td>\n",
              "      <td>10</td>\n",
              "      <td>7</td>\n",
              "      <td>213</td>\n",
              "      <td>23</td>\n",
              "      <td>8</td>\n",
              "      <td>Heres how you can write a Python program to d...</td>\n",
              "      <td>#python #pythonprogramming #pythonprojects #py...</td>\n",
              "    </tr>\n",
              "    <tr>\n",
              "      <th>4</th>\n",
              "      <td>2518</td>\n",
              "      <td>1704</td>\n",
              "      <td>255</td>\n",
              "      <td>279</td>\n",
              "      <td>37</td>\n",
              "      <td>96</td>\n",
              "      <td>5</td>\n",
              "      <td>4</td>\n",
              "      <td>123</td>\n",
              "      <td>8</td>\n",
              "      <td>0</td>\n",
              "      <td>Plotting annotations while visualizing your da...</td>\n",
              "      <td>#datavisualization #datascience #data #dataana...</td>\n",
              "    </tr>\n",
              "  </tbody>\n",
              "</table>\n",
              "</div>"
            ],
            "text/plain": [
              "   Impressions  From Home  From Hashtags  From Explore  From Other  Saves  \\\n",
              "0         3920       2586           1028           619          56     98   \n",
              "1         5394       2727           1838          1174          78    194   \n",
              "2         4021       2085           1188             0         533     41   \n",
              "3         4528       2700            621           932          73    172   \n",
              "4         2518       1704            255           279          37     96   \n",
              "\n",
              "   Comments  Shares  Likes  Profile Visits  Follows  \\\n",
              "0         9       5    162              35        2   \n",
              "1         7      14    224              48       10   \n",
              "2        11       1    131              62       12   \n",
              "3        10       7    213              23        8   \n",
              "4         5       4    123               8        0   \n",
              "\n",
              "                                             Caption  \\\n",
              "0  Here are some of the most important data visua...   \n",
              "1  Here are some of the best data science project...   \n",
              "2  Learn how to train a machine learning model an...   \n",
              "3  Heres how you can write a Python program to d...   \n",
              "4  Plotting annotations while visualizing your da...   \n",
              "\n",
              "                                            Hashtags  \n",
              "0  #finance #money #business #investing #investme...  \n",
              "1  #healthcare #health #covid #data #datascience ...  \n",
              "2  #data #datascience #dataanalysis #dataanalytic...  \n",
              "3  #python #pythonprogramming #pythonprojects #py...  \n",
              "4  #datavisualization #datascience #data #dataana...  "
            ]
          },
          "execution_count": 2,
          "metadata": {},
          "output_type": "execute_result"
        }
      ],
      "source": [
        "data = pd.read_csv(\"Instagram data.csv\", encoding='latin1')\n",
        "\n",
        "data.head()"
      ]
    },
    {
      "cell_type": "markdown",
      "metadata": {},
      "source": [
        "**Question no: 1**"
      ]
    },
    {
      "cell_type": "code",
      "execution_count": 5,
      "metadata": {
        "colab": {
          "base_uri": "https://localhost:8080/"
        },
        "id": "zJ-3tYvpDXsv",
        "outputId": "e6c8a2b6-f415-4bc5-8176-9913d9c071ae"
      },
      "outputs": [
        {
          "data": {
            "text/plain": [
              "Index(['Impressions', 'From Home', 'From Hashtags', 'From Explore',\n",
              "       'From Other', 'Saves', 'Comments', 'Shares', 'Likes', 'Profile Visits',\n",
              "       'Follows', 'Caption', 'Hashtags'],\n",
              "      dtype='object')"
            ]
          },
          "execution_count": 5,
          "metadata": {},
          "output_type": "execute_result"
        }
      ],
      "source": [
        "data.columns"
      ]
    },
    {
      "cell_type": "code",
      "execution_count": 6,
      "metadata": {
        "colab": {
          "base_uri": "https://localhost:8080/"
        },
        "id": "7eY6pgefDbIX",
        "outputId": "8818d571-e645-4f3f-b440-e27ea27df73d"
      },
      "outputs": [
        {
          "name": "stdout",
          "output_type": "stream",
          "text": [
            "<class 'pandas.core.frame.DataFrame'>\n",
            "RangeIndex: 119 entries, 0 to 118\n",
            "Data columns (total 13 columns):\n",
            " #   Column          Non-Null Count  Dtype \n",
            "---  ------          --------------  ----- \n",
            " 0   Impressions     119 non-null    int64 \n",
            " 1   From Home       119 non-null    int64 \n",
            " 2   From Hashtags   119 non-null    int64 \n",
            " 3   From Explore    119 non-null    int64 \n",
            " 4   From Other      119 non-null    int64 \n",
            " 5   Saves           119 non-null    int64 \n",
            " 6   Comments        119 non-null    int64 \n",
            " 7   Shares          119 non-null    int64 \n",
            " 8   Likes           119 non-null    int64 \n",
            " 9   Profile Visits  119 non-null    int64 \n",
            " 10  Follows         119 non-null    int64 \n",
            " 11  Caption         119 non-null    object\n",
            " 12  Hashtags        119 non-null    object\n",
            "dtypes: int64(11), object(2)\n",
            "memory usage: 12.2+ KB\n"
          ]
        }
      ],
      "source": [
        "data.info()"
      ]
    },
    {
      "cell_type": "markdown",
      "metadata": {},
      "source": [
        "**Question no: 2**"
      ]
    },
    {
      "cell_type": "code",
      "execution_count": 7,
      "metadata": {
        "colab": {
          "base_uri": "https://localhost:8080/",
          "height": 300
        },
        "id": "WLOGR9H9D2Oq",
        "outputId": "f5712012-ede1-4360-a300-e46d0477a1d8"
      },
      "outputs": [
        {
          "data": {
            "application/vnd.google.colaboratory.intrinsic+json": {
              "summary": "{\n  \"name\": \"data\",\n  \"rows\": 8,\n  \"fields\": [\n    {\n      \"column\": \"Impressions\",\n      \"properties\": {\n        \"dtype\": \"number\",\n        \"std\": 11881.007036668983,\n        \"min\": 119.0,\n        \"max\": 36919.0,\n        \"num_unique_values\": 8,\n        \"samples\": [\n          5703.991596638655,\n          4289.0,\n          119.0\n        ],\n        \"semantic_type\": \"\",\n        \"description\": \"\"\n      }\n    },\n    {\n      \"column\": \"From Home\",\n      \"properties\": {\n        \"dtype\": \"number\",\n        \"std\": 4237.002358141817,\n        \"min\": 119.0,\n        \"max\": 13473.0,\n        \"num_unique_values\": 8,\n        \"samples\": [\n          2475.7899159663866,\n          2207.0,\n          119.0\n        ],\n        \"semantic_type\": \"\",\n        \"description\": \"\"\n      }\n    },\n    {\n      \"column\": \"From Hashtags\",\n      \"properties\": {\n        \"dtype\": \"number\",\n        \"std\": 3846.4765303238546,\n        \"min\": 116.0,\n        \"max\": 11817.0,\n        \"num_unique_values\": 8,\n        \"samples\": [\n          1887.5126050420167,\n          1278.0,\n          119.0\n        ],\n        \"semantic_type\": \"\",\n        \"description\": \"\"\n      }\n    },\n    {\n      \"column\": \"From Explore\",\n      \"properties\": {\n        \"dtype\": \"number\",\n        \"std\": 5966.026967177398,\n        \"min\": 0.0,\n        \"max\": 17414.0,\n        \"num_unique_values\": 8,\n        \"samples\": [\n          1078.1008403361345,\n          326.0,\n          119.0\n        ],\n        \"semantic_type\": \"\",\n        \"description\": \"\"\n      }\n    },\n    {\n      \"column\": \"From Other\",\n      \"properties\": {\n        \"dtype\": \"number\",\n        \"std\": 860.033073225639,\n        \"min\": 9.0,\n        \"max\": 2547.0,\n        \"num_unique_values\": 8,\n        \"samples\": [\n          171.0924369747899,\n          74.0,\n          119.0\n        ],\n        \"semantic_type\": \"\",\n        \"description\": \"\"\n      }\n    },\n    {\n      \"column\": \"Saves\",\n      \"properties\": {\n        \"dtype\": \"number\",\n        \"std\": 350.5937204689051,\n        \"min\": 22.0,\n        \"max\": 1095.0,\n        \"num_unique_values\": 8,\n        \"samples\": [\n          153.3109243697479,\n          109.0,\n          119.0\n        ],\n        \"semantic_type\": \"\",\n        \"description\": \"\"\n      }\n    },\n    {\n      \"column\": \"Comments\",\n      \"properties\": {\n        \"dtype\": \"number\",\n        \"std\": 40.0746007062046,\n        \"min\": 0.0,\n        \"max\": 119.0,\n        \"num_unique_values\": 8,\n        \"samples\": [\n          6.663865546218488,\n          6.0,\n          119.0\n        ],\n        \"semantic_type\": \"\",\n        \"description\": \"\"\n      }\n    },\n    {\n      \"column\": \"Shares\",\n      \"properties\": {\n        \"dtype\": \"number\",\n        \"std\": 43.49645980755421,\n        \"min\": 0.0,\n        \"max\": 119.0,\n        \"num_unique_values\": 8,\n        \"samples\": [\n          9.361344537815127,\n          6.0,\n          119.0\n        ],\n        \"semantic_type\": \"\",\n        \"description\": \"\"\n      }\n    },\n    {\n      \"column\": \"Likes\",\n      \"properties\": {\n        \"dtype\": \"number\",\n        \"std\": 153.9111299486121,\n        \"min\": 72.0,\n        \"max\": 549.0,\n        \"num_unique_values\": 8,\n        \"samples\": [\n          173.78151260504202,\n          151.0,\n          119.0\n        ],\n        \"semantic_type\": \"\",\n        \"description\": \"\"\n      }\n    },\n    {\n      \"column\": \"Profile Visits\",\n      \"properties\": {\n        \"dtype\": \"number\",\n        \"std\": 202.46478042569677,\n        \"min\": 4.0,\n        \"max\": 611.0,\n        \"num_unique_values\": 8,\n        \"samples\": [\n          50.621848739495796,\n          23.0,\n          119.0\n        ],\n        \"semantic_type\": \"\",\n        \"description\": \"\"\n      }\n    },\n    {\n      \"column\": \"Follows\",\n      \"properties\": {\n        \"dtype\": \"number\",\n        \"std\": 89.9032743491064,\n        \"min\": 0.0,\n        \"max\": 260.0,\n        \"num_unique_values\": 8,\n        \"samples\": [\n          20.756302521008404,\n          8.0,\n          119.0\n        ],\n        \"semantic_type\": \"\",\n        \"description\": \"\"\n      }\n    }\n  ]\n}",
              "type": "dataframe"
            },
            "text/html": [
              "\n",
              "  <div id=\"df-ea779b96-2e33-4152-b077-30783b83feb2\" class=\"colab-df-container\">\n",
              "    <div>\n",
              "<style scoped>\n",
              "    .dataframe tbody tr th:only-of-type {\n",
              "        vertical-align: middle;\n",
              "    }\n",
              "\n",
              "    .dataframe tbody tr th {\n",
              "        vertical-align: top;\n",
              "    }\n",
              "\n",
              "    .dataframe thead th {\n",
              "        text-align: right;\n",
              "    }\n",
              "</style>\n",
              "<table border=\"1\" class=\"dataframe\">\n",
              "  <thead>\n",
              "    <tr style=\"text-align: right;\">\n",
              "      <th></th>\n",
              "      <th>Impressions</th>\n",
              "      <th>From Home</th>\n",
              "      <th>From Hashtags</th>\n",
              "      <th>From Explore</th>\n",
              "      <th>From Other</th>\n",
              "      <th>Saves</th>\n",
              "      <th>Comments</th>\n",
              "      <th>Shares</th>\n",
              "      <th>Likes</th>\n",
              "      <th>Profile Visits</th>\n",
              "      <th>Follows</th>\n",
              "    </tr>\n",
              "  </thead>\n",
              "  <tbody>\n",
              "    <tr>\n",
              "      <th>count</th>\n",
              "      <td>119.000000</td>\n",
              "      <td>119.000000</td>\n",
              "      <td>119.000000</td>\n",
              "      <td>119.000000</td>\n",
              "      <td>119.000000</td>\n",
              "      <td>119.000000</td>\n",
              "      <td>119.000000</td>\n",
              "      <td>119.000000</td>\n",
              "      <td>119.000000</td>\n",
              "      <td>119.000000</td>\n",
              "      <td>119.000000</td>\n",
              "    </tr>\n",
              "    <tr>\n",
              "      <th>mean</th>\n",
              "      <td>5703.991597</td>\n",
              "      <td>2475.789916</td>\n",
              "      <td>1887.512605</td>\n",
              "      <td>1078.100840</td>\n",
              "      <td>171.092437</td>\n",
              "      <td>153.310924</td>\n",
              "      <td>6.663866</td>\n",
              "      <td>9.361345</td>\n",
              "      <td>173.781513</td>\n",
              "      <td>50.621849</td>\n",
              "      <td>20.756303</td>\n",
              "    </tr>\n",
              "    <tr>\n",
              "      <th>std</th>\n",
              "      <td>4843.780105</td>\n",
              "      <td>1489.386348</td>\n",
              "      <td>1884.361443</td>\n",
              "      <td>2613.026132</td>\n",
              "      <td>289.431031</td>\n",
              "      <td>156.317731</td>\n",
              "      <td>3.544576</td>\n",
              "      <td>10.089205</td>\n",
              "      <td>82.378947</td>\n",
              "      <td>87.088402</td>\n",
              "      <td>40.921580</td>\n",
              "    </tr>\n",
              "    <tr>\n",
              "      <th>min</th>\n",
              "      <td>1941.000000</td>\n",
              "      <td>1133.000000</td>\n",
              "      <td>116.000000</td>\n",
              "      <td>0.000000</td>\n",
              "      <td>9.000000</td>\n",
              "      <td>22.000000</td>\n",
              "      <td>0.000000</td>\n",
              "      <td>0.000000</td>\n",
              "      <td>72.000000</td>\n",
              "      <td>4.000000</td>\n",
              "      <td>0.000000</td>\n",
              "    </tr>\n",
              "    <tr>\n",
              "      <th>25%</th>\n",
              "      <td>3467.000000</td>\n",
              "      <td>1945.000000</td>\n",
              "      <td>726.000000</td>\n",
              "      <td>157.500000</td>\n",
              "      <td>38.000000</td>\n",
              "      <td>65.000000</td>\n",
              "      <td>4.000000</td>\n",
              "      <td>3.000000</td>\n",
              "      <td>121.500000</td>\n",
              "      <td>15.000000</td>\n",
              "      <td>4.000000</td>\n",
              "    </tr>\n",
              "    <tr>\n",
              "      <th>50%</th>\n",
              "      <td>4289.000000</td>\n",
              "      <td>2207.000000</td>\n",
              "      <td>1278.000000</td>\n",
              "      <td>326.000000</td>\n",
              "      <td>74.000000</td>\n",
              "      <td>109.000000</td>\n",
              "      <td>6.000000</td>\n",
              "      <td>6.000000</td>\n",
              "      <td>151.000000</td>\n",
              "      <td>23.000000</td>\n",
              "      <td>8.000000</td>\n",
              "    </tr>\n",
              "    <tr>\n",
              "      <th>75%</th>\n",
              "      <td>6138.000000</td>\n",
              "      <td>2602.500000</td>\n",
              "      <td>2363.500000</td>\n",
              "      <td>689.500000</td>\n",
              "      <td>196.000000</td>\n",
              "      <td>169.000000</td>\n",
              "      <td>8.000000</td>\n",
              "      <td>13.500000</td>\n",
              "      <td>204.000000</td>\n",
              "      <td>42.000000</td>\n",
              "      <td>18.000000</td>\n",
              "    </tr>\n",
              "    <tr>\n",
              "      <th>max</th>\n",
              "      <td>36919.000000</td>\n",
              "      <td>13473.000000</td>\n",
              "      <td>11817.000000</td>\n",
              "      <td>17414.000000</td>\n",
              "      <td>2547.000000</td>\n",
              "      <td>1095.000000</td>\n",
              "      <td>19.000000</td>\n",
              "      <td>75.000000</td>\n",
              "      <td>549.000000</td>\n",
              "      <td>611.000000</td>\n",
              "      <td>260.000000</td>\n",
              "    </tr>\n",
              "  </tbody>\n",
              "</table>\n",
              "</div>\n",
              "    <div class=\"colab-df-buttons\">\n",
              "\n",
              "  <div class=\"colab-df-container\">\n",
              "    <button class=\"colab-df-convert\" onclick=\"convertToInteractive('df-ea779b96-2e33-4152-b077-30783b83feb2')\"\n",
              "            title=\"Convert this dataframe to an interactive table.\"\n",
              "            style=\"display:none;\">\n",
              "\n",
              "  <svg xmlns=\"http://www.w3.org/2000/svg\" height=\"24px\" viewBox=\"0 -960 960 960\">\n",
              "    <path d=\"M120-120v-720h720v720H120Zm60-500h600v-160H180v160Zm220 220h160v-160H400v160Zm0 220h160v-160H400v160ZM180-400h160v-160H180v160Zm440 0h160v-160H620v160ZM180-180h160v-160H180v160Zm440 0h160v-160H620v160Z\"/>\n",
              "  </svg>\n",
              "    </button>\n",
              "\n",
              "  <style>\n",
              "    .colab-df-container {\n",
              "      display:flex;\n",
              "      gap: 12px;\n",
              "    }\n",
              "\n",
              "    .colab-df-convert {\n",
              "      background-color: #E8F0FE;\n",
              "      border: none;\n",
              "      border-radius: 50%;\n",
              "      cursor: pointer;\n",
              "      display: none;\n",
              "      fill: #1967D2;\n",
              "      height: 32px;\n",
              "      padding: 0 0 0 0;\n",
              "      width: 32px;\n",
              "    }\n",
              "\n",
              "    .colab-df-convert:hover {\n",
              "      background-color: #E2EBFA;\n",
              "      box-shadow: 0px 1px 2px rgba(60, 64, 67, 0.3), 0px 1px 3px 1px rgba(60, 64, 67, 0.15);\n",
              "      fill: #174EA6;\n",
              "    }\n",
              "\n",
              "    .colab-df-buttons div {\n",
              "      margin-bottom: 4px;\n",
              "    }\n",
              "\n",
              "    [theme=dark] .colab-df-convert {\n",
              "      background-color: #3B4455;\n",
              "      fill: #D2E3FC;\n",
              "    }\n",
              "\n",
              "    [theme=dark] .colab-df-convert:hover {\n",
              "      background-color: #434B5C;\n",
              "      box-shadow: 0px 1px 3px 1px rgba(0, 0, 0, 0.15);\n",
              "      filter: drop-shadow(0px 1px 2px rgba(0, 0, 0, 0.3));\n",
              "      fill: #FFFFFF;\n",
              "    }\n",
              "  </style>\n",
              "\n",
              "    <script>\n",
              "      const buttonEl =\n",
              "        document.querySelector('#df-ea779b96-2e33-4152-b077-30783b83feb2 button.colab-df-convert');\n",
              "      buttonEl.style.display =\n",
              "        google.colab.kernel.accessAllowed ? 'block' : 'none';\n",
              "\n",
              "      async function convertToInteractive(key) {\n",
              "        const element = document.querySelector('#df-ea779b96-2e33-4152-b077-30783b83feb2');\n",
              "        const dataTable =\n",
              "          await google.colab.kernel.invokeFunction('convertToInteractive',\n",
              "                                                    [key], {});\n",
              "        if (!dataTable) return;\n",
              "\n",
              "        const docLinkHtml = 'Like what you see? Visit the ' +\n",
              "          '<a target=\"_blank\" href=https://colab.research.google.com/notebooks/data_table.ipynb>data table notebook</a>'\n",
              "          + ' to learn more about interactive tables.';\n",
              "        element.innerHTML = '';\n",
              "        dataTable['output_type'] = 'display_data';\n",
              "        await google.colab.output.renderOutput(dataTable, element);\n",
              "        const docLink = document.createElement('div');\n",
              "        docLink.innerHTML = docLinkHtml;\n",
              "        element.appendChild(docLink);\n",
              "      }\n",
              "    </script>\n",
              "  </div>\n",
              "\n",
              "\n",
              "<div id=\"df-36a64ab7-717f-4200-8d0e-d1a30d558c90\">\n",
              "  <button class=\"colab-df-quickchart\" onclick=\"quickchart('df-36a64ab7-717f-4200-8d0e-d1a30d558c90')\"\n",
              "            title=\"Suggest charts\"\n",
              "            style=\"display:none;\">\n",
              "\n",
              "<svg xmlns=\"http://www.w3.org/2000/svg\" height=\"24px\"viewBox=\"0 0 24 24\"\n",
              "     width=\"24px\">\n",
              "    <g>\n",
              "        <path d=\"M19 3H5c-1.1 0-2 .9-2 2v14c0 1.1.9 2 2 2h14c1.1 0 2-.9 2-2V5c0-1.1-.9-2-2-2zM9 17H7v-7h2v7zm4 0h-2V7h2v10zm4 0h-2v-4h2v4z\"/>\n",
              "    </g>\n",
              "</svg>\n",
              "  </button>\n",
              "\n",
              "<style>\n",
              "  .colab-df-quickchart {\n",
              "      --bg-color: #E8F0FE;\n",
              "      --fill-color: #1967D2;\n",
              "      --hover-bg-color: #E2EBFA;\n",
              "      --hover-fill-color: #174EA6;\n",
              "      --disabled-fill-color: #AAA;\n",
              "      --disabled-bg-color: #DDD;\n",
              "  }\n",
              "\n",
              "  [theme=dark] .colab-df-quickchart {\n",
              "      --bg-color: #3B4455;\n",
              "      --fill-color: #D2E3FC;\n",
              "      --hover-bg-color: #434B5C;\n",
              "      --hover-fill-color: #FFFFFF;\n",
              "      --disabled-bg-color: #3B4455;\n",
              "      --disabled-fill-color: #666;\n",
              "  }\n",
              "\n",
              "  .colab-df-quickchart {\n",
              "    background-color: var(--bg-color);\n",
              "    border: none;\n",
              "    border-radius: 50%;\n",
              "    cursor: pointer;\n",
              "    display: none;\n",
              "    fill: var(--fill-color);\n",
              "    height: 32px;\n",
              "    padding: 0;\n",
              "    width: 32px;\n",
              "  }\n",
              "\n",
              "  .colab-df-quickchart:hover {\n",
              "    background-color: var(--hover-bg-color);\n",
              "    box-shadow: 0 1px 2px rgba(60, 64, 67, 0.3), 0 1px 3px 1px rgba(60, 64, 67, 0.15);\n",
              "    fill: var(--button-hover-fill-color);\n",
              "  }\n",
              "\n",
              "  .colab-df-quickchart-complete:disabled,\n",
              "  .colab-df-quickchart-complete:disabled:hover {\n",
              "    background-color: var(--disabled-bg-color);\n",
              "    fill: var(--disabled-fill-color);\n",
              "    box-shadow: none;\n",
              "  }\n",
              "\n",
              "  .colab-df-spinner {\n",
              "    border: 2px solid var(--fill-color);\n",
              "    border-color: transparent;\n",
              "    border-bottom-color: var(--fill-color);\n",
              "    animation:\n",
              "      spin 1s steps(1) infinite;\n",
              "  }\n",
              "\n",
              "  @keyframes spin {\n",
              "    0% {\n",
              "      border-color: transparent;\n",
              "      border-bottom-color: var(--fill-color);\n",
              "      border-left-color: var(--fill-color);\n",
              "    }\n",
              "    20% {\n",
              "      border-color: transparent;\n",
              "      border-left-color: var(--fill-color);\n",
              "      border-top-color: var(--fill-color);\n",
              "    }\n",
              "    30% {\n",
              "      border-color: transparent;\n",
              "      border-left-color: var(--fill-color);\n",
              "      border-top-color: var(--fill-color);\n",
              "      border-right-color: var(--fill-color);\n",
              "    }\n",
              "    40% {\n",
              "      border-color: transparent;\n",
              "      border-right-color: var(--fill-color);\n",
              "      border-top-color: var(--fill-color);\n",
              "    }\n",
              "    60% {\n",
              "      border-color: transparent;\n",
              "      border-right-color: var(--fill-color);\n",
              "    }\n",
              "    80% {\n",
              "      border-color: transparent;\n",
              "      border-right-color: var(--fill-color);\n",
              "      border-bottom-color: var(--fill-color);\n",
              "    }\n",
              "    90% {\n",
              "      border-color: transparent;\n",
              "      border-bottom-color: var(--fill-color);\n",
              "    }\n",
              "  }\n",
              "</style>\n",
              "\n",
              "  <script>\n",
              "    async function quickchart(key) {\n",
              "      const quickchartButtonEl =\n",
              "        document.querySelector('#' + key + ' button');\n",
              "      quickchartButtonEl.disabled = true;  // To prevent multiple clicks.\n",
              "      quickchartButtonEl.classList.add('colab-df-spinner');\n",
              "      try {\n",
              "        const charts = await google.colab.kernel.invokeFunction(\n",
              "            'suggestCharts', [key], {});\n",
              "      } catch (error) {\n",
              "        console.error('Error during call to suggestCharts:', error);\n",
              "      }\n",
              "      quickchartButtonEl.classList.remove('colab-df-spinner');\n",
              "      quickchartButtonEl.classList.add('colab-df-quickchart-complete');\n",
              "    }\n",
              "    (() => {\n",
              "      let quickchartButtonEl =\n",
              "        document.querySelector('#df-36a64ab7-717f-4200-8d0e-d1a30d558c90 button');\n",
              "      quickchartButtonEl.style.display =\n",
              "        google.colab.kernel.accessAllowed ? 'block' : 'none';\n",
              "    })();\n",
              "  </script>\n",
              "</div>\n",
              "\n",
              "    </div>\n",
              "  </div>\n"
            ],
            "text/plain": [
              "        Impressions     From Home  From Hashtags  From Explore   From Other  \\\n",
              "count    119.000000    119.000000     119.000000    119.000000   119.000000   \n",
              "mean    5703.991597   2475.789916    1887.512605   1078.100840   171.092437   \n",
              "std     4843.780105   1489.386348    1884.361443   2613.026132   289.431031   \n",
              "min     1941.000000   1133.000000     116.000000      0.000000     9.000000   \n",
              "25%     3467.000000   1945.000000     726.000000    157.500000    38.000000   \n",
              "50%     4289.000000   2207.000000    1278.000000    326.000000    74.000000   \n",
              "75%     6138.000000   2602.500000    2363.500000    689.500000   196.000000   \n",
              "max    36919.000000  13473.000000   11817.000000  17414.000000  2547.000000   \n",
              "\n",
              "             Saves    Comments      Shares       Likes  Profile Visits  \\\n",
              "count   119.000000  119.000000  119.000000  119.000000      119.000000   \n",
              "mean    153.310924    6.663866    9.361345  173.781513       50.621849   \n",
              "std     156.317731    3.544576   10.089205   82.378947       87.088402   \n",
              "min      22.000000    0.000000    0.000000   72.000000        4.000000   \n",
              "25%      65.000000    4.000000    3.000000  121.500000       15.000000   \n",
              "50%     109.000000    6.000000    6.000000  151.000000       23.000000   \n",
              "75%     169.000000    8.000000   13.500000  204.000000       42.000000   \n",
              "max    1095.000000   19.000000   75.000000  549.000000      611.000000   \n",
              "\n",
              "          Follows  \n",
              "count  119.000000  \n",
              "mean    20.756303  \n",
              "std     40.921580  \n",
              "min      0.000000  \n",
              "25%      4.000000  \n",
              "50%      8.000000  \n",
              "75%     18.000000  \n",
              "max    260.000000  "
            ]
          },
          "execution_count": 7,
          "metadata": {},
          "output_type": "execute_result"
        }
      ],
      "source": [
        "data.describe()"
      ]
    },
    {
      "cell_type": "markdown",
      "metadata": {},
      "source": [
        "**Question no:3**"
      ]
    },
    {
      "cell_type": "code",
      "execution_count": 8,
      "metadata": {
        "colab": {
          "base_uri": "https://localhost:8080/"
        },
        "id": "EV2xHV1-ES5j",
        "outputId": "a2687b05-3719-43c0-e21f-26d7d18bbaca"
      },
      "outputs": [
        {
          "data": {
            "text/plain": [
              "Impressions       0\n",
              "From Home         0\n",
              "From Hashtags     0\n",
              "From Explore      0\n",
              "From Other        0\n",
              "Saves             0\n",
              "Comments          0\n",
              "Shares            0\n",
              "Likes             0\n",
              "Profile Visits    0\n",
              "Follows           0\n",
              "Caption           0\n",
              "Hashtags          0\n",
              "dtype: int64"
            ]
          },
          "execution_count": 8,
          "metadata": {},
          "output_type": "execute_result"
        }
      ],
      "source": [
        "data.isnull().sum()"
      ]
    },
    {
      "cell_type": "markdown",
      "metadata": {},
      "source": [
        "**Question no: 4**"
      ]
    },
    {
      "cell_type": "code",
      "execution_count": 3,
      "metadata": {
        "colab": {
          "base_uri": "https://localhost:8080/",
          "height": 542
        },
        "id": "_X7SX35mEy38",
        "outputId": "9b411e3a-ba2d-46c6-e9ba-239ce1d3ab34"
      },
      "outputs": [
        {
          "data": {
            "application/vnd.plotly.v1+json": {
              "config": {
                "plotlyServerURL": "https://plot.ly"
              },
              "data": [
                {
                  "alignmentgroup": "True",
                  "bingroup": "x",
                  "hovertemplate": "Impressions=%{x}<br>count=%{y}<extra></extra>",
                  "legendgroup": "",
                  "marker": {
                    "color": "#636efa",
                    "pattern": {
                      "shape": ""
                    }
                  },
                  "name": "",
                  "nbinsx": 10,
                  "offsetgroup": "",
                  "orientation": "v",
                  "showlegend": false,
                  "type": "histogram",
                  "x": [
                    3920,
                    5394,
                    4021,
                    4528,
                    2518,
                    3884,
                    2621,
                    3541,
                    3749,
                    4115,
                    2218,
                    3234,
                    4344,
                    3216,
                    9453,
                    5055,
                    4002,
                    3169,
                    6168,
                    2407,
                    2064,
                    3973,
                    7281,
                    3052,
                    4628,
                    4082,
                    5394,
                    2766,
                    3924,
                    3015,
                    6666,
                    3854,
                    4355,
                    4343,
                    6108,
                    2523,
                    2327,
                    3990,
                    2191,
                    1941,
                    16062,
                    4998,
                    4289,
                    3880,
                    3786,
                    4298,
                    3630,
                    2826,
                    7407,
                    10386,
                    2998,
                    7018,
                    2941,
                    6432,
                    10667,
                    3988,
                    4978,
                    3388,
                    4467,
                    3246,
                    5072,
                    6339,
                    4239,
                    3454,
                    7571,
                    3333,
                    3818,
                    10933,
                    5058,
                    3601,
                    3480,
                    3525,
                    3606,
                    5542,
                    6559,
                    3623,
                    10493,
                    4446,
                    2957,
                    5538,
                    4681,
                    5273,
                    5055,
                    4002,
                    3169,
                    6168,
                    2407,
                    3630,
                    2826,
                    7407,
                    10386,
                    2998,
                    3052,
                    4628,
                    4082,
                    5394,
                    2766,
                    3924,
                    3015,
                    5409,
                    5323,
                    8001,
                    4150,
                    4609,
                    6348,
                    11068,
                    7231,
                    17396,
                    6814,
                    17713,
                    5563,
                    4842,
                    11149,
                    10206,
                    13700,
                    5731,
                    4139,
                    32695,
                    36919
                  ],
                  "xaxis": "x",
                  "yaxis": "y"
                }
              ],
              "layout": {
                "barmode": "relative",
                "legend": {
                  "tracegroupgap": 0
                },
                "template": {
                  "data": {
                    "bar": [
                      {
                        "error_x": {
                          "color": "#2a3f5f"
                        },
                        "error_y": {
                          "color": "#2a3f5f"
                        },
                        "marker": {
                          "line": {
                            "color": "white",
                            "width": 0.5
                          },
                          "pattern": {
                            "fillmode": "overlay",
                            "size": 10,
                            "solidity": 0.2
                          }
                        },
                        "type": "bar"
                      }
                    ],
                    "barpolar": [
                      {
                        "marker": {
                          "line": {
                            "color": "white",
                            "width": 0.5
                          },
                          "pattern": {
                            "fillmode": "overlay",
                            "size": 10,
                            "solidity": 0.2
                          }
                        },
                        "type": "barpolar"
                      }
                    ],
                    "carpet": [
                      {
                        "aaxis": {
                          "endlinecolor": "#2a3f5f",
                          "gridcolor": "#C8D4E3",
                          "linecolor": "#C8D4E3",
                          "minorgridcolor": "#C8D4E3",
                          "startlinecolor": "#2a3f5f"
                        },
                        "baxis": {
                          "endlinecolor": "#2a3f5f",
                          "gridcolor": "#C8D4E3",
                          "linecolor": "#C8D4E3",
                          "minorgridcolor": "#C8D4E3",
                          "startlinecolor": "#2a3f5f"
                        },
                        "type": "carpet"
                      }
                    ],
                    "choropleth": [
                      {
                        "colorbar": {
                          "outlinewidth": 0,
                          "ticks": ""
                        },
                        "type": "choropleth"
                      }
                    ],
                    "contour": [
                      {
                        "colorbar": {
                          "outlinewidth": 0,
                          "ticks": ""
                        },
                        "colorscale": [
                          [
                            0,
                            "#0d0887"
                          ],
                          [
                            0.1111111111111111,
                            "#46039f"
                          ],
                          [
                            0.2222222222222222,
                            "#7201a8"
                          ],
                          [
                            0.3333333333333333,
                            "#9c179e"
                          ],
                          [
                            0.4444444444444444,
                            "#bd3786"
                          ],
                          [
                            0.5555555555555556,
                            "#d8576b"
                          ],
                          [
                            0.6666666666666666,
                            "#ed7953"
                          ],
                          [
                            0.7777777777777778,
                            "#fb9f3a"
                          ],
                          [
                            0.8888888888888888,
                            "#fdca26"
                          ],
                          [
                            1,
                            "#f0f921"
                          ]
                        ],
                        "type": "contour"
                      }
                    ],
                    "contourcarpet": [
                      {
                        "colorbar": {
                          "outlinewidth": 0,
                          "ticks": ""
                        },
                        "type": "contourcarpet"
                      }
                    ],
                    "heatmap": [
                      {
                        "colorbar": {
                          "outlinewidth": 0,
                          "ticks": ""
                        },
                        "colorscale": [
                          [
                            0,
                            "#0d0887"
                          ],
                          [
                            0.1111111111111111,
                            "#46039f"
                          ],
                          [
                            0.2222222222222222,
                            "#7201a8"
                          ],
                          [
                            0.3333333333333333,
                            "#9c179e"
                          ],
                          [
                            0.4444444444444444,
                            "#bd3786"
                          ],
                          [
                            0.5555555555555556,
                            "#d8576b"
                          ],
                          [
                            0.6666666666666666,
                            "#ed7953"
                          ],
                          [
                            0.7777777777777778,
                            "#fb9f3a"
                          ],
                          [
                            0.8888888888888888,
                            "#fdca26"
                          ],
                          [
                            1,
                            "#f0f921"
                          ]
                        ],
                        "type": "heatmap"
                      }
                    ],
                    "heatmapgl": [
                      {
                        "colorbar": {
                          "outlinewidth": 0,
                          "ticks": ""
                        },
                        "colorscale": [
                          [
                            0,
                            "#0d0887"
                          ],
                          [
                            0.1111111111111111,
                            "#46039f"
                          ],
                          [
                            0.2222222222222222,
                            "#7201a8"
                          ],
                          [
                            0.3333333333333333,
                            "#9c179e"
                          ],
                          [
                            0.4444444444444444,
                            "#bd3786"
                          ],
                          [
                            0.5555555555555556,
                            "#d8576b"
                          ],
                          [
                            0.6666666666666666,
                            "#ed7953"
                          ],
                          [
                            0.7777777777777778,
                            "#fb9f3a"
                          ],
                          [
                            0.8888888888888888,
                            "#fdca26"
                          ],
                          [
                            1,
                            "#f0f921"
                          ]
                        ],
                        "type": "heatmapgl"
                      }
                    ],
                    "histogram": [
                      {
                        "marker": {
                          "pattern": {
                            "fillmode": "overlay",
                            "size": 10,
                            "solidity": 0.2
                          }
                        },
                        "type": "histogram"
                      }
                    ],
                    "histogram2d": [
                      {
                        "colorbar": {
                          "outlinewidth": 0,
                          "ticks": ""
                        },
                        "colorscale": [
                          [
                            0,
                            "#0d0887"
                          ],
                          [
                            0.1111111111111111,
                            "#46039f"
                          ],
                          [
                            0.2222222222222222,
                            "#7201a8"
                          ],
                          [
                            0.3333333333333333,
                            "#9c179e"
                          ],
                          [
                            0.4444444444444444,
                            "#bd3786"
                          ],
                          [
                            0.5555555555555556,
                            "#d8576b"
                          ],
                          [
                            0.6666666666666666,
                            "#ed7953"
                          ],
                          [
                            0.7777777777777778,
                            "#fb9f3a"
                          ],
                          [
                            0.8888888888888888,
                            "#fdca26"
                          ],
                          [
                            1,
                            "#f0f921"
                          ]
                        ],
                        "type": "histogram2d"
                      }
                    ],
                    "histogram2dcontour": [
                      {
                        "colorbar": {
                          "outlinewidth": 0,
                          "ticks": ""
                        },
                        "colorscale": [
                          [
                            0,
                            "#0d0887"
                          ],
                          [
                            0.1111111111111111,
                            "#46039f"
                          ],
                          [
                            0.2222222222222222,
                            "#7201a8"
                          ],
                          [
                            0.3333333333333333,
                            "#9c179e"
                          ],
                          [
                            0.4444444444444444,
                            "#bd3786"
                          ],
                          [
                            0.5555555555555556,
                            "#d8576b"
                          ],
                          [
                            0.6666666666666666,
                            "#ed7953"
                          ],
                          [
                            0.7777777777777778,
                            "#fb9f3a"
                          ],
                          [
                            0.8888888888888888,
                            "#fdca26"
                          ],
                          [
                            1,
                            "#f0f921"
                          ]
                        ],
                        "type": "histogram2dcontour"
                      }
                    ],
                    "mesh3d": [
                      {
                        "colorbar": {
                          "outlinewidth": 0,
                          "ticks": ""
                        },
                        "type": "mesh3d"
                      }
                    ],
                    "parcoords": [
                      {
                        "line": {
                          "colorbar": {
                            "outlinewidth": 0,
                            "ticks": ""
                          }
                        },
                        "type": "parcoords"
                      }
                    ],
                    "pie": [
                      {
                        "automargin": true,
                        "type": "pie"
                      }
                    ],
                    "scatter": [
                      {
                        "fillpattern": {
                          "fillmode": "overlay",
                          "size": 10,
                          "solidity": 0.2
                        },
                        "type": "scatter"
                      }
                    ],
                    "scatter3d": [
                      {
                        "line": {
                          "colorbar": {
                            "outlinewidth": 0,
                            "ticks": ""
                          }
                        },
                        "marker": {
                          "colorbar": {
                            "outlinewidth": 0,
                            "ticks": ""
                          }
                        },
                        "type": "scatter3d"
                      }
                    ],
                    "scattercarpet": [
                      {
                        "marker": {
                          "colorbar": {
                            "outlinewidth": 0,
                            "ticks": ""
                          }
                        },
                        "type": "scattercarpet"
                      }
                    ],
                    "scattergeo": [
                      {
                        "marker": {
                          "colorbar": {
                            "outlinewidth": 0,
                            "ticks": ""
                          }
                        },
                        "type": "scattergeo"
                      }
                    ],
                    "scattergl": [
                      {
                        "marker": {
                          "colorbar": {
                            "outlinewidth": 0,
                            "ticks": ""
                          }
                        },
                        "type": "scattergl"
                      }
                    ],
                    "scattermapbox": [
                      {
                        "marker": {
                          "colorbar": {
                            "outlinewidth": 0,
                            "ticks": ""
                          }
                        },
                        "type": "scattermapbox"
                      }
                    ],
                    "scatterpolar": [
                      {
                        "marker": {
                          "colorbar": {
                            "outlinewidth": 0,
                            "ticks": ""
                          }
                        },
                        "type": "scatterpolar"
                      }
                    ],
                    "scatterpolargl": [
                      {
                        "marker": {
                          "colorbar": {
                            "outlinewidth": 0,
                            "ticks": ""
                          }
                        },
                        "type": "scatterpolargl"
                      }
                    ],
                    "scatterternary": [
                      {
                        "marker": {
                          "colorbar": {
                            "outlinewidth": 0,
                            "ticks": ""
                          }
                        },
                        "type": "scatterternary"
                      }
                    ],
                    "surface": [
                      {
                        "colorbar": {
                          "outlinewidth": 0,
                          "ticks": ""
                        },
                        "colorscale": [
                          [
                            0,
                            "#0d0887"
                          ],
                          [
                            0.1111111111111111,
                            "#46039f"
                          ],
                          [
                            0.2222222222222222,
                            "#7201a8"
                          ],
                          [
                            0.3333333333333333,
                            "#9c179e"
                          ],
                          [
                            0.4444444444444444,
                            "#bd3786"
                          ],
                          [
                            0.5555555555555556,
                            "#d8576b"
                          ],
                          [
                            0.6666666666666666,
                            "#ed7953"
                          ],
                          [
                            0.7777777777777778,
                            "#fb9f3a"
                          ],
                          [
                            0.8888888888888888,
                            "#fdca26"
                          ],
                          [
                            1,
                            "#f0f921"
                          ]
                        ],
                        "type": "surface"
                      }
                    ],
                    "table": [
                      {
                        "cells": {
                          "fill": {
                            "color": "#EBF0F8"
                          },
                          "line": {
                            "color": "white"
                          }
                        },
                        "header": {
                          "fill": {
                            "color": "#C8D4E3"
                          },
                          "line": {
                            "color": "white"
                          }
                        },
                        "type": "table"
                      }
                    ]
                  },
                  "layout": {
                    "annotationdefaults": {
                      "arrowcolor": "#2a3f5f",
                      "arrowhead": 0,
                      "arrowwidth": 1
                    },
                    "autotypenumbers": "strict",
                    "coloraxis": {
                      "colorbar": {
                        "outlinewidth": 0,
                        "ticks": ""
                      }
                    },
                    "colorscale": {
                      "diverging": [
                        [
                          0,
                          "#8e0152"
                        ],
                        [
                          0.1,
                          "#c51b7d"
                        ],
                        [
                          0.2,
                          "#de77ae"
                        ],
                        [
                          0.3,
                          "#f1b6da"
                        ],
                        [
                          0.4,
                          "#fde0ef"
                        ],
                        [
                          0.5,
                          "#f7f7f7"
                        ],
                        [
                          0.6,
                          "#e6f5d0"
                        ],
                        [
                          0.7,
                          "#b8e186"
                        ],
                        [
                          0.8,
                          "#7fbc41"
                        ],
                        [
                          0.9,
                          "#4d9221"
                        ],
                        [
                          1,
                          "#276419"
                        ]
                      ],
                      "sequential": [
                        [
                          0,
                          "#0d0887"
                        ],
                        [
                          0.1111111111111111,
                          "#46039f"
                        ],
                        [
                          0.2222222222222222,
                          "#7201a8"
                        ],
                        [
                          0.3333333333333333,
                          "#9c179e"
                        ],
                        [
                          0.4444444444444444,
                          "#bd3786"
                        ],
                        [
                          0.5555555555555556,
                          "#d8576b"
                        ],
                        [
                          0.6666666666666666,
                          "#ed7953"
                        ],
                        [
                          0.7777777777777778,
                          "#fb9f3a"
                        ],
                        [
                          0.8888888888888888,
                          "#fdca26"
                        ],
                        [
                          1,
                          "#f0f921"
                        ]
                      ],
                      "sequentialminus": [
                        [
                          0,
                          "#0d0887"
                        ],
                        [
                          0.1111111111111111,
                          "#46039f"
                        ],
                        [
                          0.2222222222222222,
                          "#7201a8"
                        ],
                        [
                          0.3333333333333333,
                          "#9c179e"
                        ],
                        [
                          0.4444444444444444,
                          "#bd3786"
                        ],
                        [
                          0.5555555555555556,
                          "#d8576b"
                        ],
                        [
                          0.6666666666666666,
                          "#ed7953"
                        ],
                        [
                          0.7777777777777778,
                          "#fb9f3a"
                        ],
                        [
                          0.8888888888888888,
                          "#fdca26"
                        ],
                        [
                          1,
                          "#f0f921"
                        ]
                      ]
                    },
                    "colorway": [
                      "#636efa",
                      "#EF553B",
                      "#00cc96",
                      "#ab63fa",
                      "#FFA15A",
                      "#19d3f3",
                      "#FF6692",
                      "#B6E880",
                      "#FF97FF",
                      "#FECB52"
                    ],
                    "font": {
                      "color": "#2a3f5f"
                    },
                    "geo": {
                      "bgcolor": "white",
                      "lakecolor": "white",
                      "landcolor": "white",
                      "showlakes": true,
                      "showland": true,
                      "subunitcolor": "#C8D4E3"
                    },
                    "hoverlabel": {
                      "align": "left"
                    },
                    "hovermode": "closest",
                    "mapbox": {
                      "style": "light"
                    },
                    "paper_bgcolor": "white",
                    "plot_bgcolor": "white",
                    "polar": {
                      "angularaxis": {
                        "gridcolor": "#EBF0F8",
                        "linecolor": "#EBF0F8",
                        "ticks": ""
                      },
                      "bgcolor": "white",
                      "radialaxis": {
                        "gridcolor": "#EBF0F8",
                        "linecolor": "#EBF0F8",
                        "ticks": ""
                      }
                    },
                    "scene": {
                      "xaxis": {
                        "backgroundcolor": "white",
                        "gridcolor": "#DFE8F3",
                        "gridwidth": 2,
                        "linecolor": "#EBF0F8",
                        "showbackground": true,
                        "ticks": "",
                        "zerolinecolor": "#EBF0F8"
                      },
                      "yaxis": {
                        "backgroundcolor": "white",
                        "gridcolor": "#DFE8F3",
                        "gridwidth": 2,
                        "linecolor": "#EBF0F8",
                        "showbackground": true,
                        "ticks": "",
                        "zerolinecolor": "#EBF0F8"
                      },
                      "zaxis": {
                        "backgroundcolor": "white",
                        "gridcolor": "#DFE8F3",
                        "gridwidth": 2,
                        "linecolor": "#EBF0F8",
                        "showbackground": true,
                        "ticks": "",
                        "zerolinecolor": "#EBF0F8"
                      }
                    },
                    "shapedefaults": {
                      "line": {
                        "color": "#2a3f5f"
                      }
                    },
                    "ternary": {
                      "aaxis": {
                        "gridcolor": "#DFE8F3",
                        "linecolor": "#A2B1C6",
                        "ticks": ""
                      },
                      "baxis": {
                        "gridcolor": "#DFE8F3",
                        "linecolor": "#A2B1C6",
                        "ticks": ""
                      },
                      "bgcolor": "white",
                      "caxis": {
                        "gridcolor": "#DFE8F3",
                        "linecolor": "#A2B1C6",
                        "ticks": ""
                      }
                    },
                    "title": {
                      "x": 0.05
                    },
                    "xaxis": {
                      "automargin": true,
                      "gridcolor": "#EBF0F8",
                      "linecolor": "#EBF0F8",
                      "ticks": "",
                      "title": {
                        "standoff": 15
                      },
                      "zerolinecolor": "#EBF0F8",
                      "zerolinewidth": 2
                    },
                    "yaxis": {
                      "automargin": true,
                      "gridcolor": "#EBF0F8",
                      "linecolor": "#EBF0F8",
                      "ticks": "",
                      "title": {
                        "standoff": 15
                      },
                      "zerolinecolor": "#EBF0F8",
                      "zerolinewidth": 2
                    }
                  }
                },
                "title": {
                  "text": "Distribution of impressions"
                },
                "xaxis": {
                  "anchor": "y",
                  "domain": [
                    0,
                    1
                  ],
                  "title": {
                    "text": "Impressions"
                  }
                },
                "yaxis": {
                  "anchor": "x",
                  "domain": [
                    0,
                    1
                  ],
                  "title": {
                    "text": "count"
                  }
                }
              }
            }
          },
          "metadata": {},
          "output_type": "display_data"
        }
      ],
      "source": [
        "fig = px.histogram(data, x='Impressions', nbins=10, title= \"Distribution of impressions\")\n",
        "fig.show()"
      ]
    },
    {
      "cell_type": "markdown",
      "metadata": {},
      "source": [
        "**Question no: 5**"
      ]
    },
    {
      "cell_type": "code",
      "execution_count": 4,
      "metadata": {
        "colab": {
          "base_uri": "https://localhost:8080/",
          "height": 542
        },
        "id": "yfuy_N2DKs1n",
        "outputId": "9b8144fd-af58-43cd-cfc8-e73e3aac6f90"
      },
      "outputs": [
        {
          "data": {
            "application/vnd.plotly.v1+json": {
              "config": {
                "plotlyServerURL": "https://plot.ly"
              },
              "data": [
                {
                  "hovertemplate": "index=%{x}<br>Impressions=%{y}<extra></extra>",
                  "legendgroup": "",
                  "line": {
                    "color": "#636efa",
                    "dash": "solid"
                  },
                  "marker": {
                    "symbol": "circle"
                  },
                  "mode": "lines",
                  "name": "",
                  "orientation": "v",
                  "showlegend": false,
                  "type": "scatter",
                  "x": [
                    0,
                    1,
                    2,
                    3,
                    4,
                    5,
                    6,
                    7,
                    8,
                    9,
                    10,
                    11,
                    12,
                    13,
                    14,
                    15,
                    16,
                    17,
                    18,
                    19,
                    20,
                    21,
                    22,
                    23,
                    24,
                    25,
                    26,
                    27,
                    28,
                    29,
                    30,
                    31,
                    32,
                    33,
                    34,
                    35,
                    36,
                    37,
                    38,
                    39,
                    40,
                    41,
                    42,
                    43,
                    44,
                    45,
                    46,
                    47,
                    48,
                    49,
                    50,
                    51,
                    52,
                    53,
                    54,
                    55,
                    56,
                    57,
                    58,
                    59,
                    60,
                    61,
                    62,
                    63,
                    64,
                    65,
                    66,
                    67,
                    68,
                    69,
                    70,
                    71,
                    72,
                    73,
                    74,
                    75,
                    76,
                    77,
                    78,
                    79,
                    80,
                    81,
                    82,
                    83,
                    84,
                    85,
                    86,
                    87,
                    88,
                    89,
                    90,
                    91,
                    92,
                    93,
                    94,
                    95,
                    96,
                    97,
                    98,
                    99,
                    100,
                    101,
                    102,
                    103,
                    104,
                    105,
                    106,
                    107,
                    108,
                    109,
                    110,
                    111,
                    112,
                    113,
                    114,
                    115,
                    116,
                    117,
                    118
                  ],
                  "xaxis": "x",
                  "y": [
                    3920,
                    5394,
                    4021,
                    4528,
                    2518,
                    3884,
                    2621,
                    3541,
                    3749,
                    4115,
                    2218,
                    3234,
                    4344,
                    3216,
                    9453,
                    5055,
                    4002,
                    3169,
                    6168,
                    2407,
                    2064,
                    3973,
                    7281,
                    3052,
                    4628,
                    4082,
                    5394,
                    2766,
                    3924,
                    3015,
                    6666,
                    3854,
                    4355,
                    4343,
                    6108,
                    2523,
                    2327,
                    3990,
                    2191,
                    1941,
                    16062,
                    4998,
                    4289,
                    3880,
                    3786,
                    4298,
                    3630,
                    2826,
                    7407,
                    10386,
                    2998,
                    7018,
                    2941,
                    6432,
                    10667,
                    3988,
                    4978,
                    3388,
                    4467,
                    3246,
                    5072,
                    6339,
                    4239,
                    3454,
                    7571,
                    3333,
                    3818,
                    10933,
                    5058,
                    3601,
                    3480,
                    3525,
                    3606,
                    5542,
                    6559,
                    3623,
                    10493,
                    4446,
                    2957,
                    5538,
                    4681,
                    5273,
                    5055,
                    4002,
                    3169,
                    6168,
                    2407,
                    3630,
                    2826,
                    7407,
                    10386,
                    2998,
                    3052,
                    4628,
                    4082,
                    5394,
                    2766,
                    3924,
                    3015,
                    5409,
                    5323,
                    8001,
                    4150,
                    4609,
                    6348,
                    11068,
                    7231,
                    17396,
                    6814,
                    17713,
                    5563,
                    4842,
                    11149,
                    10206,
                    13700,
                    5731,
                    4139,
                    32695,
                    36919
                  ],
                  "yaxis": "y"
                }
              ],
              "layout": {
                "legend": {
                  "tracegroupgap": 0
                },
                "template": {
                  "data": {
                    "bar": [
                      {
                        "error_x": {
                          "color": "#2a3f5f"
                        },
                        "error_y": {
                          "color": "#2a3f5f"
                        },
                        "marker": {
                          "line": {
                            "color": "white",
                            "width": 0.5
                          },
                          "pattern": {
                            "fillmode": "overlay",
                            "size": 10,
                            "solidity": 0.2
                          }
                        },
                        "type": "bar"
                      }
                    ],
                    "barpolar": [
                      {
                        "marker": {
                          "line": {
                            "color": "white",
                            "width": 0.5
                          },
                          "pattern": {
                            "fillmode": "overlay",
                            "size": 10,
                            "solidity": 0.2
                          }
                        },
                        "type": "barpolar"
                      }
                    ],
                    "carpet": [
                      {
                        "aaxis": {
                          "endlinecolor": "#2a3f5f",
                          "gridcolor": "#C8D4E3",
                          "linecolor": "#C8D4E3",
                          "minorgridcolor": "#C8D4E3",
                          "startlinecolor": "#2a3f5f"
                        },
                        "baxis": {
                          "endlinecolor": "#2a3f5f",
                          "gridcolor": "#C8D4E3",
                          "linecolor": "#C8D4E3",
                          "minorgridcolor": "#C8D4E3",
                          "startlinecolor": "#2a3f5f"
                        },
                        "type": "carpet"
                      }
                    ],
                    "choropleth": [
                      {
                        "colorbar": {
                          "outlinewidth": 0,
                          "ticks": ""
                        },
                        "type": "choropleth"
                      }
                    ],
                    "contour": [
                      {
                        "colorbar": {
                          "outlinewidth": 0,
                          "ticks": ""
                        },
                        "colorscale": [
                          [
                            0,
                            "#0d0887"
                          ],
                          [
                            0.1111111111111111,
                            "#46039f"
                          ],
                          [
                            0.2222222222222222,
                            "#7201a8"
                          ],
                          [
                            0.3333333333333333,
                            "#9c179e"
                          ],
                          [
                            0.4444444444444444,
                            "#bd3786"
                          ],
                          [
                            0.5555555555555556,
                            "#d8576b"
                          ],
                          [
                            0.6666666666666666,
                            "#ed7953"
                          ],
                          [
                            0.7777777777777778,
                            "#fb9f3a"
                          ],
                          [
                            0.8888888888888888,
                            "#fdca26"
                          ],
                          [
                            1,
                            "#f0f921"
                          ]
                        ],
                        "type": "contour"
                      }
                    ],
                    "contourcarpet": [
                      {
                        "colorbar": {
                          "outlinewidth": 0,
                          "ticks": ""
                        },
                        "type": "contourcarpet"
                      }
                    ],
                    "heatmap": [
                      {
                        "colorbar": {
                          "outlinewidth": 0,
                          "ticks": ""
                        },
                        "colorscale": [
                          [
                            0,
                            "#0d0887"
                          ],
                          [
                            0.1111111111111111,
                            "#46039f"
                          ],
                          [
                            0.2222222222222222,
                            "#7201a8"
                          ],
                          [
                            0.3333333333333333,
                            "#9c179e"
                          ],
                          [
                            0.4444444444444444,
                            "#bd3786"
                          ],
                          [
                            0.5555555555555556,
                            "#d8576b"
                          ],
                          [
                            0.6666666666666666,
                            "#ed7953"
                          ],
                          [
                            0.7777777777777778,
                            "#fb9f3a"
                          ],
                          [
                            0.8888888888888888,
                            "#fdca26"
                          ],
                          [
                            1,
                            "#f0f921"
                          ]
                        ],
                        "type": "heatmap"
                      }
                    ],
                    "heatmapgl": [
                      {
                        "colorbar": {
                          "outlinewidth": 0,
                          "ticks": ""
                        },
                        "colorscale": [
                          [
                            0,
                            "#0d0887"
                          ],
                          [
                            0.1111111111111111,
                            "#46039f"
                          ],
                          [
                            0.2222222222222222,
                            "#7201a8"
                          ],
                          [
                            0.3333333333333333,
                            "#9c179e"
                          ],
                          [
                            0.4444444444444444,
                            "#bd3786"
                          ],
                          [
                            0.5555555555555556,
                            "#d8576b"
                          ],
                          [
                            0.6666666666666666,
                            "#ed7953"
                          ],
                          [
                            0.7777777777777778,
                            "#fb9f3a"
                          ],
                          [
                            0.8888888888888888,
                            "#fdca26"
                          ],
                          [
                            1,
                            "#f0f921"
                          ]
                        ],
                        "type": "heatmapgl"
                      }
                    ],
                    "histogram": [
                      {
                        "marker": {
                          "pattern": {
                            "fillmode": "overlay",
                            "size": 10,
                            "solidity": 0.2
                          }
                        },
                        "type": "histogram"
                      }
                    ],
                    "histogram2d": [
                      {
                        "colorbar": {
                          "outlinewidth": 0,
                          "ticks": ""
                        },
                        "colorscale": [
                          [
                            0,
                            "#0d0887"
                          ],
                          [
                            0.1111111111111111,
                            "#46039f"
                          ],
                          [
                            0.2222222222222222,
                            "#7201a8"
                          ],
                          [
                            0.3333333333333333,
                            "#9c179e"
                          ],
                          [
                            0.4444444444444444,
                            "#bd3786"
                          ],
                          [
                            0.5555555555555556,
                            "#d8576b"
                          ],
                          [
                            0.6666666666666666,
                            "#ed7953"
                          ],
                          [
                            0.7777777777777778,
                            "#fb9f3a"
                          ],
                          [
                            0.8888888888888888,
                            "#fdca26"
                          ],
                          [
                            1,
                            "#f0f921"
                          ]
                        ],
                        "type": "histogram2d"
                      }
                    ],
                    "histogram2dcontour": [
                      {
                        "colorbar": {
                          "outlinewidth": 0,
                          "ticks": ""
                        },
                        "colorscale": [
                          [
                            0,
                            "#0d0887"
                          ],
                          [
                            0.1111111111111111,
                            "#46039f"
                          ],
                          [
                            0.2222222222222222,
                            "#7201a8"
                          ],
                          [
                            0.3333333333333333,
                            "#9c179e"
                          ],
                          [
                            0.4444444444444444,
                            "#bd3786"
                          ],
                          [
                            0.5555555555555556,
                            "#d8576b"
                          ],
                          [
                            0.6666666666666666,
                            "#ed7953"
                          ],
                          [
                            0.7777777777777778,
                            "#fb9f3a"
                          ],
                          [
                            0.8888888888888888,
                            "#fdca26"
                          ],
                          [
                            1,
                            "#f0f921"
                          ]
                        ],
                        "type": "histogram2dcontour"
                      }
                    ],
                    "mesh3d": [
                      {
                        "colorbar": {
                          "outlinewidth": 0,
                          "ticks": ""
                        },
                        "type": "mesh3d"
                      }
                    ],
                    "parcoords": [
                      {
                        "line": {
                          "colorbar": {
                            "outlinewidth": 0,
                            "ticks": ""
                          }
                        },
                        "type": "parcoords"
                      }
                    ],
                    "pie": [
                      {
                        "automargin": true,
                        "type": "pie"
                      }
                    ],
                    "scatter": [
                      {
                        "fillpattern": {
                          "fillmode": "overlay",
                          "size": 10,
                          "solidity": 0.2
                        },
                        "type": "scatter"
                      }
                    ],
                    "scatter3d": [
                      {
                        "line": {
                          "colorbar": {
                            "outlinewidth": 0,
                            "ticks": ""
                          }
                        },
                        "marker": {
                          "colorbar": {
                            "outlinewidth": 0,
                            "ticks": ""
                          }
                        },
                        "type": "scatter3d"
                      }
                    ],
                    "scattercarpet": [
                      {
                        "marker": {
                          "colorbar": {
                            "outlinewidth": 0,
                            "ticks": ""
                          }
                        },
                        "type": "scattercarpet"
                      }
                    ],
                    "scattergeo": [
                      {
                        "marker": {
                          "colorbar": {
                            "outlinewidth": 0,
                            "ticks": ""
                          }
                        },
                        "type": "scattergeo"
                      }
                    ],
                    "scattergl": [
                      {
                        "marker": {
                          "colorbar": {
                            "outlinewidth": 0,
                            "ticks": ""
                          }
                        },
                        "type": "scattergl"
                      }
                    ],
                    "scattermapbox": [
                      {
                        "marker": {
                          "colorbar": {
                            "outlinewidth": 0,
                            "ticks": ""
                          }
                        },
                        "type": "scattermapbox"
                      }
                    ],
                    "scatterpolar": [
                      {
                        "marker": {
                          "colorbar": {
                            "outlinewidth": 0,
                            "ticks": ""
                          }
                        },
                        "type": "scatterpolar"
                      }
                    ],
                    "scatterpolargl": [
                      {
                        "marker": {
                          "colorbar": {
                            "outlinewidth": 0,
                            "ticks": ""
                          }
                        },
                        "type": "scatterpolargl"
                      }
                    ],
                    "scatterternary": [
                      {
                        "marker": {
                          "colorbar": {
                            "outlinewidth": 0,
                            "ticks": ""
                          }
                        },
                        "type": "scatterternary"
                      }
                    ],
                    "surface": [
                      {
                        "colorbar": {
                          "outlinewidth": 0,
                          "ticks": ""
                        },
                        "colorscale": [
                          [
                            0,
                            "#0d0887"
                          ],
                          [
                            0.1111111111111111,
                            "#46039f"
                          ],
                          [
                            0.2222222222222222,
                            "#7201a8"
                          ],
                          [
                            0.3333333333333333,
                            "#9c179e"
                          ],
                          [
                            0.4444444444444444,
                            "#bd3786"
                          ],
                          [
                            0.5555555555555556,
                            "#d8576b"
                          ],
                          [
                            0.6666666666666666,
                            "#ed7953"
                          ],
                          [
                            0.7777777777777778,
                            "#fb9f3a"
                          ],
                          [
                            0.8888888888888888,
                            "#fdca26"
                          ],
                          [
                            1,
                            "#f0f921"
                          ]
                        ],
                        "type": "surface"
                      }
                    ],
                    "table": [
                      {
                        "cells": {
                          "fill": {
                            "color": "#EBF0F8"
                          },
                          "line": {
                            "color": "white"
                          }
                        },
                        "header": {
                          "fill": {
                            "color": "#C8D4E3"
                          },
                          "line": {
                            "color": "white"
                          }
                        },
                        "type": "table"
                      }
                    ]
                  },
                  "layout": {
                    "annotationdefaults": {
                      "arrowcolor": "#2a3f5f",
                      "arrowhead": 0,
                      "arrowwidth": 1
                    },
                    "autotypenumbers": "strict",
                    "coloraxis": {
                      "colorbar": {
                        "outlinewidth": 0,
                        "ticks": ""
                      }
                    },
                    "colorscale": {
                      "diverging": [
                        [
                          0,
                          "#8e0152"
                        ],
                        [
                          0.1,
                          "#c51b7d"
                        ],
                        [
                          0.2,
                          "#de77ae"
                        ],
                        [
                          0.3,
                          "#f1b6da"
                        ],
                        [
                          0.4,
                          "#fde0ef"
                        ],
                        [
                          0.5,
                          "#f7f7f7"
                        ],
                        [
                          0.6,
                          "#e6f5d0"
                        ],
                        [
                          0.7,
                          "#b8e186"
                        ],
                        [
                          0.8,
                          "#7fbc41"
                        ],
                        [
                          0.9,
                          "#4d9221"
                        ],
                        [
                          1,
                          "#276419"
                        ]
                      ],
                      "sequential": [
                        [
                          0,
                          "#0d0887"
                        ],
                        [
                          0.1111111111111111,
                          "#46039f"
                        ],
                        [
                          0.2222222222222222,
                          "#7201a8"
                        ],
                        [
                          0.3333333333333333,
                          "#9c179e"
                        ],
                        [
                          0.4444444444444444,
                          "#bd3786"
                        ],
                        [
                          0.5555555555555556,
                          "#d8576b"
                        ],
                        [
                          0.6666666666666666,
                          "#ed7953"
                        ],
                        [
                          0.7777777777777778,
                          "#fb9f3a"
                        ],
                        [
                          0.8888888888888888,
                          "#fdca26"
                        ],
                        [
                          1,
                          "#f0f921"
                        ]
                      ],
                      "sequentialminus": [
                        [
                          0,
                          "#0d0887"
                        ],
                        [
                          0.1111111111111111,
                          "#46039f"
                        ],
                        [
                          0.2222222222222222,
                          "#7201a8"
                        ],
                        [
                          0.3333333333333333,
                          "#9c179e"
                        ],
                        [
                          0.4444444444444444,
                          "#bd3786"
                        ],
                        [
                          0.5555555555555556,
                          "#d8576b"
                        ],
                        [
                          0.6666666666666666,
                          "#ed7953"
                        ],
                        [
                          0.7777777777777778,
                          "#fb9f3a"
                        ],
                        [
                          0.8888888888888888,
                          "#fdca26"
                        ],
                        [
                          1,
                          "#f0f921"
                        ]
                      ]
                    },
                    "colorway": [
                      "#636efa",
                      "#EF553B",
                      "#00cc96",
                      "#ab63fa",
                      "#FFA15A",
                      "#19d3f3",
                      "#FF6692",
                      "#B6E880",
                      "#FF97FF",
                      "#FECB52"
                    ],
                    "font": {
                      "color": "#2a3f5f"
                    },
                    "geo": {
                      "bgcolor": "white",
                      "lakecolor": "white",
                      "landcolor": "white",
                      "showlakes": true,
                      "showland": true,
                      "subunitcolor": "#C8D4E3"
                    },
                    "hoverlabel": {
                      "align": "left"
                    },
                    "hovermode": "closest",
                    "mapbox": {
                      "style": "light"
                    },
                    "paper_bgcolor": "white",
                    "plot_bgcolor": "white",
                    "polar": {
                      "angularaxis": {
                        "gridcolor": "#EBF0F8",
                        "linecolor": "#EBF0F8",
                        "ticks": ""
                      },
                      "bgcolor": "white",
                      "radialaxis": {
                        "gridcolor": "#EBF0F8",
                        "linecolor": "#EBF0F8",
                        "ticks": ""
                      }
                    },
                    "scene": {
                      "xaxis": {
                        "backgroundcolor": "white",
                        "gridcolor": "#DFE8F3",
                        "gridwidth": 2,
                        "linecolor": "#EBF0F8",
                        "showbackground": true,
                        "ticks": "",
                        "zerolinecolor": "#EBF0F8"
                      },
                      "yaxis": {
                        "backgroundcolor": "white",
                        "gridcolor": "#DFE8F3",
                        "gridwidth": 2,
                        "linecolor": "#EBF0F8",
                        "showbackground": true,
                        "ticks": "",
                        "zerolinecolor": "#EBF0F8"
                      },
                      "zaxis": {
                        "backgroundcolor": "white",
                        "gridcolor": "#DFE8F3",
                        "gridwidth": 2,
                        "linecolor": "#EBF0F8",
                        "showbackground": true,
                        "ticks": "",
                        "zerolinecolor": "#EBF0F8"
                      }
                    },
                    "shapedefaults": {
                      "line": {
                        "color": "#2a3f5f"
                      }
                    },
                    "ternary": {
                      "aaxis": {
                        "gridcolor": "#DFE8F3",
                        "linecolor": "#A2B1C6",
                        "ticks": ""
                      },
                      "baxis": {
                        "gridcolor": "#DFE8F3",
                        "linecolor": "#A2B1C6",
                        "ticks": ""
                      },
                      "bgcolor": "white",
                      "caxis": {
                        "gridcolor": "#DFE8F3",
                        "linecolor": "#A2B1C6",
                        "ticks": ""
                      }
                    },
                    "title": {
                      "x": 0.05
                    },
                    "xaxis": {
                      "automargin": true,
                      "gridcolor": "#EBF0F8",
                      "linecolor": "#EBF0F8",
                      "ticks": "",
                      "title": {
                        "standoff": 15
                      },
                      "zerolinecolor": "#EBF0F8",
                      "zerolinewidth": 2
                    },
                    "yaxis": {
                      "automargin": true,
                      "gridcolor": "#EBF0F8",
                      "linecolor": "#EBF0F8",
                      "ticks": "",
                      "title": {
                        "standoff": 15
                      },
                      "zerolinecolor": "#EBF0F8",
                      "zerolinewidth": 2
                    }
                  }
                },
                "title": {
                  "text": "Impressions Over Time"
                },
                "xaxis": {
                  "anchor": "y",
                  "domain": [
                    0,
                    1
                  ],
                  "title": {
                    "text": "index"
                  }
                },
                "yaxis": {
                  "anchor": "x",
                  "domain": [
                    0,
                    1
                  ],
                  "title": {
                    "text": "Impressions"
                  }
                }
              }
            }
          },
          "metadata": {},
          "output_type": "display_data"
        }
      ],
      "source": [
        "\n",
        "fig = px.line(data, x=data.index, y='Impressions', title='Impressions Over Time')\n",
        "fig.show()"
      ]
    },
    {
      "cell_type": "code",
      "execution_count": 6,
      "metadata": {},
      "outputs": [
        {
          "ename": "SyntaxError",
          "evalue": "invalid syntax (2250554662.py, line 1)",
          "output_type": "error",
          "traceback": [
            "\u001b[1;36m  Cell \u001b[1;32mIn[6], line 1\u001b[1;36m\u001b[0m\n\u001b[1;33m    **Question no:6**\u001b[0m\n\u001b[1;37m    ^\u001b[0m\n\u001b[1;31mSyntaxError\u001b[0m\u001b[1;31m:\u001b[0m invalid syntax\n"
          ]
        }
      ],
      "source": [
        "**Question no:6**"
      ]
    },
    {
      "cell_type": "code",
      "execution_count": 5,
      "metadata": {
        "colab": {
          "base_uri": "https://localhost:8080/",
          "height": 542
        },
        "id": "ICni3mdGNj1d",
        "outputId": "84a8e7ed-d255-4f68-9f6c-1035ac48be30"
      },
      "outputs": [
        {
          "data": {
            "application/vnd.plotly.v1+json": {
              "config": {
                "plotlyServerURL": "https://plot.ly"
              },
              "data": [
                {
                  "hovertemplate": "variable=Likes<br>index=%{x}<br>value=%{y}<extra></extra>",
                  "legendgroup": "Likes",
                  "line": {
                    "color": "#636efa",
                    "dash": "solid"
                  },
                  "marker": {
                    "symbol": "circle"
                  },
                  "mode": "lines",
                  "name": "Likes",
                  "orientation": "v",
                  "showlegend": true,
                  "type": "scatter",
                  "x": [
                    0,
                    1,
                    2,
                    3,
                    4,
                    5,
                    6,
                    7,
                    8,
                    9,
                    10,
                    11,
                    12,
                    13,
                    14,
                    15,
                    16,
                    17,
                    18,
                    19,
                    20,
                    21,
                    22,
                    23,
                    24,
                    25,
                    26,
                    27,
                    28,
                    29,
                    30,
                    31,
                    32,
                    33,
                    34,
                    35,
                    36,
                    37,
                    38,
                    39,
                    40,
                    41,
                    42,
                    43,
                    44,
                    45,
                    46,
                    47,
                    48,
                    49,
                    50,
                    51,
                    52,
                    53,
                    54,
                    55,
                    56,
                    57,
                    58,
                    59,
                    60,
                    61,
                    62,
                    63,
                    64,
                    65,
                    66,
                    67,
                    68,
                    69,
                    70,
                    71,
                    72,
                    73,
                    74,
                    75,
                    76,
                    77,
                    78,
                    79,
                    80,
                    81,
                    82,
                    83,
                    84,
                    85,
                    86,
                    87,
                    88,
                    89,
                    90,
                    91,
                    92,
                    93,
                    94,
                    95,
                    96,
                    97,
                    98,
                    99,
                    100,
                    101,
                    102,
                    103,
                    104,
                    105,
                    106,
                    107,
                    108,
                    109,
                    110,
                    111,
                    112,
                    113,
                    114,
                    115,
                    116,
                    117,
                    118
                  ],
                  "xaxis": "x",
                  "y": [
                    162,
                    224,
                    131,
                    213,
                    123,
                    144,
                    76,
                    124,
                    159,
                    191,
                    81,
                    151,
                    162,
                    142,
                    294,
                    159,
                    205,
                    121,
                    151,
                    72,
                    76,
                    91,
                    195,
                    129,
                    160,
                    175,
                    147,
                    114,
                    151,
                    92,
                    214,
                    150,
                    122,
                    152,
                    196,
                    86,
                    85,
                    156,
                    72,
                    82,
                    416,
                    180,
                    150,
                    127,
                    167,
                    225,
                    137,
                    114,
                    263,
                    328,
                    126,
                    236,
                    99,
                    212,
                    297,
                    142,
                    186,
                    112,
                    149,
                    132,
                    115,
                    248,
                    178,
                    107,
                    269,
                    96,
                    134,
                    301,
                    187,
                    94,
                    114,
                    96,
                    138,
                    122,
                    257,
                    95,
                    244,
                    190,
                    118,
                    178,
                    170,
                    250,
                    159,
                    205,
                    121,
                    151,
                    72,
                    137,
                    114,
                    263,
                    328,
                    126,
                    129,
                    160,
                    175,
                    147,
                    114,
                    151,
                    92,
                    275,
                    192,
                    203,
                    145,
                    168,
                    194,
                    250,
                    171,
                    416,
                    249,
                    308,
                    163,
                    86,
                    210,
                    172,
                    373,
                    148,
                    92,
                    549,
                    443
                  ],
                  "yaxis": "y"
                },
                {
                  "hovertemplate": "variable=Saves<br>index=%{x}<br>value=%{y}<extra></extra>",
                  "legendgroup": "Saves",
                  "line": {
                    "color": "#EF553B",
                    "dash": "solid"
                  },
                  "marker": {
                    "symbol": "circle"
                  },
                  "mode": "lines",
                  "name": "Saves",
                  "orientation": "v",
                  "showlegend": true,
                  "type": "scatter",
                  "x": [
                    0,
                    1,
                    2,
                    3,
                    4,
                    5,
                    6,
                    7,
                    8,
                    9,
                    10,
                    11,
                    12,
                    13,
                    14,
                    15,
                    16,
                    17,
                    18,
                    19,
                    20,
                    21,
                    22,
                    23,
                    24,
                    25,
                    26,
                    27,
                    28,
                    29,
                    30,
                    31,
                    32,
                    33,
                    34,
                    35,
                    36,
                    37,
                    38,
                    39,
                    40,
                    41,
                    42,
                    43,
                    44,
                    45,
                    46,
                    47,
                    48,
                    49,
                    50,
                    51,
                    52,
                    53,
                    54,
                    55,
                    56,
                    57,
                    58,
                    59,
                    60,
                    61,
                    62,
                    63,
                    64,
                    65,
                    66,
                    67,
                    68,
                    69,
                    70,
                    71,
                    72,
                    73,
                    74,
                    75,
                    76,
                    77,
                    78,
                    79,
                    80,
                    81,
                    82,
                    83,
                    84,
                    85,
                    86,
                    87,
                    88,
                    89,
                    90,
                    91,
                    92,
                    93,
                    94,
                    95,
                    96,
                    97,
                    98,
                    99,
                    100,
                    101,
                    102,
                    103,
                    104,
                    105,
                    106,
                    107,
                    108,
                    109,
                    110,
                    111,
                    112,
                    113,
                    114,
                    115,
                    116,
                    117,
                    118
                  ],
                  "xaxis": "x",
                  "y": [
                    98,
                    194,
                    41,
                    172,
                    96,
                    74,
                    22,
                    135,
                    155,
                    122,
                    28,
                    122,
                    119,
                    121,
                    100,
                    101,
                    111,
                    106,
                    82,
                    40,
                    49,
                    72,
                    167,
                    63,
                    144,
                    135,
                    61,
                    40,
                    139,
                    52,
                    84,
                    81,
                    79,
                    105,
                    90,
                    34,
                    45,
                    98,
                    35,
                    49,
                    252,
                    167,
                    111,
                    90,
                    144,
                    263,
                    137,
                    67,
                    288,
                    668,
                    42,
                    342,
                    48,
                    250,
                    219,
                    118,
                    143,
                    99,
                    89,
                    148,
                    42,
                    171,
                    109,
                    38,
                    421,
                    38,
                    116,
                    225,
                    144,
                    51,
                    104,
                    33,
                    174,
                    46,
                    179,
                    34,
                    99,
                    174,
                    70,
                    149,
                    207,
                    318,
                    101,
                    111,
                    106,
                    82,
                    40,
                    137,
                    67,
                    288,
                    668,
                    42,
                    63,
                    144,
                    135,
                    61,
                    40,
                    139,
                    52,
                    393,
                    152,
                    83,
                    74,
                    94,
                    188,
                    214,
                    73,
                    285,
                    469,
                    504,
                    149,
                    55,
                    273,
                    182,
                    573,
                    135,
                    36,
                    1095,
                    653
                  ],
                  "yaxis": "y"
                },
                {
                  "hovertemplate": "variable=Follows<br>index=%{x}<br>value=%{y}<extra></extra>",
                  "legendgroup": "Follows",
                  "line": {
                    "color": "#00cc96",
                    "dash": "solid"
                  },
                  "marker": {
                    "symbol": "circle"
                  },
                  "mode": "lines",
                  "name": "Follows",
                  "orientation": "v",
                  "showlegend": true,
                  "type": "scatter",
                  "x": [
                    0,
                    1,
                    2,
                    3,
                    4,
                    5,
                    6,
                    7,
                    8,
                    9,
                    10,
                    11,
                    12,
                    13,
                    14,
                    15,
                    16,
                    17,
                    18,
                    19,
                    20,
                    21,
                    22,
                    23,
                    24,
                    25,
                    26,
                    27,
                    28,
                    29,
                    30,
                    31,
                    32,
                    33,
                    34,
                    35,
                    36,
                    37,
                    38,
                    39,
                    40,
                    41,
                    42,
                    43,
                    44,
                    45,
                    46,
                    47,
                    48,
                    49,
                    50,
                    51,
                    52,
                    53,
                    54,
                    55,
                    56,
                    57,
                    58,
                    59,
                    60,
                    61,
                    62,
                    63,
                    64,
                    65,
                    66,
                    67,
                    68,
                    69,
                    70,
                    71,
                    72,
                    73,
                    74,
                    75,
                    76,
                    77,
                    78,
                    79,
                    80,
                    81,
                    82,
                    83,
                    84,
                    85,
                    86,
                    87,
                    88,
                    89,
                    90,
                    91,
                    92,
                    93,
                    94,
                    95,
                    96,
                    97,
                    98,
                    99,
                    100,
                    101,
                    102,
                    103,
                    104,
                    105,
                    106,
                    107,
                    108,
                    109,
                    110,
                    111,
                    112,
                    113,
                    114,
                    115,
                    116,
                    117,
                    118
                  ],
                  "xaxis": "x",
                  "y": [
                    2,
                    10,
                    12,
                    8,
                    0,
                    2,
                    0,
                    6,
                    4,
                    6,
                    4,
                    0,
                    2,
                    4,
                    42,
                    6,
                    2,
                    2,
                    30,
                    0,
                    0,
                    24,
                    100,
                    2,
                    4,
                    6,
                    6,
                    6,
                    2,
                    2,
                    20,
                    2,
                    4,
                    8,
                    26,
                    2,
                    2,
                    4,
                    0,
                    2,
                    94,
                    8,
                    18,
                    10,
                    4,
                    4,
                    4,
                    4,
                    18,
                    38,
                    10,
                    12,
                    4,
                    4,
                    74,
                    0,
                    6,
                    6,
                    0,
                    6,
                    12,
                    10,
                    8,
                    8,
                    46,
                    12,
                    10,
                    94,
                    6,
                    10,
                    6,
                    4,
                    12,
                    16,
                    12,
                    8,
                    32,
                    8,
                    16,
                    6,
                    10,
                    10,
                    6,
                    2,
                    2,
                    30,
                    0,
                    4,
                    4,
                    18,
                    38,
                    10,
                    2,
                    4,
                    6,
                    6,
                    6,
                    2,
                    2,
                    14,
                    8,
                    14,
                    28,
                    18,
                    12,
                    34,
                    26,
                    260,
                    16,
                    96,
                    20,
                    30,
                    58,
                    100,
                    80,
                    18,
                    10,
                    214,
                    228
                  ],
                  "yaxis": "y"
                }
              ],
              "layout": {
                "legend": {
                  "title": {
                    "text": "variable"
                  },
                  "tracegroupgap": 0
                },
                "template": {
                  "data": {
                    "bar": [
                      {
                        "error_x": {
                          "color": "#2a3f5f"
                        },
                        "error_y": {
                          "color": "#2a3f5f"
                        },
                        "marker": {
                          "line": {
                            "color": "white",
                            "width": 0.5
                          },
                          "pattern": {
                            "fillmode": "overlay",
                            "size": 10,
                            "solidity": 0.2
                          }
                        },
                        "type": "bar"
                      }
                    ],
                    "barpolar": [
                      {
                        "marker": {
                          "line": {
                            "color": "white",
                            "width": 0.5
                          },
                          "pattern": {
                            "fillmode": "overlay",
                            "size": 10,
                            "solidity": 0.2
                          }
                        },
                        "type": "barpolar"
                      }
                    ],
                    "carpet": [
                      {
                        "aaxis": {
                          "endlinecolor": "#2a3f5f",
                          "gridcolor": "#C8D4E3",
                          "linecolor": "#C8D4E3",
                          "minorgridcolor": "#C8D4E3",
                          "startlinecolor": "#2a3f5f"
                        },
                        "baxis": {
                          "endlinecolor": "#2a3f5f",
                          "gridcolor": "#C8D4E3",
                          "linecolor": "#C8D4E3",
                          "minorgridcolor": "#C8D4E3",
                          "startlinecolor": "#2a3f5f"
                        },
                        "type": "carpet"
                      }
                    ],
                    "choropleth": [
                      {
                        "colorbar": {
                          "outlinewidth": 0,
                          "ticks": ""
                        },
                        "type": "choropleth"
                      }
                    ],
                    "contour": [
                      {
                        "colorbar": {
                          "outlinewidth": 0,
                          "ticks": ""
                        },
                        "colorscale": [
                          [
                            0,
                            "#0d0887"
                          ],
                          [
                            0.1111111111111111,
                            "#46039f"
                          ],
                          [
                            0.2222222222222222,
                            "#7201a8"
                          ],
                          [
                            0.3333333333333333,
                            "#9c179e"
                          ],
                          [
                            0.4444444444444444,
                            "#bd3786"
                          ],
                          [
                            0.5555555555555556,
                            "#d8576b"
                          ],
                          [
                            0.6666666666666666,
                            "#ed7953"
                          ],
                          [
                            0.7777777777777778,
                            "#fb9f3a"
                          ],
                          [
                            0.8888888888888888,
                            "#fdca26"
                          ],
                          [
                            1,
                            "#f0f921"
                          ]
                        ],
                        "type": "contour"
                      }
                    ],
                    "contourcarpet": [
                      {
                        "colorbar": {
                          "outlinewidth": 0,
                          "ticks": ""
                        },
                        "type": "contourcarpet"
                      }
                    ],
                    "heatmap": [
                      {
                        "colorbar": {
                          "outlinewidth": 0,
                          "ticks": ""
                        },
                        "colorscale": [
                          [
                            0,
                            "#0d0887"
                          ],
                          [
                            0.1111111111111111,
                            "#46039f"
                          ],
                          [
                            0.2222222222222222,
                            "#7201a8"
                          ],
                          [
                            0.3333333333333333,
                            "#9c179e"
                          ],
                          [
                            0.4444444444444444,
                            "#bd3786"
                          ],
                          [
                            0.5555555555555556,
                            "#d8576b"
                          ],
                          [
                            0.6666666666666666,
                            "#ed7953"
                          ],
                          [
                            0.7777777777777778,
                            "#fb9f3a"
                          ],
                          [
                            0.8888888888888888,
                            "#fdca26"
                          ],
                          [
                            1,
                            "#f0f921"
                          ]
                        ],
                        "type": "heatmap"
                      }
                    ],
                    "heatmapgl": [
                      {
                        "colorbar": {
                          "outlinewidth": 0,
                          "ticks": ""
                        },
                        "colorscale": [
                          [
                            0,
                            "#0d0887"
                          ],
                          [
                            0.1111111111111111,
                            "#46039f"
                          ],
                          [
                            0.2222222222222222,
                            "#7201a8"
                          ],
                          [
                            0.3333333333333333,
                            "#9c179e"
                          ],
                          [
                            0.4444444444444444,
                            "#bd3786"
                          ],
                          [
                            0.5555555555555556,
                            "#d8576b"
                          ],
                          [
                            0.6666666666666666,
                            "#ed7953"
                          ],
                          [
                            0.7777777777777778,
                            "#fb9f3a"
                          ],
                          [
                            0.8888888888888888,
                            "#fdca26"
                          ],
                          [
                            1,
                            "#f0f921"
                          ]
                        ],
                        "type": "heatmapgl"
                      }
                    ],
                    "histogram": [
                      {
                        "marker": {
                          "pattern": {
                            "fillmode": "overlay",
                            "size": 10,
                            "solidity": 0.2
                          }
                        },
                        "type": "histogram"
                      }
                    ],
                    "histogram2d": [
                      {
                        "colorbar": {
                          "outlinewidth": 0,
                          "ticks": ""
                        },
                        "colorscale": [
                          [
                            0,
                            "#0d0887"
                          ],
                          [
                            0.1111111111111111,
                            "#46039f"
                          ],
                          [
                            0.2222222222222222,
                            "#7201a8"
                          ],
                          [
                            0.3333333333333333,
                            "#9c179e"
                          ],
                          [
                            0.4444444444444444,
                            "#bd3786"
                          ],
                          [
                            0.5555555555555556,
                            "#d8576b"
                          ],
                          [
                            0.6666666666666666,
                            "#ed7953"
                          ],
                          [
                            0.7777777777777778,
                            "#fb9f3a"
                          ],
                          [
                            0.8888888888888888,
                            "#fdca26"
                          ],
                          [
                            1,
                            "#f0f921"
                          ]
                        ],
                        "type": "histogram2d"
                      }
                    ],
                    "histogram2dcontour": [
                      {
                        "colorbar": {
                          "outlinewidth": 0,
                          "ticks": ""
                        },
                        "colorscale": [
                          [
                            0,
                            "#0d0887"
                          ],
                          [
                            0.1111111111111111,
                            "#46039f"
                          ],
                          [
                            0.2222222222222222,
                            "#7201a8"
                          ],
                          [
                            0.3333333333333333,
                            "#9c179e"
                          ],
                          [
                            0.4444444444444444,
                            "#bd3786"
                          ],
                          [
                            0.5555555555555556,
                            "#d8576b"
                          ],
                          [
                            0.6666666666666666,
                            "#ed7953"
                          ],
                          [
                            0.7777777777777778,
                            "#fb9f3a"
                          ],
                          [
                            0.8888888888888888,
                            "#fdca26"
                          ],
                          [
                            1,
                            "#f0f921"
                          ]
                        ],
                        "type": "histogram2dcontour"
                      }
                    ],
                    "mesh3d": [
                      {
                        "colorbar": {
                          "outlinewidth": 0,
                          "ticks": ""
                        },
                        "type": "mesh3d"
                      }
                    ],
                    "parcoords": [
                      {
                        "line": {
                          "colorbar": {
                            "outlinewidth": 0,
                            "ticks": ""
                          }
                        },
                        "type": "parcoords"
                      }
                    ],
                    "pie": [
                      {
                        "automargin": true,
                        "type": "pie"
                      }
                    ],
                    "scatter": [
                      {
                        "fillpattern": {
                          "fillmode": "overlay",
                          "size": 10,
                          "solidity": 0.2
                        },
                        "type": "scatter"
                      }
                    ],
                    "scatter3d": [
                      {
                        "line": {
                          "colorbar": {
                            "outlinewidth": 0,
                            "ticks": ""
                          }
                        },
                        "marker": {
                          "colorbar": {
                            "outlinewidth": 0,
                            "ticks": ""
                          }
                        },
                        "type": "scatter3d"
                      }
                    ],
                    "scattercarpet": [
                      {
                        "marker": {
                          "colorbar": {
                            "outlinewidth": 0,
                            "ticks": ""
                          }
                        },
                        "type": "scattercarpet"
                      }
                    ],
                    "scattergeo": [
                      {
                        "marker": {
                          "colorbar": {
                            "outlinewidth": 0,
                            "ticks": ""
                          }
                        },
                        "type": "scattergeo"
                      }
                    ],
                    "scattergl": [
                      {
                        "marker": {
                          "colorbar": {
                            "outlinewidth": 0,
                            "ticks": ""
                          }
                        },
                        "type": "scattergl"
                      }
                    ],
                    "scattermapbox": [
                      {
                        "marker": {
                          "colorbar": {
                            "outlinewidth": 0,
                            "ticks": ""
                          }
                        },
                        "type": "scattermapbox"
                      }
                    ],
                    "scatterpolar": [
                      {
                        "marker": {
                          "colorbar": {
                            "outlinewidth": 0,
                            "ticks": ""
                          }
                        },
                        "type": "scatterpolar"
                      }
                    ],
                    "scatterpolargl": [
                      {
                        "marker": {
                          "colorbar": {
                            "outlinewidth": 0,
                            "ticks": ""
                          }
                        },
                        "type": "scatterpolargl"
                      }
                    ],
                    "scatterternary": [
                      {
                        "marker": {
                          "colorbar": {
                            "outlinewidth": 0,
                            "ticks": ""
                          }
                        },
                        "type": "scatterternary"
                      }
                    ],
                    "surface": [
                      {
                        "colorbar": {
                          "outlinewidth": 0,
                          "ticks": ""
                        },
                        "colorscale": [
                          [
                            0,
                            "#0d0887"
                          ],
                          [
                            0.1111111111111111,
                            "#46039f"
                          ],
                          [
                            0.2222222222222222,
                            "#7201a8"
                          ],
                          [
                            0.3333333333333333,
                            "#9c179e"
                          ],
                          [
                            0.4444444444444444,
                            "#bd3786"
                          ],
                          [
                            0.5555555555555556,
                            "#d8576b"
                          ],
                          [
                            0.6666666666666666,
                            "#ed7953"
                          ],
                          [
                            0.7777777777777778,
                            "#fb9f3a"
                          ],
                          [
                            0.8888888888888888,
                            "#fdca26"
                          ],
                          [
                            1,
                            "#f0f921"
                          ]
                        ],
                        "type": "surface"
                      }
                    ],
                    "table": [
                      {
                        "cells": {
                          "fill": {
                            "color": "#EBF0F8"
                          },
                          "line": {
                            "color": "white"
                          }
                        },
                        "header": {
                          "fill": {
                            "color": "#C8D4E3"
                          },
                          "line": {
                            "color": "white"
                          }
                        },
                        "type": "table"
                      }
                    ]
                  },
                  "layout": {
                    "annotationdefaults": {
                      "arrowcolor": "#2a3f5f",
                      "arrowhead": 0,
                      "arrowwidth": 1
                    },
                    "autotypenumbers": "strict",
                    "coloraxis": {
                      "colorbar": {
                        "outlinewidth": 0,
                        "ticks": ""
                      }
                    },
                    "colorscale": {
                      "diverging": [
                        [
                          0,
                          "#8e0152"
                        ],
                        [
                          0.1,
                          "#c51b7d"
                        ],
                        [
                          0.2,
                          "#de77ae"
                        ],
                        [
                          0.3,
                          "#f1b6da"
                        ],
                        [
                          0.4,
                          "#fde0ef"
                        ],
                        [
                          0.5,
                          "#f7f7f7"
                        ],
                        [
                          0.6,
                          "#e6f5d0"
                        ],
                        [
                          0.7,
                          "#b8e186"
                        ],
                        [
                          0.8,
                          "#7fbc41"
                        ],
                        [
                          0.9,
                          "#4d9221"
                        ],
                        [
                          1,
                          "#276419"
                        ]
                      ],
                      "sequential": [
                        [
                          0,
                          "#0d0887"
                        ],
                        [
                          0.1111111111111111,
                          "#46039f"
                        ],
                        [
                          0.2222222222222222,
                          "#7201a8"
                        ],
                        [
                          0.3333333333333333,
                          "#9c179e"
                        ],
                        [
                          0.4444444444444444,
                          "#bd3786"
                        ],
                        [
                          0.5555555555555556,
                          "#d8576b"
                        ],
                        [
                          0.6666666666666666,
                          "#ed7953"
                        ],
                        [
                          0.7777777777777778,
                          "#fb9f3a"
                        ],
                        [
                          0.8888888888888888,
                          "#fdca26"
                        ],
                        [
                          1,
                          "#f0f921"
                        ]
                      ],
                      "sequentialminus": [
                        [
                          0,
                          "#0d0887"
                        ],
                        [
                          0.1111111111111111,
                          "#46039f"
                        ],
                        [
                          0.2222222222222222,
                          "#7201a8"
                        ],
                        [
                          0.3333333333333333,
                          "#9c179e"
                        ],
                        [
                          0.4444444444444444,
                          "#bd3786"
                        ],
                        [
                          0.5555555555555556,
                          "#d8576b"
                        ],
                        [
                          0.6666666666666666,
                          "#ed7953"
                        ],
                        [
                          0.7777777777777778,
                          "#fb9f3a"
                        ],
                        [
                          0.8888888888888888,
                          "#fdca26"
                        ],
                        [
                          1,
                          "#f0f921"
                        ]
                      ]
                    },
                    "colorway": [
                      "#636efa",
                      "#EF553B",
                      "#00cc96",
                      "#ab63fa",
                      "#FFA15A",
                      "#19d3f3",
                      "#FF6692",
                      "#B6E880",
                      "#FF97FF",
                      "#FECB52"
                    ],
                    "font": {
                      "color": "#2a3f5f"
                    },
                    "geo": {
                      "bgcolor": "white",
                      "lakecolor": "white",
                      "landcolor": "white",
                      "showlakes": true,
                      "showland": true,
                      "subunitcolor": "#C8D4E3"
                    },
                    "hoverlabel": {
                      "align": "left"
                    },
                    "hovermode": "closest",
                    "mapbox": {
                      "style": "light"
                    },
                    "paper_bgcolor": "white",
                    "plot_bgcolor": "white",
                    "polar": {
                      "angularaxis": {
                        "gridcolor": "#EBF0F8",
                        "linecolor": "#EBF0F8",
                        "ticks": ""
                      },
                      "bgcolor": "white",
                      "radialaxis": {
                        "gridcolor": "#EBF0F8",
                        "linecolor": "#EBF0F8",
                        "ticks": ""
                      }
                    },
                    "scene": {
                      "xaxis": {
                        "backgroundcolor": "white",
                        "gridcolor": "#DFE8F3",
                        "gridwidth": 2,
                        "linecolor": "#EBF0F8",
                        "showbackground": true,
                        "ticks": "",
                        "zerolinecolor": "#EBF0F8"
                      },
                      "yaxis": {
                        "backgroundcolor": "white",
                        "gridcolor": "#DFE8F3",
                        "gridwidth": 2,
                        "linecolor": "#EBF0F8",
                        "showbackground": true,
                        "ticks": "",
                        "zerolinecolor": "#EBF0F8"
                      },
                      "zaxis": {
                        "backgroundcolor": "white",
                        "gridcolor": "#DFE8F3",
                        "gridwidth": 2,
                        "linecolor": "#EBF0F8",
                        "showbackground": true,
                        "ticks": "",
                        "zerolinecolor": "#EBF0F8"
                      }
                    },
                    "shapedefaults": {
                      "line": {
                        "color": "#2a3f5f"
                      }
                    },
                    "ternary": {
                      "aaxis": {
                        "gridcolor": "#DFE8F3",
                        "linecolor": "#A2B1C6",
                        "ticks": ""
                      },
                      "baxis": {
                        "gridcolor": "#DFE8F3",
                        "linecolor": "#A2B1C6",
                        "ticks": ""
                      },
                      "bgcolor": "white",
                      "caxis": {
                        "gridcolor": "#DFE8F3",
                        "linecolor": "#A2B1C6",
                        "ticks": ""
                      }
                    },
                    "title": {
                      "x": 0.05
                    },
                    "xaxis": {
                      "automargin": true,
                      "gridcolor": "#EBF0F8",
                      "linecolor": "#EBF0F8",
                      "ticks": "",
                      "title": {
                        "standoff": 15
                      },
                      "zerolinecolor": "#EBF0F8",
                      "zerolinewidth": 2
                    },
                    "yaxis": {
                      "automargin": true,
                      "gridcolor": "#EBF0F8",
                      "linecolor": "#EBF0F8",
                      "ticks": "",
                      "title": {
                        "standoff": 15
                      },
                      "zerolinecolor": "#EBF0F8",
                      "zerolinewidth": 2
                    }
                  }
                },
                "title": {
                  "text": "Metrices Over Time"
                },
                "xaxis": {
                  "anchor": "y",
                  "domain": [
                    0,
                    1
                  ],
                  "title": {
                    "text": "index"
                  }
                },
                "yaxis": {
                  "anchor": "x",
                  "domain": [
                    0,
                    1
                  ],
                  "title": {
                    "text": "value"
                  }
                }
              }
            }
          },
          "metadata": {},
          "output_type": "display_data"
        }
      ],
      "source": [
        "fig = px.line(data, x=data.index, y=['Likes', 'Saves', 'Follows'], title='Metrices Over Time')\n",
        "fig.show()"
      ]
    },
    {
      "cell_type": "markdown",
      "metadata": {},
      "source": [
        "**Question no: 7**"
      ]
    },
    {
      "cell_type": "code",
      "execution_count": 8,
      "metadata": {
        "id": "KlSBh8w9OIy_"
      },
      "outputs": [],
      "source": [
        "reach_data = data[['From Hashtags', 'From Home', 'From Other', 'From Explore']].sum()"
      ]
    },
    {
      "cell_type": "code",
      "execution_count": 9,
      "metadata": {
        "colab": {
          "base_uri": "https://localhost:8080/"
        },
        "id": "vbXbH-OjTCA9",
        "outputId": "465b95bb-57f7-41f6-d44a-ae5a4842c756"
      },
      "outputs": [
        {
          "data": {
            "text/plain": [
              "From Hashtags    224614\n",
              "From Home        294619\n",
              "From Other        20360\n",
              "From Explore     128294\n",
              "dtype: int64"
            ]
          },
          "execution_count": 9,
          "metadata": {},
          "output_type": "execute_result"
        }
      ],
      "source": [
        "reach_data.head()"
      ]
    },
    {
      "cell_type": "code",
      "execution_count": 10,
      "metadata": {
        "colab": {
          "base_uri": "https://localhost:8080/",
          "height": 542
        },
        "id": "S6JR1UyOTmGq",
        "outputId": "991a2786-4138-451c-d371-ab8d0dada150"
      },
      "outputs": [
        {
          "data": {
            "application/vnd.plotly.v1+json": {
              "config": {
                "plotlyServerURL": "https://plot.ly"
              },
              "data": [
                {
                  "domain": {
                    "x": [
                      0,
                      1
                    ],
                    "y": [
                      0,
                      1
                    ]
                  },
                  "hovertemplate": "index=%{label}<br>value=%{value}<extra></extra>",
                  "labels": [
                    "From Hashtags",
                    "From Home",
                    "From Other",
                    "From Explore"
                  ],
                  "legendgroup": "",
                  "name": "",
                  "showlegend": true,
                  "type": "pie",
                  "values": [
                    224614,
                    294619,
                    20360,
                    128294
                  ]
                }
              ],
              "layout": {
                "legend": {
                  "tracegroupgap": 0
                },
                "template": {
                  "data": {
                    "bar": [
                      {
                        "error_x": {
                          "color": "#2a3f5f"
                        },
                        "error_y": {
                          "color": "#2a3f5f"
                        },
                        "marker": {
                          "line": {
                            "color": "white",
                            "width": 0.5
                          },
                          "pattern": {
                            "fillmode": "overlay",
                            "size": 10,
                            "solidity": 0.2
                          }
                        },
                        "type": "bar"
                      }
                    ],
                    "barpolar": [
                      {
                        "marker": {
                          "line": {
                            "color": "white",
                            "width": 0.5
                          },
                          "pattern": {
                            "fillmode": "overlay",
                            "size": 10,
                            "solidity": 0.2
                          }
                        },
                        "type": "barpolar"
                      }
                    ],
                    "carpet": [
                      {
                        "aaxis": {
                          "endlinecolor": "#2a3f5f",
                          "gridcolor": "#C8D4E3",
                          "linecolor": "#C8D4E3",
                          "minorgridcolor": "#C8D4E3",
                          "startlinecolor": "#2a3f5f"
                        },
                        "baxis": {
                          "endlinecolor": "#2a3f5f",
                          "gridcolor": "#C8D4E3",
                          "linecolor": "#C8D4E3",
                          "minorgridcolor": "#C8D4E3",
                          "startlinecolor": "#2a3f5f"
                        },
                        "type": "carpet"
                      }
                    ],
                    "choropleth": [
                      {
                        "colorbar": {
                          "outlinewidth": 0,
                          "ticks": ""
                        },
                        "type": "choropleth"
                      }
                    ],
                    "contour": [
                      {
                        "colorbar": {
                          "outlinewidth": 0,
                          "ticks": ""
                        },
                        "colorscale": [
                          [
                            0,
                            "#0d0887"
                          ],
                          [
                            0.1111111111111111,
                            "#46039f"
                          ],
                          [
                            0.2222222222222222,
                            "#7201a8"
                          ],
                          [
                            0.3333333333333333,
                            "#9c179e"
                          ],
                          [
                            0.4444444444444444,
                            "#bd3786"
                          ],
                          [
                            0.5555555555555556,
                            "#d8576b"
                          ],
                          [
                            0.6666666666666666,
                            "#ed7953"
                          ],
                          [
                            0.7777777777777778,
                            "#fb9f3a"
                          ],
                          [
                            0.8888888888888888,
                            "#fdca26"
                          ],
                          [
                            1,
                            "#f0f921"
                          ]
                        ],
                        "type": "contour"
                      }
                    ],
                    "contourcarpet": [
                      {
                        "colorbar": {
                          "outlinewidth": 0,
                          "ticks": ""
                        },
                        "type": "contourcarpet"
                      }
                    ],
                    "heatmap": [
                      {
                        "colorbar": {
                          "outlinewidth": 0,
                          "ticks": ""
                        },
                        "colorscale": [
                          [
                            0,
                            "#0d0887"
                          ],
                          [
                            0.1111111111111111,
                            "#46039f"
                          ],
                          [
                            0.2222222222222222,
                            "#7201a8"
                          ],
                          [
                            0.3333333333333333,
                            "#9c179e"
                          ],
                          [
                            0.4444444444444444,
                            "#bd3786"
                          ],
                          [
                            0.5555555555555556,
                            "#d8576b"
                          ],
                          [
                            0.6666666666666666,
                            "#ed7953"
                          ],
                          [
                            0.7777777777777778,
                            "#fb9f3a"
                          ],
                          [
                            0.8888888888888888,
                            "#fdca26"
                          ],
                          [
                            1,
                            "#f0f921"
                          ]
                        ],
                        "type": "heatmap"
                      }
                    ],
                    "heatmapgl": [
                      {
                        "colorbar": {
                          "outlinewidth": 0,
                          "ticks": ""
                        },
                        "colorscale": [
                          [
                            0,
                            "#0d0887"
                          ],
                          [
                            0.1111111111111111,
                            "#46039f"
                          ],
                          [
                            0.2222222222222222,
                            "#7201a8"
                          ],
                          [
                            0.3333333333333333,
                            "#9c179e"
                          ],
                          [
                            0.4444444444444444,
                            "#bd3786"
                          ],
                          [
                            0.5555555555555556,
                            "#d8576b"
                          ],
                          [
                            0.6666666666666666,
                            "#ed7953"
                          ],
                          [
                            0.7777777777777778,
                            "#fb9f3a"
                          ],
                          [
                            0.8888888888888888,
                            "#fdca26"
                          ],
                          [
                            1,
                            "#f0f921"
                          ]
                        ],
                        "type": "heatmapgl"
                      }
                    ],
                    "histogram": [
                      {
                        "marker": {
                          "pattern": {
                            "fillmode": "overlay",
                            "size": 10,
                            "solidity": 0.2
                          }
                        },
                        "type": "histogram"
                      }
                    ],
                    "histogram2d": [
                      {
                        "colorbar": {
                          "outlinewidth": 0,
                          "ticks": ""
                        },
                        "colorscale": [
                          [
                            0,
                            "#0d0887"
                          ],
                          [
                            0.1111111111111111,
                            "#46039f"
                          ],
                          [
                            0.2222222222222222,
                            "#7201a8"
                          ],
                          [
                            0.3333333333333333,
                            "#9c179e"
                          ],
                          [
                            0.4444444444444444,
                            "#bd3786"
                          ],
                          [
                            0.5555555555555556,
                            "#d8576b"
                          ],
                          [
                            0.6666666666666666,
                            "#ed7953"
                          ],
                          [
                            0.7777777777777778,
                            "#fb9f3a"
                          ],
                          [
                            0.8888888888888888,
                            "#fdca26"
                          ],
                          [
                            1,
                            "#f0f921"
                          ]
                        ],
                        "type": "histogram2d"
                      }
                    ],
                    "histogram2dcontour": [
                      {
                        "colorbar": {
                          "outlinewidth": 0,
                          "ticks": ""
                        },
                        "colorscale": [
                          [
                            0,
                            "#0d0887"
                          ],
                          [
                            0.1111111111111111,
                            "#46039f"
                          ],
                          [
                            0.2222222222222222,
                            "#7201a8"
                          ],
                          [
                            0.3333333333333333,
                            "#9c179e"
                          ],
                          [
                            0.4444444444444444,
                            "#bd3786"
                          ],
                          [
                            0.5555555555555556,
                            "#d8576b"
                          ],
                          [
                            0.6666666666666666,
                            "#ed7953"
                          ],
                          [
                            0.7777777777777778,
                            "#fb9f3a"
                          ],
                          [
                            0.8888888888888888,
                            "#fdca26"
                          ],
                          [
                            1,
                            "#f0f921"
                          ]
                        ],
                        "type": "histogram2dcontour"
                      }
                    ],
                    "mesh3d": [
                      {
                        "colorbar": {
                          "outlinewidth": 0,
                          "ticks": ""
                        },
                        "type": "mesh3d"
                      }
                    ],
                    "parcoords": [
                      {
                        "line": {
                          "colorbar": {
                            "outlinewidth": 0,
                            "ticks": ""
                          }
                        },
                        "type": "parcoords"
                      }
                    ],
                    "pie": [
                      {
                        "automargin": true,
                        "type": "pie"
                      }
                    ],
                    "scatter": [
                      {
                        "fillpattern": {
                          "fillmode": "overlay",
                          "size": 10,
                          "solidity": 0.2
                        },
                        "type": "scatter"
                      }
                    ],
                    "scatter3d": [
                      {
                        "line": {
                          "colorbar": {
                            "outlinewidth": 0,
                            "ticks": ""
                          }
                        },
                        "marker": {
                          "colorbar": {
                            "outlinewidth": 0,
                            "ticks": ""
                          }
                        },
                        "type": "scatter3d"
                      }
                    ],
                    "scattercarpet": [
                      {
                        "marker": {
                          "colorbar": {
                            "outlinewidth": 0,
                            "ticks": ""
                          }
                        },
                        "type": "scattercarpet"
                      }
                    ],
                    "scattergeo": [
                      {
                        "marker": {
                          "colorbar": {
                            "outlinewidth": 0,
                            "ticks": ""
                          }
                        },
                        "type": "scattergeo"
                      }
                    ],
                    "scattergl": [
                      {
                        "marker": {
                          "colorbar": {
                            "outlinewidth": 0,
                            "ticks": ""
                          }
                        },
                        "type": "scattergl"
                      }
                    ],
                    "scattermapbox": [
                      {
                        "marker": {
                          "colorbar": {
                            "outlinewidth": 0,
                            "ticks": ""
                          }
                        },
                        "type": "scattermapbox"
                      }
                    ],
                    "scatterpolar": [
                      {
                        "marker": {
                          "colorbar": {
                            "outlinewidth": 0,
                            "ticks": ""
                          }
                        },
                        "type": "scatterpolar"
                      }
                    ],
                    "scatterpolargl": [
                      {
                        "marker": {
                          "colorbar": {
                            "outlinewidth": 0,
                            "ticks": ""
                          }
                        },
                        "type": "scatterpolargl"
                      }
                    ],
                    "scatterternary": [
                      {
                        "marker": {
                          "colorbar": {
                            "outlinewidth": 0,
                            "ticks": ""
                          }
                        },
                        "type": "scatterternary"
                      }
                    ],
                    "surface": [
                      {
                        "colorbar": {
                          "outlinewidth": 0,
                          "ticks": ""
                        },
                        "colorscale": [
                          [
                            0,
                            "#0d0887"
                          ],
                          [
                            0.1111111111111111,
                            "#46039f"
                          ],
                          [
                            0.2222222222222222,
                            "#7201a8"
                          ],
                          [
                            0.3333333333333333,
                            "#9c179e"
                          ],
                          [
                            0.4444444444444444,
                            "#bd3786"
                          ],
                          [
                            0.5555555555555556,
                            "#d8576b"
                          ],
                          [
                            0.6666666666666666,
                            "#ed7953"
                          ],
                          [
                            0.7777777777777778,
                            "#fb9f3a"
                          ],
                          [
                            0.8888888888888888,
                            "#fdca26"
                          ],
                          [
                            1,
                            "#f0f921"
                          ]
                        ],
                        "type": "surface"
                      }
                    ],
                    "table": [
                      {
                        "cells": {
                          "fill": {
                            "color": "#EBF0F8"
                          },
                          "line": {
                            "color": "white"
                          }
                        },
                        "header": {
                          "fill": {
                            "color": "#C8D4E3"
                          },
                          "line": {
                            "color": "white"
                          }
                        },
                        "type": "table"
                      }
                    ]
                  },
                  "layout": {
                    "annotationdefaults": {
                      "arrowcolor": "#2a3f5f",
                      "arrowhead": 0,
                      "arrowwidth": 1
                    },
                    "autotypenumbers": "strict",
                    "coloraxis": {
                      "colorbar": {
                        "outlinewidth": 0,
                        "ticks": ""
                      }
                    },
                    "colorscale": {
                      "diverging": [
                        [
                          0,
                          "#8e0152"
                        ],
                        [
                          0.1,
                          "#c51b7d"
                        ],
                        [
                          0.2,
                          "#de77ae"
                        ],
                        [
                          0.3,
                          "#f1b6da"
                        ],
                        [
                          0.4,
                          "#fde0ef"
                        ],
                        [
                          0.5,
                          "#f7f7f7"
                        ],
                        [
                          0.6,
                          "#e6f5d0"
                        ],
                        [
                          0.7,
                          "#b8e186"
                        ],
                        [
                          0.8,
                          "#7fbc41"
                        ],
                        [
                          0.9,
                          "#4d9221"
                        ],
                        [
                          1,
                          "#276419"
                        ]
                      ],
                      "sequential": [
                        [
                          0,
                          "#0d0887"
                        ],
                        [
                          0.1111111111111111,
                          "#46039f"
                        ],
                        [
                          0.2222222222222222,
                          "#7201a8"
                        ],
                        [
                          0.3333333333333333,
                          "#9c179e"
                        ],
                        [
                          0.4444444444444444,
                          "#bd3786"
                        ],
                        [
                          0.5555555555555556,
                          "#d8576b"
                        ],
                        [
                          0.6666666666666666,
                          "#ed7953"
                        ],
                        [
                          0.7777777777777778,
                          "#fb9f3a"
                        ],
                        [
                          0.8888888888888888,
                          "#fdca26"
                        ],
                        [
                          1,
                          "#f0f921"
                        ]
                      ],
                      "sequentialminus": [
                        [
                          0,
                          "#0d0887"
                        ],
                        [
                          0.1111111111111111,
                          "#46039f"
                        ],
                        [
                          0.2222222222222222,
                          "#7201a8"
                        ],
                        [
                          0.3333333333333333,
                          "#9c179e"
                        ],
                        [
                          0.4444444444444444,
                          "#bd3786"
                        ],
                        [
                          0.5555555555555556,
                          "#d8576b"
                        ],
                        [
                          0.6666666666666666,
                          "#ed7953"
                        ],
                        [
                          0.7777777777777778,
                          "#fb9f3a"
                        ],
                        [
                          0.8888888888888888,
                          "#fdca26"
                        ],
                        [
                          1,
                          "#f0f921"
                        ]
                      ]
                    },
                    "colorway": [
                      "#636efa",
                      "#EF553B",
                      "#00cc96",
                      "#ab63fa",
                      "#FFA15A",
                      "#19d3f3",
                      "#FF6692",
                      "#B6E880",
                      "#FF97FF",
                      "#FECB52"
                    ],
                    "font": {
                      "color": "#2a3f5f"
                    },
                    "geo": {
                      "bgcolor": "white",
                      "lakecolor": "white",
                      "landcolor": "white",
                      "showlakes": true,
                      "showland": true,
                      "subunitcolor": "#C8D4E3"
                    },
                    "hoverlabel": {
                      "align": "left"
                    },
                    "hovermode": "closest",
                    "mapbox": {
                      "style": "light"
                    },
                    "paper_bgcolor": "white",
                    "plot_bgcolor": "white",
                    "polar": {
                      "angularaxis": {
                        "gridcolor": "#EBF0F8",
                        "linecolor": "#EBF0F8",
                        "ticks": ""
                      },
                      "bgcolor": "white",
                      "radialaxis": {
                        "gridcolor": "#EBF0F8",
                        "linecolor": "#EBF0F8",
                        "ticks": ""
                      }
                    },
                    "scene": {
                      "xaxis": {
                        "backgroundcolor": "white",
                        "gridcolor": "#DFE8F3",
                        "gridwidth": 2,
                        "linecolor": "#EBF0F8",
                        "showbackground": true,
                        "ticks": "",
                        "zerolinecolor": "#EBF0F8"
                      },
                      "yaxis": {
                        "backgroundcolor": "white",
                        "gridcolor": "#DFE8F3",
                        "gridwidth": 2,
                        "linecolor": "#EBF0F8",
                        "showbackground": true,
                        "ticks": "",
                        "zerolinecolor": "#EBF0F8"
                      },
                      "zaxis": {
                        "backgroundcolor": "white",
                        "gridcolor": "#DFE8F3",
                        "gridwidth": 2,
                        "linecolor": "#EBF0F8",
                        "showbackground": true,
                        "ticks": "",
                        "zerolinecolor": "#EBF0F8"
                      }
                    },
                    "shapedefaults": {
                      "line": {
                        "color": "#2a3f5f"
                      }
                    },
                    "ternary": {
                      "aaxis": {
                        "gridcolor": "#DFE8F3",
                        "linecolor": "#A2B1C6",
                        "ticks": ""
                      },
                      "baxis": {
                        "gridcolor": "#DFE8F3",
                        "linecolor": "#A2B1C6",
                        "ticks": ""
                      },
                      "bgcolor": "white",
                      "caxis": {
                        "gridcolor": "#DFE8F3",
                        "linecolor": "#A2B1C6",
                        "ticks": ""
                      }
                    },
                    "title": {
                      "x": 0.05
                    },
                    "xaxis": {
                      "automargin": true,
                      "gridcolor": "#EBF0F8",
                      "linecolor": "#EBF0F8",
                      "ticks": "",
                      "title": {
                        "standoff": 15
                      },
                      "zerolinecolor": "#EBF0F8",
                      "zerolinewidth": 2
                    },
                    "yaxis": {
                      "automargin": true,
                      "gridcolor": "#EBF0F8",
                      "linecolor": "#EBF0F8",
                      "ticks": "",
                      "title": {
                        "standoff": 15
                      },
                      "zerolinecolor": "#EBF0F8",
                      "zerolinewidth": 2
                    }
                  }
                },
                "title": {
                  "text": "Reach from Different Sources"
                }
              }
            }
          },
          "metadata": {},
          "output_type": "display_data"
        }
      ],
      "source": [
        "fig = px.pie(reach_data, values=reach_data.values, names=reach_data.index, title='Reach from Different Sources')\n",
        "fig.show()"
      ]
    },
    {
      "cell_type": "markdown",
      "metadata": {},
      "source": [
        "**Question no: 8**"
      ]
    },
    {
      "cell_type": "code",
      "execution_count": 11,
      "metadata": {
        "colab": {
          "base_uri": "https://localhost:8080/",
          "height": 542
        },
        "id": "WrjPBBJWT2NW",
        "outputId": "42f58fda-fc7a-482e-a347-268918931769"
      },
      "outputs": [
        {
          "data": {
            "application/vnd.plotly.v1+json": {
              "config": {
                "plotlyServerURL": "https://plot.ly"
              },
              "data": [
                {
                  "domain": {
                    "x": [
                      0,
                      1
                    ],
                    "y": [
                      0,
                      1
                    ]
                  },
                  "hovertemplate": "index=%{label}<br>value=%{value}<extra></extra>",
                  "labels": [
                    "Likes",
                    "Saves",
                    "Shares",
                    "Comments"
                  ],
                  "legendgroup": "",
                  "name": "",
                  "showlegend": true,
                  "type": "pie",
                  "values": [
                    20680,
                    18244,
                    1114,
                    793
                  ]
                }
              ],
              "layout": {
                "legend": {
                  "tracegroupgap": 0
                },
                "template": {
                  "data": {
                    "bar": [
                      {
                        "error_x": {
                          "color": "#2a3f5f"
                        },
                        "error_y": {
                          "color": "#2a3f5f"
                        },
                        "marker": {
                          "line": {
                            "color": "white",
                            "width": 0.5
                          },
                          "pattern": {
                            "fillmode": "overlay",
                            "size": 10,
                            "solidity": 0.2
                          }
                        },
                        "type": "bar"
                      }
                    ],
                    "barpolar": [
                      {
                        "marker": {
                          "line": {
                            "color": "white",
                            "width": 0.5
                          },
                          "pattern": {
                            "fillmode": "overlay",
                            "size": 10,
                            "solidity": 0.2
                          }
                        },
                        "type": "barpolar"
                      }
                    ],
                    "carpet": [
                      {
                        "aaxis": {
                          "endlinecolor": "#2a3f5f",
                          "gridcolor": "#C8D4E3",
                          "linecolor": "#C8D4E3",
                          "minorgridcolor": "#C8D4E3",
                          "startlinecolor": "#2a3f5f"
                        },
                        "baxis": {
                          "endlinecolor": "#2a3f5f",
                          "gridcolor": "#C8D4E3",
                          "linecolor": "#C8D4E3",
                          "minorgridcolor": "#C8D4E3",
                          "startlinecolor": "#2a3f5f"
                        },
                        "type": "carpet"
                      }
                    ],
                    "choropleth": [
                      {
                        "colorbar": {
                          "outlinewidth": 0,
                          "ticks": ""
                        },
                        "type": "choropleth"
                      }
                    ],
                    "contour": [
                      {
                        "colorbar": {
                          "outlinewidth": 0,
                          "ticks": ""
                        },
                        "colorscale": [
                          [
                            0,
                            "#0d0887"
                          ],
                          [
                            0.1111111111111111,
                            "#46039f"
                          ],
                          [
                            0.2222222222222222,
                            "#7201a8"
                          ],
                          [
                            0.3333333333333333,
                            "#9c179e"
                          ],
                          [
                            0.4444444444444444,
                            "#bd3786"
                          ],
                          [
                            0.5555555555555556,
                            "#d8576b"
                          ],
                          [
                            0.6666666666666666,
                            "#ed7953"
                          ],
                          [
                            0.7777777777777778,
                            "#fb9f3a"
                          ],
                          [
                            0.8888888888888888,
                            "#fdca26"
                          ],
                          [
                            1,
                            "#f0f921"
                          ]
                        ],
                        "type": "contour"
                      }
                    ],
                    "contourcarpet": [
                      {
                        "colorbar": {
                          "outlinewidth": 0,
                          "ticks": ""
                        },
                        "type": "contourcarpet"
                      }
                    ],
                    "heatmap": [
                      {
                        "colorbar": {
                          "outlinewidth": 0,
                          "ticks": ""
                        },
                        "colorscale": [
                          [
                            0,
                            "#0d0887"
                          ],
                          [
                            0.1111111111111111,
                            "#46039f"
                          ],
                          [
                            0.2222222222222222,
                            "#7201a8"
                          ],
                          [
                            0.3333333333333333,
                            "#9c179e"
                          ],
                          [
                            0.4444444444444444,
                            "#bd3786"
                          ],
                          [
                            0.5555555555555556,
                            "#d8576b"
                          ],
                          [
                            0.6666666666666666,
                            "#ed7953"
                          ],
                          [
                            0.7777777777777778,
                            "#fb9f3a"
                          ],
                          [
                            0.8888888888888888,
                            "#fdca26"
                          ],
                          [
                            1,
                            "#f0f921"
                          ]
                        ],
                        "type": "heatmap"
                      }
                    ],
                    "heatmapgl": [
                      {
                        "colorbar": {
                          "outlinewidth": 0,
                          "ticks": ""
                        },
                        "colorscale": [
                          [
                            0,
                            "#0d0887"
                          ],
                          [
                            0.1111111111111111,
                            "#46039f"
                          ],
                          [
                            0.2222222222222222,
                            "#7201a8"
                          ],
                          [
                            0.3333333333333333,
                            "#9c179e"
                          ],
                          [
                            0.4444444444444444,
                            "#bd3786"
                          ],
                          [
                            0.5555555555555556,
                            "#d8576b"
                          ],
                          [
                            0.6666666666666666,
                            "#ed7953"
                          ],
                          [
                            0.7777777777777778,
                            "#fb9f3a"
                          ],
                          [
                            0.8888888888888888,
                            "#fdca26"
                          ],
                          [
                            1,
                            "#f0f921"
                          ]
                        ],
                        "type": "heatmapgl"
                      }
                    ],
                    "histogram": [
                      {
                        "marker": {
                          "pattern": {
                            "fillmode": "overlay",
                            "size": 10,
                            "solidity": 0.2
                          }
                        },
                        "type": "histogram"
                      }
                    ],
                    "histogram2d": [
                      {
                        "colorbar": {
                          "outlinewidth": 0,
                          "ticks": ""
                        },
                        "colorscale": [
                          [
                            0,
                            "#0d0887"
                          ],
                          [
                            0.1111111111111111,
                            "#46039f"
                          ],
                          [
                            0.2222222222222222,
                            "#7201a8"
                          ],
                          [
                            0.3333333333333333,
                            "#9c179e"
                          ],
                          [
                            0.4444444444444444,
                            "#bd3786"
                          ],
                          [
                            0.5555555555555556,
                            "#d8576b"
                          ],
                          [
                            0.6666666666666666,
                            "#ed7953"
                          ],
                          [
                            0.7777777777777778,
                            "#fb9f3a"
                          ],
                          [
                            0.8888888888888888,
                            "#fdca26"
                          ],
                          [
                            1,
                            "#f0f921"
                          ]
                        ],
                        "type": "histogram2d"
                      }
                    ],
                    "histogram2dcontour": [
                      {
                        "colorbar": {
                          "outlinewidth": 0,
                          "ticks": ""
                        },
                        "colorscale": [
                          [
                            0,
                            "#0d0887"
                          ],
                          [
                            0.1111111111111111,
                            "#46039f"
                          ],
                          [
                            0.2222222222222222,
                            "#7201a8"
                          ],
                          [
                            0.3333333333333333,
                            "#9c179e"
                          ],
                          [
                            0.4444444444444444,
                            "#bd3786"
                          ],
                          [
                            0.5555555555555556,
                            "#d8576b"
                          ],
                          [
                            0.6666666666666666,
                            "#ed7953"
                          ],
                          [
                            0.7777777777777778,
                            "#fb9f3a"
                          ],
                          [
                            0.8888888888888888,
                            "#fdca26"
                          ],
                          [
                            1,
                            "#f0f921"
                          ]
                        ],
                        "type": "histogram2dcontour"
                      }
                    ],
                    "mesh3d": [
                      {
                        "colorbar": {
                          "outlinewidth": 0,
                          "ticks": ""
                        },
                        "type": "mesh3d"
                      }
                    ],
                    "parcoords": [
                      {
                        "line": {
                          "colorbar": {
                            "outlinewidth": 0,
                            "ticks": ""
                          }
                        },
                        "type": "parcoords"
                      }
                    ],
                    "pie": [
                      {
                        "automargin": true,
                        "type": "pie"
                      }
                    ],
                    "scatter": [
                      {
                        "fillpattern": {
                          "fillmode": "overlay",
                          "size": 10,
                          "solidity": 0.2
                        },
                        "type": "scatter"
                      }
                    ],
                    "scatter3d": [
                      {
                        "line": {
                          "colorbar": {
                            "outlinewidth": 0,
                            "ticks": ""
                          }
                        },
                        "marker": {
                          "colorbar": {
                            "outlinewidth": 0,
                            "ticks": ""
                          }
                        },
                        "type": "scatter3d"
                      }
                    ],
                    "scattercarpet": [
                      {
                        "marker": {
                          "colorbar": {
                            "outlinewidth": 0,
                            "ticks": ""
                          }
                        },
                        "type": "scattercarpet"
                      }
                    ],
                    "scattergeo": [
                      {
                        "marker": {
                          "colorbar": {
                            "outlinewidth": 0,
                            "ticks": ""
                          }
                        },
                        "type": "scattergeo"
                      }
                    ],
                    "scattergl": [
                      {
                        "marker": {
                          "colorbar": {
                            "outlinewidth": 0,
                            "ticks": ""
                          }
                        },
                        "type": "scattergl"
                      }
                    ],
                    "scattermapbox": [
                      {
                        "marker": {
                          "colorbar": {
                            "outlinewidth": 0,
                            "ticks": ""
                          }
                        },
                        "type": "scattermapbox"
                      }
                    ],
                    "scatterpolar": [
                      {
                        "marker": {
                          "colorbar": {
                            "outlinewidth": 0,
                            "ticks": ""
                          }
                        },
                        "type": "scatterpolar"
                      }
                    ],
                    "scatterpolargl": [
                      {
                        "marker": {
                          "colorbar": {
                            "outlinewidth": 0,
                            "ticks": ""
                          }
                        },
                        "type": "scatterpolargl"
                      }
                    ],
                    "scatterternary": [
                      {
                        "marker": {
                          "colorbar": {
                            "outlinewidth": 0,
                            "ticks": ""
                          }
                        },
                        "type": "scatterternary"
                      }
                    ],
                    "surface": [
                      {
                        "colorbar": {
                          "outlinewidth": 0,
                          "ticks": ""
                        },
                        "colorscale": [
                          [
                            0,
                            "#0d0887"
                          ],
                          [
                            0.1111111111111111,
                            "#46039f"
                          ],
                          [
                            0.2222222222222222,
                            "#7201a8"
                          ],
                          [
                            0.3333333333333333,
                            "#9c179e"
                          ],
                          [
                            0.4444444444444444,
                            "#bd3786"
                          ],
                          [
                            0.5555555555555556,
                            "#d8576b"
                          ],
                          [
                            0.6666666666666666,
                            "#ed7953"
                          ],
                          [
                            0.7777777777777778,
                            "#fb9f3a"
                          ],
                          [
                            0.8888888888888888,
                            "#fdca26"
                          ],
                          [
                            1,
                            "#f0f921"
                          ]
                        ],
                        "type": "surface"
                      }
                    ],
                    "table": [
                      {
                        "cells": {
                          "fill": {
                            "color": "#EBF0F8"
                          },
                          "line": {
                            "color": "white"
                          }
                        },
                        "header": {
                          "fill": {
                            "color": "#C8D4E3"
                          },
                          "line": {
                            "color": "white"
                          }
                        },
                        "type": "table"
                      }
                    ]
                  },
                  "layout": {
                    "annotationdefaults": {
                      "arrowcolor": "#2a3f5f",
                      "arrowhead": 0,
                      "arrowwidth": 1
                    },
                    "autotypenumbers": "strict",
                    "coloraxis": {
                      "colorbar": {
                        "outlinewidth": 0,
                        "ticks": ""
                      }
                    },
                    "colorscale": {
                      "diverging": [
                        [
                          0,
                          "#8e0152"
                        ],
                        [
                          0.1,
                          "#c51b7d"
                        ],
                        [
                          0.2,
                          "#de77ae"
                        ],
                        [
                          0.3,
                          "#f1b6da"
                        ],
                        [
                          0.4,
                          "#fde0ef"
                        ],
                        [
                          0.5,
                          "#f7f7f7"
                        ],
                        [
                          0.6,
                          "#e6f5d0"
                        ],
                        [
                          0.7,
                          "#b8e186"
                        ],
                        [
                          0.8,
                          "#7fbc41"
                        ],
                        [
                          0.9,
                          "#4d9221"
                        ],
                        [
                          1,
                          "#276419"
                        ]
                      ],
                      "sequential": [
                        [
                          0,
                          "#0d0887"
                        ],
                        [
                          0.1111111111111111,
                          "#46039f"
                        ],
                        [
                          0.2222222222222222,
                          "#7201a8"
                        ],
                        [
                          0.3333333333333333,
                          "#9c179e"
                        ],
                        [
                          0.4444444444444444,
                          "#bd3786"
                        ],
                        [
                          0.5555555555555556,
                          "#d8576b"
                        ],
                        [
                          0.6666666666666666,
                          "#ed7953"
                        ],
                        [
                          0.7777777777777778,
                          "#fb9f3a"
                        ],
                        [
                          0.8888888888888888,
                          "#fdca26"
                        ],
                        [
                          1,
                          "#f0f921"
                        ]
                      ],
                      "sequentialminus": [
                        [
                          0,
                          "#0d0887"
                        ],
                        [
                          0.1111111111111111,
                          "#46039f"
                        ],
                        [
                          0.2222222222222222,
                          "#7201a8"
                        ],
                        [
                          0.3333333333333333,
                          "#9c179e"
                        ],
                        [
                          0.4444444444444444,
                          "#bd3786"
                        ],
                        [
                          0.5555555555555556,
                          "#d8576b"
                        ],
                        [
                          0.6666666666666666,
                          "#ed7953"
                        ],
                        [
                          0.7777777777777778,
                          "#fb9f3a"
                        ],
                        [
                          0.8888888888888888,
                          "#fdca26"
                        ],
                        [
                          1,
                          "#f0f921"
                        ]
                      ]
                    },
                    "colorway": [
                      "#636efa",
                      "#EF553B",
                      "#00cc96",
                      "#ab63fa",
                      "#FFA15A",
                      "#19d3f3",
                      "#FF6692",
                      "#B6E880",
                      "#FF97FF",
                      "#FECB52"
                    ],
                    "font": {
                      "color": "#2a3f5f"
                    },
                    "geo": {
                      "bgcolor": "white",
                      "lakecolor": "white",
                      "landcolor": "white",
                      "showlakes": true,
                      "showland": true,
                      "subunitcolor": "#C8D4E3"
                    },
                    "hoverlabel": {
                      "align": "left"
                    },
                    "hovermode": "closest",
                    "mapbox": {
                      "style": "light"
                    },
                    "paper_bgcolor": "white",
                    "plot_bgcolor": "white",
                    "polar": {
                      "angularaxis": {
                        "gridcolor": "#EBF0F8",
                        "linecolor": "#EBF0F8",
                        "ticks": ""
                      },
                      "bgcolor": "white",
                      "radialaxis": {
                        "gridcolor": "#EBF0F8",
                        "linecolor": "#EBF0F8",
                        "ticks": ""
                      }
                    },
                    "scene": {
                      "xaxis": {
                        "backgroundcolor": "white",
                        "gridcolor": "#DFE8F3",
                        "gridwidth": 2,
                        "linecolor": "#EBF0F8",
                        "showbackground": true,
                        "ticks": "",
                        "zerolinecolor": "#EBF0F8"
                      },
                      "yaxis": {
                        "backgroundcolor": "white",
                        "gridcolor": "#DFE8F3",
                        "gridwidth": 2,
                        "linecolor": "#EBF0F8",
                        "showbackground": true,
                        "ticks": "",
                        "zerolinecolor": "#EBF0F8"
                      },
                      "zaxis": {
                        "backgroundcolor": "white",
                        "gridcolor": "#DFE8F3",
                        "gridwidth": 2,
                        "linecolor": "#EBF0F8",
                        "showbackground": true,
                        "ticks": "",
                        "zerolinecolor": "#EBF0F8"
                      }
                    },
                    "shapedefaults": {
                      "line": {
                        "color": "#2a3f5f"
                      }
                    },
                    "ternary": {
                      "aaxis": {
                        "gridcolor": "#DFE8F3",
                        "linecolor": "#A2B1C6",
                        "ticks": ""
                      },
                      "baxis": {
                        "gridcolor": "#DFE8F3",
                        "linecolor": "#A2B1C6",
                        "ticks": ""
                      },
                      "bgcolor": "white",
                      "caxis": {
                        "gridcolor": "#DFE8F3",
                        "linecolor": "#A2B1C6",
                        "ticks": ""
                      }
                    },
                    "title": {
                      "x": 0.05
                    },
                    "xaxis": {
                      "automargin": true,
                      "gridcolor": "#EBF0F8",
                      "linecolor": "#EBF0F8",
                      "ticks": "",
                      "title": {
                        "standoff": 15
                      },
                      "zerolinecolor": "#EBF0F8",
                      "zerolinewidth": 2
                    },
                    "yaxis": {
                      "automargin": true,
                      "gridcolor": "#EBF0F8",
                      "linecolor": "#EBF0F8",
                      "ticks": "",
                      "title": {
                        "standoff": 15
                      },
                      "zerolinecolor": "#EBF0F8",
                      "zerolinewidth": 2
                    }
                  }
                },
                "title": {
                  "text": "Engagemnet Sources"
                }
              }
            }
          },
          "metadata": {},
          "output_type": "display_data"
        }
      ],
      "source": [
        "engagement_sources = data[['Likes', 'Saves', 'Shares', 'Comments']].sum()\n",
        "\n",
        "fig = px.pie(engagement_sources, values=engagement_sources.values, names=engagement_sources.index, title='Engagemnet Sources')\n",
        "fig.show()"
      ]
    },
    {
      "cell_type": "markdown",
      "metadata": {},
      "source": [
        "**Question no: 9**"
      ]
    },
    {
      "cell_type": "code",
      "execution_count": 21,
      "metadata": {
        "colab": {
          "base_uri": "https://localhost:8080/",
          "height": 542
        },
        "id": "nqF2sXWEaIW0",
        "outputId": "7410d1d1-f422-4ebf-be9f-cc3a1b2b6db1"
      },
      "outputs": [
        {
          "data": {
            "application/vnd.plotly.v1+json": {
              "config": {
                "plotlyServerURL": "https://plot.ly"
              },
              "data": [
                {
                  "hovertemplate": "Profile Visits=%{x}<br>Follows=%{y}<extra></extra>",
                  "legendgroup": "",
                  "marker": {
                    "color": "#636efa",
                    "symbol": "circle"
                  },
                  "mode": "markers",
                  "name": "",
                  "orientation": "v",
                  "showlegend": false,
                  "type": "scatter",
                  "x": [
                    35,
                    48,
                    62,
                    23,
                    8,
                    9,
                    26,
                    12,
                    36,
                    31,
                    29,
                    15,
                    8,
                    20,
                    181,
                    17,
                    16,
                    21,
                    77,
                    10,
                    9,
                    11,
                    144,
                    14,
                    10,
                    19,
                    69,
                    11,
                    19,
                    9,
                    57,
                    13,
                    11,
                    24,
                    81,
                    4,
                    7,
                    14,
                    18,
                    8,
                    330,
                    21,
                    19,
                    32,
                    19,
                    21,
                    14,
                    30,
                    39,
                    42,
                    31,
                    20,
                    12,
                    22,
                    306,
                    13,
                    26,
                    16,
                    15,
                    15,
                    39,
                    21,
                    8,
                    45,
                    50,
                    37,
                    25,
                    347,
                    26,
                    48,
                    16,
                    26,
                    17,
                    52,
                    22,
                    41,
                    155,
                    12,
                    22,
                    20,
                    23,
                    25,
                    17,
                    16,
                    21,
                    77,
                    10,
                    14,
                    30,
                    39,
                    42,
                    31,
                    14,
                    10,
                    19,
                    69,
                    11,
                    19,
                    9,
                    38,
                    42,
                    92,
                    75,
                    21,
                    26,
                    39,
                    74,
                    467,
                    24,
                    70,
                    22,
                    46,
                    61,
                    237,
                    73,
                    20,
                    34,
                    148,
                    611
                  ],
                  "xaxis": "x",
                  "y": [
                    2,
                    10,
                    12,
                    8,
                    0,
                    2,
                    0,
                    6,
                    4,
                    6,
                    4,
                    0,
                    2,
                    4,
                    42,
                    6,
                    2,
                    2,
                    30,
                    0,
                    0,
                    24,
                    100,
                    2,
                    4,
                    6,
                    6,
                    6,
                    2,
                    2,
                    20,
                    2,
                    4,
                    8,
                    26,
                    2,
                    2,
                    4,
                    0,
                    2,
                    94,
                    8,
                    18,
                    10,
                    4,
                    4,
                    4,
                    4,
                    18,
                    38,
                    10,
                    12,
                    4,
                    4,
                    74,
                    0,
                    6,
                    6,
                    0,
                    6,
                    12,
                    10,
                    8,
                    8,
                    46,
                    12,
                    10,
                    94,
                    6,
                    10,
                    6,
                    4,
                    12,
                    16,
                    12,
                    8,
                    32,
                    8,
                    16,
                    6,
                    10,
                    10,
                    6,
                    2,
                    2,
                    30,
                    0,
                    4,
                    4,
                    18,
                    38,
                    10,
                    2,
                    4,
                    6,
                    6,
                    6,
                    2,
                    2,
                    14,
                    8,
                    14,
                    28,
                    18,
                    12,
                    34,
                    26,
                    260,
                    16,
                    96,
                    20,
                    30,
                    58,
                    100,
                    80,
                    18,
                    10,
                    214,
                    228
                  ],
                  "yaxis": "y"
                },
                {
                  "hovertemplate": "<b>OLS trendline</b><br>Follows = 0.400884 * Profile Visits + 0.46283<br>R<sup>2</sup>=0.727868<br><br>Profile Visits=%{x}<br>Follows=%{y} <b>(trend)</b><extra></extra>",
                  "legendgroup": "",
                  "marker": {
                    "color": "#636efa",
                    "symbol": "circle"
                  },
                  "mode": "lines",
                  "name": "",
                  "showlegend": false,
                  "type": "scatter",
                  "x": [
                    4,
                    7,
                    8,
                    8,
                    8,
                    8,
                    9,
                    9,
                    9,
                    9,
                    10,
                    10,
                    10,
                    10,
                    11,
                    11,
                    11,
                    11,
                    12,
                    12,
                    12,
                    13,
                    13,
                    14,
                    14,
                    14,
                    14,
                    14,
                    15,
                    15,
                    15,
                    16,
                    16,
                    16,
                    16,
                    17,
                    17,
                    17,
                    18,
                    19,
                    19,
                    19,
                    19,
                    19,
                    19,
                    20,
                    20,
                    20,
                    20,
                    21,
                    21,
                    21,
                    21,
                    21,
                    21,
                    22,
                    22,
                    22,
                    22,
                    23,
                    23,
                    24,
                    24,
                    25,
                    25,
                    26,
                    26,
                    26,
                    26,
                    26,
                    29,
                    30,
                    30,
                    31,
                    31,
                    31,
                    32,
                    34,
                    35,
                    36,
                    37,
                    38,
                    39,
                    39,
                    39,
                    39,
                    41,
                    42,
                    42,
                    42,
                    45,
                    46,
                    48,
                    48,
                    50,
                    52,
                    57,
                    61,
                    62,
                    69,
                    69,
                    70,
                    73,
                    74,
                    75,
                    77,
                    77,
                    81,
                    92,
                    144,
                    148,
                    155,
                    181,
                    237,
                    306,
                    330,
                    347,
                    467,
                    611
                  ],
                  "xaxis": "x",
                  "y": [
                    2.066365070422533,
                    3.269016056338026,
                    3.669899718309857,
                    3.669899718309857,
                    3.669899718309857,
                    3.669899718309857,
                    4.0707833802816875,
                    4.0707833802816875,
                    4.0707833802816875,
                    4.0707833802816875,
                    4.471667042253519,
                    4.471667042253519,
                    4.471667042253519,
                    4.471667042253519,
                    4.87255070422535,
                    4.87255070422535,
                    4.87255070422535,
                    4.87255070422535,
                    5.273434366197181,
                    5.273434366197181,
                    5.273434366197181,
                    5.6743180281690115,
                    5.6743180281690115,
                    6.075201690140843,
                    6.075201690140843,
                    6.075201690140843,
                    6.075201690140843,
                    6.075201690140843,
                    6.476085352112674,
                    6.476085352112674,
                    6.476085352112674,
                    6.876969014084505,
                    6.876969014084505,
                    6.876969014084505,
                    6.876969014084505,
                    7.277852676056336,
                    7.277852676056336,
                    7.277852676056336,
                    7.678736338028167,
                    8.079619999999998,
                    8.079619999999998,
                    8.079619999999998,
                    8.079619999999998,
                    8.079619999999998,
                    8.079619999999998,
                    8.480503661971829,
                    8.480503661971829,
                    8.480503661971829,
                    8.480503661971829,
                    8.88138732394366,
                    8.88138732394366,
                    8.88138732394366,
                    8.88138732394366,
                    8.88138732394366,
                    8.88138732394366,
                    9.282270985915492,
                    9.282270985915492,
                    9.282270985915492,
                    9.282270985915492,
                    9.683154647887322,
                    9.683154647887322,
                    10.084038309859153,
                    10.084038309859153,
                    10.484921971830984,
                    10.484921971830984,
                    10.885805633802814,
                    10.885805633802814,
                    10.885805633802814,
                    10.885805633802814,
                    10.885805633802814,
                    12.088456619718308,
                    12.48934028169014,
                    12.48934028169014,
                    12.89022394366197,
                    12.89022394366197,
                    12.89022394366197,
                    13.291107605633801,
                    14.092874929577462,
                    14.493758591549295,
                    14.894642253521125,
                    15.295525915492956,
                    15.696409577464788,
                    16.097293239436617,
                    16.097293239436617,
                    16.097293239436617,
                    16.097293239436617,
                    16.89906056338028,
                    17.29994422535211,
                    17.29994422535211,
                    17.29994422535211,
                    18.502595211267604,
                    18.903478873239436,
                    19.705246197183097,
                    19.705246197183097,
                    20.50701352112676,
                    21.30878084507042,
                    23.313199154929578,
                    24.9167338028169,
                    25.317617464788732,
                    28.123803098591548,
                    28.123803098591548,
                    28.52468676056338,
                    29.727337746478874,
                    30.128221408450703,
                    30.529105070422535,
                    31.330872394366196,
                    31.330872394366196,
                    32.934407042253525,
                    37.34412732394367,
                    58.19007774647888,
                    59.79361239436619,
                    62.59979802816902,
                    73.02277323943662,
                    95.47225830985916,
                    123.13323098591549,
                    132.75443887323945,
                    139.56946112676056,
                    187.6755005633803,
                    245.40274788732395
                  ],
                  "yaxis": "y"
                }
              ],
              "layout": {
                "legend": {
                  "tracegroupgap": 0
                },
                "template": {
                  "data": {
                    "bar": [
                      {
                        "error_x": {
                          "color": "#2a3f5f"
                        },
                        "error_y": {
                          "color": "#2a3f5f"
                        },
                        "marker": {
                          "line": {
                            "color": "white",
                            "width": 0.5
                          },
                          "pattern": {
                            "fillmode": "overlay",
                            "size": 10,
                            "solidity": 0.2
                          }
                        },
                        "type": "bar"
                      }
                    ],
                    "barpolar": [
                      {
                        "marker": {
                          "line": {
                            "color": "white",
                            "width": 0.5
                          },
                          "pattern": {
                            "fillmode": "overlay",
                            "size": 10,
                            "solidity": 0.2
                          }
                        },
                        "type": "barpolar"
                      }
                    ],
                    "carpet": [
                      {
                        "aaxis": {
                          "endlinecolor": "#2a3f5f",
                          "gridcolor": "#C8D4E3",
                          "linecolor": "#C8D4E3",
                          "minorgridcolor": "#C8D4E3",
                          "startlinecolor": "#2a3f5f"
                        },
                        "baxis": {
                          "endlinecolor": "#2a3f5f",
                          "gridcolor": "#C8D4E3",
                          "linecolor": "#C8D4E3",
                          "minorgridcolor": "#C8D4E3",
                          "startlinecolor": "#2a3f5f"
                        },
                        "type": "carpet"
                      }
                    ],
                    "choropleth": [
                      {
                        "colorbar": {
                          "outlinewidth": 0,
                          "ticks": ""
                        },
                        "type": "choropleth"
                      }
                    ],
                    "contour": [
                      {
                        "colorbar": {
                          "outlinewidth": 0,
                          "ticks": ""
                        },
                        "colorscale": [
                          [
                            0,
                            "#0d0887"
                          ],
                          [
                            0.1111111111111111,
                            "#46039f"
                          ],
                          [
                            0.2222222222222222,
                            "#7201a8"
                          ],
                          [
                            0.3333333333333333,
                            "#9c179e"
                          ],
                          [
                            0.4444444444444444,
                            "#bd3786"
                          ],
                          [
                            0.5555555555555556,
                            "#d8576b"
                          ],
                          [
                            0.6666666666666666,
                            "#ed7953"
                          ],
                          [
                            0.7777777777777778,
                            "#fb9f3a"
                          ],
                          [
                            0.8888888888888888,
                            "#fdca26"
                          ],
                          [
                            1,
                            "#f0f921"
                          ]
                        ],
                        "type": "contour"
                      }
                    ],
                    "contourcarpet": [
                      {
                        "colorbar": {
                          "outlinewidth": 0,
                          "ticks": ""
                        },
                        "type": "contourcarpet"
                      }
                    ],
                    "heatmap": [
                      {
                        "colorbar": {
                          "outlinewidth": 0,
                          "ticks": ""
                        },
                        "colorscale": [
                          [
                            0,
                            "#0d0887"
                          ],
                          [
                            0.1111111111111111,
                            "#46039f"
                          ],
                          [
                            0.2222222222222222,
                            "#7201a8"
                          ],
                          [
                            0.3333333333333333,
                            "#9c179e"
                          ],
                          [
                            0.4444444444444444,
                            "#bd3786"
                          ],
                          [
                            0.5555555555555556,
                            "#d8576b"
                          ],
                          [
                            0.6666666666666666,
                            "#ed7953"
                          ],
                          [
                            0.7777777777777778,
                            "#fb9f3a"
                          ],
                          [
                            0.8888888888888888,
                            "#fdca26"
                          ],
                          [
                            1,
                            "#f0f921"
                          ]
                        ],
                        "type": "heatmap"
                      }
                    ],
                    "heatmapgl": [
                      {
                        "colorbar": {
                          "outlinewidth": 0,
                          "ticks": ""
                        },
                        "colorscale": [
                          [
                            0,
                            "#0d0887"
                          ],
                          [
                            0.1111111111111111,
                            "#46039f"
                          ],
                          [
                            0.2222222222222222,
                            "#7201a8"
                          ],
                          [
                            0.3333333333333333,
                            "#9c179e"
                          ],
                          [
                            0.4444444444444444,
                            "#bd3786"
                          ],
                          [
                            0.5555555555555556,
                            "#d8576b"
                          ],
                          [
                            0.6666666666666666,
                            "#ed7953"
                          ],
                          [
                            0.7777777777777778,
                            "#fb9f3a"
                          ],
                          [
                            0.8888888888888888,
                            "#fdca26"
                          ],
                          [
                            1,
                            "#f0f921"
                          ]
                        ],
                        "type": "heatmapgl"
                      }
                    ],
                    "histogram": [
                      {
                        "marker": {
                          "pattern": {
                            "fillmode": "overlay",
                            "size": 10,
                            "solidity": 0.2
                          }
                        },
                        "type": "histogram"
                      }
                    ],
                    "histogram2d": [
                      {
                        "colorbar": {
                          "outlinewidth": 0,
                          "ticks": ""
                        },
                        "colorscale": [
                          [
                            0,
                            "#0d0887"
                          ],
                          [
                            0.1111111111111111,
                            "#46039f"
                          ],
                          [
                            0.2222222222222222,
                            "#7201a8"
                          ],
                          [
                            0.3333333333333333,
                            "#9c179e"
                          ],
                          [
                            0.4444444444444444,
                            "#bd3786"
                          ],
                          [
                            0.5555555555555556,
                            "#d8576b"
                          ],
                          [
                            0.6666666666666666,
                            "#ed7953"
                          ],
                          [
                            0.7777777777777778,
                            "#fb9f3a"
                          ],
                          [
                            0.8888888888888888,
                            "#fdca26"
                          ],
                          [
                            1,
                            "#f0f921"
                          ]
                        ],
                        "type": "histogram2d"
                      }
                    ],
                    "histogram2dcontour": [
                      {
                        "colorbar": {
                          "outlinewidth": 0,
                          "ticks": ""
                        },
                        "colorscale": [
                          [
                            0,
                            "#0d0887"
                          ],
                          [
                            0.1111111111111111,
                            "#46039f"
                          ],
                          [
                            0.2222222222222222,
                            "#7201a8"
                          ],
                          [
                            0.3333333333333333,
                            "#9c179e"
                          ],
                          [
                            0.4444444444444444,
                            "#bd3786"
                          ],
                          [
                            0.5555555555555556,
                            "#d8576b"
                          ],
                          [
                            0.6666666666666666,
                            "#ed7953"
                          ],
                          [
                            0.7777777777777778,
                            "#fb9f3a"
                          ],
                          [
                            0.8888888888888888,
                            "#fdca26"
                          ],
                          [
                            1,
                            "#f0f921"
                          ]
                        ],
                        "type": "histogram2dcontour"
                      }
                    ],
                    "mesh3d": [
                      {
                        "colorbar": {
                          "outlinewidth": 0,
                          "ticks": ""
                        },
                        "type": "mesh3d"
                      }
                    ],
                    "parcoords": [
                      {
                        "line": {
                          "colorbar": {
                            "outlinewidth": 0,
                            "ticks": ""
                          }
                        },
                        "type": "parcoords"
                      }
                    ],
                    "pie": [
                      {
                        "automargin": true,
                        "type": "pie"
                      }
                    ],
                    "scatter": [
                      {
                        "fillpattern": {
                          "fillmode": "overlay",
                          "size": 10,
                          "solidity": 0.2
                        },
                        "type": "scatter"
                      }
                    ],
                    "scatter3d": [
                      {
                        "line": {
                          "colorbar": {
                            "outlinewidth": 0,
                            "ticks": ""
                          }
                        },
                        "marker": {
                          "colorbar": {
                            "outlinewidth": 0,
                            "ticks": ""
                          }
                        },
                        "type": "scatter3d"
                      }
                    ],
                    "scattercarpet": [
                      {
                        "marker": {
                          "colorbar": {
                            "outlinewidth": 0,
                            "ticks": ""
                          }
                        },
                        "type": "scattercarpet"
                      }
                    ],
                    "scattergeo": [
                      {
                        "marker": {
                          "colorbar": {
                            "outlinewidth": 0,
                            "ticks": ""
                          }
                        },
                        "type": "scattergeo"
                      }
                    ],
                    "scattergl": [
                      {
                        "marker": {
                          "colorbar": {
                            "outlinewidth": 0,
                            "ticks": ""
                          }
                        },
                        "type": "scattergl"
                      }
                    ],
                    "scattermapbox": [
                      {
                        "marker": {
                          "colorbar": {
                            "outlinewidth": 0,
                            "ticks": ""
                          }
                        },
                        "type": "scattermapbox"
                      }
                    ],
                    "scatterpolar": [
                      {
                        "marker": {
                          "colorbar": {
                            "outlinewidth": 0,
                            "ticks": ""
                          }
                        },
                        "type": "scatterpolar"
                      }
                    ],
                    "scatterpolargl": [
                      {
                        "marker": {
                          "colorbar": {
                            "outlinewidth": 0,
                            "ticks": ""
                          }
                        },
                        "type": "scatterpolargl"
                      }
                    ],
                    "scatterternary": [
                      {
                        "marker": {
                          "colorbar": {
                            "outlinewidth": 0,
                            "ticks": ""
                          }
                        },
                        "type": "scatterternary"
                      }
                    ],
                    "surface": [
                      {
                        "colorbar": {
                          "outlinewidth": 0,
                          "ticks": ""
                        },
                        "colorscale": [
                          [
                            0,
                            "#0d0887"
                          ],
                          [
                            0.1111111111111111,
                            "#46039f"
                          ],
                          [
                            0.2222222222222222,
                            "#7201a8"
                          ],
                          [
                            0.3333333333333333,
                            "#9c179e"
                          ],
                          [
                            0.4444444444444444,
                            "#bd3786"
                          ],
                          [
                            0.5555555555555556,
                            "#d8576b"
                          ],
                          [
                            0.6666666666666666,
                            "#ed7953"
                          ],
                          [
                            0.7777777777777778,
                            "#fb9f3a"
                          ],
                          [
                            0.8888888888888888,
                            "#fdca26"
                          ],
                          [
                            1,
                            "#f0f921"
                          ]
                        ],
                        "type": "surface"
                      }
                    ],
                    "table": [
                      {
                        "cells": {
                          "fill": {
                            "color": "#EBF0F8"
                          },
                          "line": {
                            "color": "white"
                          }
                        },
                        "header": {
                          "fill": {
                            "color": "#C8D4E3"
                          },
                          "line": {
                            "color": "white"
                          }
                        },
                        "type": "table"
                      }
                    ]
                  },
                  "layout": {
                    "annotationdefaults": {
                      "arrowcolor": "#2a3f5f",
                      "arrowhead": 0,
                      "arrowwidth": 1
                    },
                    "autotypenumbers": "strict",
                    "coloraxis": {
                      "colorbar": {
                        "outlinewidth": 0,
                        "ticks": ""
                      }
                    },
                    "colorscale": {
                      "diverging": [
                        [
                          0,
                          "#8e0152"
                        ],
                        [
                          0.1,
                          "#c51b7d"
                        ],
                        [
                          0.2,
                          "#de77ae"
                        ],
                        [
                          0.3,
                          "#f1b6da"
                        ],
                        [
                          0.4,
                          "#fde0ef"
                        ],
                        [
                          0.5,
                          "#f7f7f7"
                        ],
                        [
                          0.6,
                          "#e6f5d0"
                        ],
                        [
                          0.7,
                          "#b8e186"
                        ],
                        [
                          0.8,
                          "#7fbc41"
                        ],
                        [
                          0.9,
                          "#4d9221"
                        ],
                        [
                          1,
                          "#276419"
                        ]
                      ],
                      "sequential": [
                        [
                          0,
                          "#0d0887"
                        ],
                        [
                          0.1111111111111111,
                          "#46039f"
                        ],
                        [
                          0.2222222222222222,
                          "#7201a8"
                        ],
                        [
                          0.3333333333333333,
                          "#9c179e"
                        ],
                        [
                          0.4444444444444444,
                          "#bd3786"
                        ],
                        [
                          0.5555555555555556,
                          "#d8576b"
                        ],
                        [
                          0.6666666666666666,
                          "#ed7953"
                        ],
                        [
                          0.7777777777777778,
                          "#fb9f3a"
                        ],
                        [
                          0.8888888888888888,
                          "#fdca26"
                        ],
                        [
                          1,
                          "#f0f921"
                        ]
                      ],
                      "sequentialminus": [
                        [
                          0,
                          "#0d0887"
                        ],
                        [
                          0.1111111111111111,
                          "#46039f"
                        ],
                        [
                          0.2222222222222222,
                          "#7201a8"
                        ],
                        [
                          0.3333333333333333,
                          "#9c179e"
                        ],
                        [
                          0.4444444444444444,
                          "#bd3786"
                        ],
                        [
                          0.5555555555555556,
                          "#d8576b"
                        ],
                        [
                          0.6666666666666666,
                          "#ed7953"
                        ],
                        [
                          0.7777777777777778,
                          "#fb9f3a"
                        ],
                        [
                          0.8888888888888888,
                          "#fdca26"
                        ],
                        [
                          1,
                          "#f0f921"
                        ]
                      ]
                    },
                    "colorway": [
                      "#636efa",
                      "#EF553B",
                      "#00cc96",
                      "#ab63fa",
                      "#FFA15A",
                      "#19d3f3",
                      "#FF6692",
                      "#B6E880",
                      "#FF97FF",
                      "#FECB52"
                    ],
                    "font": {
                      "color": "#2a3f5f"
                    },
                    "geo": {
                      "bgcolor": "white",
                      "lakecolor": "white",
                      "landcolor": "white",
                      "showlakes": true,
                      "showland": true,
                      "subunitcolor": "#C8D4E3"
                    },
                    "hoverlabel": {
                      "align": "left"
                    },
                    "hovermode": "closest",
                    "mapbox": {
                      "style": "light"
                    },
                    "paper_bgcolor": "white",
                    "plot_bgcolor": "white",
                    "polar": {
                      "angularaxis": {
                        "gridcolor": "#EBF0F8",
                        "linecolor": "#EBF0F8",
                        "ticks": ""
                      },
                      "bgcolor": "white",
                      "radialaxis": {
                        "gridcolor": "#EBF0F8",
                        "linecolor": "#EBF0F8",
                        "ticks": ""
                      }
                    },
                    "scene": {
                      "xaxis": {
                        "backgroundcolor": "white",
                        "gridcolor": "#DFE8F3",
                        "gridwidth": 2,
                        "linecolor": "#EBF0F8",
                        "showbackground": true,
                        "ticks": "",
                        "zerolinecolor": "#EBF0F8"
                      },
                      "yaxis": {
                        "backgroundcolor": "white",
                        "gridcolor": "#DFE8F3",
                        "gridwidth": 2,
                        "linecolor": "#EBF0F8",
                        "showbackground": true,
                        "ticks": "",
                        "zerolinecolor": "#EBF0F8"
                      },
                      "zaxis": {
                        "backgroundcolor": "white",
                        "gridcolor": "#DFE8F3",
                        "gridwidth": 2,
                        "linecolor": "#EBF0F8",
                        "showbackground": true,
                        "ticks": "",
                        "zerolinecolor": "#EBF0F8"
                      }
                    },
                    "shapedefaults": {
                      "line": {
                        "color": "#2a3f5f"
                      }
                    },
                    "ternary": {
                      "aaxis": {
                        "gridcolor": "#DFE8F3",
                        "linecolor": "#A2B1C6",
                        "ticks": ""
                      },
                      "baxis": {
                        "gridcolor": "#DFE8F3",
                        "linecolor": "#A2B1C6",
                        "ticks": ""
                      },
                      "bgcolor": "white",
                      "caxis": {
                        "gridcolor": "#DFE8F3",
                        "linecolor": "#A2B1C6",
                        "ticks": ""
                      }
                    },
                    "title": {
                      "x": 0.05
                    },
                    "xaxis": {
                      "automargin": true,
                      "gridcolor": "#EBF0F8",
                      "linecolor": "#EBF0F8",
                      "ticks": "",
                      "title": {
                        "standoff": 15
                      },
                      "zerolinecolor": "#EBF0F8",
                      "zerolinewidth": 2
                    },
                    "yaxis": {
                      "automargin": true,
                      "gridcolor": "#EBF0F8",
                      "linecolor": "#EBF0F8",
                      "ticks": "",
                      "title": {
                        "standoff": 15
                      },
                      "zerolinecolor": "#EBF0F8",
                      "zerolinewidth": 2
                    }
                  }
                },
                "title": {
                  "text": "Profile Visits v/s Follows"
                },
                "xaxis": {
                  "anchor": "y",
                  "domain": [
                    0,
                    1
                  ],
                  "title": {
                    "text": "Profile Visits"
                  }
                },
                "yaxis": {
                  "anchor": "x",
                  "domain": [
                    0,
                    1
                  ],
                  "title": {
                    "text": "Follows"
                  }
                }
              }
            }
          },
          "metadata": {},
          "output_type": "display_data"
        }
      ],
      "source": [
        "fig = px.scatter(data, x='Profile Visits', y='Follows', trendline=\"ols\", title='Profile Visits v/s Follows')\n",
        "\n",
        "fig.show()"
      ]
    },
    {
      "cell_type": "markdown",
      "metadata": {},
      "source": [
        "**Question no: 10**"
      ]
    },
    {
      "cell_type": "code",
      "execution_count": 14,
      "metadata": {
        "colab": {
          "base_uri": "https://localhost:8080/",
          "height": 542
        },
        "id": "r5KBMMWXa8eW",
        "outputId": "c15aec3f-11fd-482c-8f14-4e641682c338"
      },
      "outputs": [
        {
          "data": {
            "application/vnd.plotly.v1+json": {
              "config": {
                "plotlyServerURL": "https://plot.ly"
              },
              "data": [
                {
                  "hovertemplate": "x: %{x}<br>y: %{y}<br>color: [%{z[0]}, %{z[1]}, %{z[2]}]<extra></extra>",
                  "name": "0",
                  "source": "data:image/png;base64,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",
                  "type": "image",
                  "xaxis": "x",
                  "yaxis": "y"
                }
              ],
              "layout": {
                "template": {
                  "data": {
                    "bar": [
                      {
                        "error_x": {
                          "color": "#2a3f5f"
                        },
                        "error_y": {
                          "color": "#2a3f5f"
                        },
                        "marker": {
                          "line": {
                            "color": "white",
                            "width": 0.5
                          },
                          "pattern": {
                            "fillmode": "overlay",
                            "size": 10,
                            "solidity": 0.2
                          }
                        },
                        "type": "bar"
                      }
                    ],
                    "barpolar": [
                      {
                        "marker": {
                          "line": {
                            "color": "white",
                            "width": 0.5
                          },
                          "pattern": {
                            "fillmode": "overlay",
                            "size": 10,
                            "solidity": 0.2
                          }
                        },
                        "type": "barpolar"
                      }
                    ],
                    "carpet": [
                      {
                        "aaxis": {
                          "endlinecolor": "#2a3f5f",
                          "gridcolor": "#C8D4E3",
                          "linecolor": "#C8D4E3",
                          "minorgridcolor": "#C8D4E3",
                          "startlinecolor": "#2a3f5f"
                        },
                        "baxis": {
                          "endlinecolor": "#2a3f5f",
                          "gridcolor": "#C8D4E3",
                          "linecolor": "#C8D4E3",
                          "minorgridcolor": "#C8D4E3",
                          "startlinecolor": "#2a3f5f"
                        },
                        "type": "carpet"
                      }
                    ],
                    "choropleth": [
                      {
                        "colorbar": {
                          "outlinewidth": 0,
                          "ticks": ""
                        },
                        "type": "choropleth"
                      }
                    ],
                    "contour": [
                      {
                        "colorbar": {
                          "outlinewidth": 0,
                          "ticks": ""
                        },
                        "colorscale": [
                          [
                            0,
                            "#0d0887"
                          ],
                          [
                            0.1111111111111111,
                            "#46039f"
                          ],
                          [
                            0.2222222222222222,
                            "#7201a8"
                          ],
                          [
                            0.3333333333333333,
                            "#9c179e"
                          ],
                          [
                            0.4444444444444444,
                            "#bd3786"
                          ],
                          [
                            0.5555555555555556,
                            "#d8576b"
                          ],
                          [
                            0.6666666666666666,
                            "#ed7953"
                          ],
                          [
                            0.7777777777777778,
                            "#fb9f3a"
                          ],
                          [
                            0.8888888888888888,
                            "#fdca26"
                          ],
                          [
                            1,
                            "#f0f921"
                          ]
                        ],
                        "type": "contour"
                      }
                    ],
                    "contourcarpet": [
                      {
                        "colorbar": {
                          "outlinewidth": 0,
                          "ticks": ""
                        },
                        "type": "contourcarpet"
                      }
                    ],
                    "heatmap": [
                      {
                        "colorbar": {
                          "outlinewidth": 0,
                          "ticks": ""
                        },
                        "colorscale": [
                          [
                            0,
                            "#0d0887"
                          ],
                          [
                            0.1111111111111111,
                            "#46039f"
                          ],
                          [
                            0.2222222222222222,
                            "#7201a8"
                          ],
                          [
                            0.3333333333333333,
                            "#9c179e"
                          ],
                          [
                            0.4444444444444444,
                            "#bd3786"
                          ],
                          [
                            0.5555555555555556,
                            "#d8576b"
                          ],
                          [
                            0.6666666666666666,
                            "#ed7953"
                          ],
                          [
                            0.7777777777777778,
                            "#fb9f3a"
                          ],
                          [
                            0.8888888888888888,
                            "#fdca26"
                          ],
                          [
                            1,
                            "#f0f921"
                          ]
                        ],
                        "type": "heatmap"
                      }
                    ],
                    "heatmapgl": [
                      {
                        "colorbar": {
                          "outlinewidth": 0,
                          "ticks": ""
                        },
                        "colorscale": [
                          [
                            0,
                            "#0d0887"
                          ],
                          [
                            0.1111111111111111,
                            "#46039f"
                          ],
                          [
                            0.2222222222222222,
                            "#7201a8"
                          ],
                          [
                            0.3333333333333333,
                            "#9c179e"
                          ],
                          [
                            0.4444444444444444,
                            "#bd3786"
                          ],
                          [
                            0.5555555555555556,
                            "#d8576b"
                          ],
                          [
                            0.6666666666666666,
                            "#ed7953"
                          ],
                          [
                            0.7777777777777778,
                            "#fb9f3a"
                          ],
                          [
                            0.8888888888888888,
                            "#fdca26"
                          ],
                          [
                            1,
                            "#f0f921"
                          ]
                        ],
                        "type": "heatmapgl"
                      }
                    ],
                    "histogram": [
                      {
                        "marker": {
                          "pattern": {
                            "fillmode": "overlay",
                            "size": 10,
                            "solidity": 0.2
                          }
                        },
                        "type": "histogram"
                      }
                    ],
                    "histogram2d": [
                      {
                        "colorbar": {
                          "outlinewidth": 0,
                          "ticks": ""
                        },
                        "colorscale": [
                          [
                            0,
                            "#0d0887"
                          ],
                          [
                            0.1111111111111111,
                            "#46039f"
                          ],
                          [
                            0.2222222222222222,
                            "#7201a8"
                          ],
                          [
                            0.3333333333333333,
                            "#9c179e"
                          ],
                          [
                            0.4444444444444444,
                            "#bd3786"
                          ],
                          [
                            0.5555555555555556,
                            "#d8576b"
                          ],
                          [
                            0.6666666666666666,
                            "#ed7953"
                          ],
                          [
                            0.7777777777777778,
                            "#fb9f3a"
                          ],
                          [
                            0.8888888888888888,
                            "#fdca26"
                          ],
                          [
                            1,
                            "#f0f921"
                          ]
                        ],
                        "type": "histogram2d"
                      }
                    ],
                    "histogram2dcontour": [
                      {
                        "colorbar": {
                          "outlinewidth": 0,
                          "ticks": ""
                        },
                        "colorscale": [
                          [
                            0,
                            "#0d0887"
                          ],
                          [
                            0.1111111111111111,
                            "#46039f"
                          ],
                          [
                            0.2222222222222222,
                            "#7201a8"
                          ],
                          [
                            0.3333333333333333,
                            "#9c179e"
                          ],
                          [
                            0.4444444444444444,
                            "#bd3786"
                          ],
                          [
                            0.5555555555555556,
                            "#d8576b"
                          ],
                          [
                            0.6666666666666666,
                            "#ed7953"
                          ],
                          [
                            0.7777777777777778,
                            "#fb9f3a"
                          ],
                          [
                            0.8888888888888888,
                            "#fdca26"
                          ],
                          [
                            1,
                            "#f0f921"
                          ]
                        ],
                        "type": "histogram2dcontour"
                      }
                    ],
                    "mesh3d": [
                      {
                        "colorbar": {
                          "outlinewidth": 0,
                          "ticks": ""
                        },
                        "type": "mesh3d"
                      }
                    ],
                    "parcoords": [
                      {
                        "line": {
                          "colorbar": {
                            "outlinewidth": 0,
                            "ticks": ""
                          }
                        },
                        "type": "parcoords"
                      }
                    ],
                    "pie": [
                      {
                        "automargin": true,
                        "type": "pie"
                      }
                    ],
                    "scatter": [
                      {
                        "fillpattern": {
                          "fillmode": "overlay",
                          "size": 10,
                          "solidity": 0.2
                        },
                        "type": "scatter"
                      }
                    ],
                    "scatter3d": [
                      {
                        "line": {
                          "colorbar": {
                            "outlinewidth": 0,
                            "ticks": ""
                          }
                        },
                        "marker": {
                          "colorbar": {
                            "outlinewidth": 0,
                            "ticks": ""
                          }
                        },
                        "type": "scatter3d"
                      }
                    ],
                    "scattercarpet": [
                      {
                        "marker": {
                          "colorbar": {
                            "outlinewidth": 0,
                            "ticks": ""
                          }
                        },
                        "type": "scattercarpet"
                      }
                    ],
                    "scattergeo": [
                      {
                        "marker": {
                          "colorbar": {
                            "outlinewidth": 0,
                            "ticks": ""
                          }
                        },
                        "type": "scattergeo"
                      }
                    ],
                    "scattergl": [
                      {
                        "marker": {
                          "colorbar": {
                            "outlinewidth": 0,
                            "ticks": ""
                          }
                        },
                        "type": "scattergl"
                      }
                    ],
                    "scattermapbox": [
                      {
                        "marker": {
                          "colorbar": {
                            "outlinewidth": 0,
                            "ticks": ""
                          }
                        },
                        "type": "scattermapbox"
                      }
                    ],
                    "scatterpolar": [
                      {
                        "marker": {
                          "colorbar": {
                            "outlinewidth": 0,
                            "ticks": ""
                          }
                        },
                        "type": "scatterpolar"
                      }
                    ],
                    "scatterpolargl": [
                      {
                        "marker": {
                          "colorbar": {
                            "outlinewidth": 0,
                            "ticks": ""
                          }
                        },
                        "type": "scatterpolargl"
                      }
                    ],
                    "scatterternary": [
                      {
                        "marker": {
                          "colorbar": {
                            "outlinewidth": 0,
                            "ticks": ""
                          }
                        },
                        "type": "scatterternary"
                      }
                    ],
                    "surface": [
                      {
                        "colorbar": {
                          "outlinewidth": 0,
                          "ticks": ""
                        },
                        "colorscale": [
                          [
                            0,
                            "#0d0887"
                          ],
                          [
                            0.1111111111111111,
                            "#46039f"
                          ],
                          [
                            0.2222222222222222,
                            "#7201a8"
                          ],
                          [
                            0.3333333333333333,
                            "#9c179e"
                          ],
                          [
                            0.4444444444444444,
                            "#bd3786"
                          ],
                          [
                            0.5555555555555556,
                            "#d8576b"
                          ],
                          [
                            0.6666666666666666,
                            "#ed7953"
                          ],
                          [
                            0.7777777777777778,
                            "#fb9f3a"
                          ],
                          [
                            0.8888888888888888,
                            "#fdca26"
                          ],
                          [
                            1,
                            "#f0f921"
                          ]
                        ],
                        "type": "surface"
                      }
                    ],
                    "table": [
                      {
                        "cells": {
                          "fill": {
                            "color": "#EBF0F8"
                          },
                          "line": {
                            "color": "white"
                          }
                        },
                        "header": {
                          "fill": {
                            "color": "#C8D4E3"
                          },
                          "line": {
                            "color": "white"
                          }
                        },
                        "type": "table"
                      }
                    ]
                  },
                  "layout": {
                    "annotationdefaults": {
                      "arrowcolor": "#2a3f5f",
                      "arrowhead": 0,
                      "arrowwidth": 1
                    },
                    "autotypenumbers": "strict",
                    "coloraxis": {
                      "colorbar": {
                        "outlinewidth": 0,
                        "ticks": ""
                      }
                    },
                    "colorscale": {
                      "diverging": [
                        [
                          0,
                          "#8e0152"
                        ],
                        [
                          0.1,
                          "#c51b7d"
                        ],
                        [
                          0.2,
                          "#de77ae"
                        ],
                        [
                          0.3,
                          "#f1b6da"
                        ],
                        [
                          0.4,
                          "#fde0ef"
                        ],
                        [
                          0.5,
                          "#f7f7f7"
                        ],
                        [
                          0.6,
                          "#e6f5d0"
                        ],
                        [
                          0.7,
                          "#b8e186"
                        ],
                        [
                          0.8,
                          "#7fbc41"
                        ],
                        [
                          0.9,
                          "#4d9221"
                        ],
                        [
                          1,
                          "#276419"
                        ]
                      ],
                      "sequential": [
                        [
                          0,
                          "#0d0887"
                        ],
                        [
                          0.1111111111111111,
                          "#46039f"
                        ],
                        [
                          0.2222222222222222,
                          "#7201a8"
                        ],
                        [
                          0.3333333333333333,
                          "#9c179e"
                        ],
                        [
                          0.4444444444444444,
                          "#bd3786"
                        ],
                        [
                          0.5555555555555556,
                          "#d8576b"
                        ],
                        [
                          0.6666666666666666,
                          "#ed7953"
                        ],
                        [
                          0.7777777777777778,
                          "#fb9f3a"
                        ],
                        [
                          0.8888888888888888,
                          "#fdca26"
                        ],
                        [
                          1,
                          "#f0f921"
                        ]
                      ],
                      "sequentialminus": [
                        [
                          0,
                          "#0d0887"
                        ],
                        [
                          0.1111111111111111,
                          "#46039f"
                        ],
                        [
                          0.2222222222222222,
                          "#7201a8"
                        ],
                        [
                          0.3333333333333333,
                          "#9c179e"
                        ],
                        [
                          0.4444444444444444,
                          "#bd3786"
                        ],
                        [
                          0.5555555555555556,
                          "#d8576b"
                        ],
                        [
                          0.6666666666666666,
                          "#ed7953"
                        ],
                        [
                          0.7777777777777778,
                          "#fb9f3a"
                        ],
                        [
                          0.8888888888888888,
                          "#fdca26"
                        ],
                        [
                          1,
                          "#f0f921"
                        ]
                      ]
                    },
                    "colorway": [
                      "#636efa",
                      "#EF553B",
                      "#00cc96",
                      "#ab63fa",
                      "#FFA15A",
                      "#19d3f3",
                      "#FF6692",
                      "#B6E880",
                      "#FF97FF",
                      "#FECB52"
                    ],
                    "font": {
                      "color": "#2a3f5f"
                    },
                    "geo": {
                      "bgcolor": "white",
                      "lakecolor": "white",
                      "landcolor": "white",
                      "showlakes": true,
                      "showland": true,
                      "subunitcolor": "#C8D4E3"
                    },
                    "hoverlabel": {
                      "align": "left"
                    },
                    "hovermode": "closest",
                    "mapbox": {
                      "style": "light"
                    },
                    "paper_bgcolor": "white",
                    "plot_bgcolor": "white",
                    "polar": {
                      "angularaxis": {
                        "gridcolor": "#EBF0F8",
                        "linecolor": "#EBF0F8",
                        "ticks": ""
                      },
                      "bgcolor": "white",
                      "radialaxis": {
                        "gridcolor": "#EBF0F8",
                        "linecolor": "#EBF0F8",
                        "ticks": ""
                      }
                    },
                    "scene": {
                      "xaxis": {
                        "backgroundcolor": "white",
                        "gridcolor": "#DFE8F3",
                        "gridwidth": 2,
                        "linecolor": "#EBF0F8",
                        "showbackground": true,
                        "ticks": "",
                        "zerolinecolor": "#EBF0F8"
                      },
                      "yaxis": {
                        "backgroundcolor": "white",
                        "gridcolor": "#DFE8F3",
                        "gridwidth": 2,
                        "linecolor": "#EBF0F8",
                        "showbackground": true,
                        "ticks": "",
                        "zerolinecolor": "#EBF0F8"
                      },
                      "zaxis": {
                        "backgroundcolor": "white",
                        "gridcolor": "#DFE8F3",
                        "gridwidth": 2,
                        "linecolor": "#EBF0F8",
                        "showbackground": true,
                        "ticks": "",
                        "zerolinecolor": "#EBF0F8"
                      }
                    },
                    "shapedefaults": {
                      "line": {
                        "color": "#2a3f5f"
                      }
                    },
                    "ternary": {
                      "aaxis": {
                        "gridcolor": "#DFE8F3",
                        "linecolor": "#A2B1C6",
                        "ticks": ""
                      },
                      "baxis": {
                        "gridcolor": "#DFE8F3",
                        "linecolor": "#A2B1C6",
                        "ticks": ""
                      },
                      "bgcolor": "white",
                      "caxis": {
                        "gridcolor": "#DFE8F3",
                        "linecolor": "#A2B1C6",
                        "ticks": ""
                      }
                    },
                    "title": {
                      "x": 0.05
                    },
                    "xaxis": {
                      "automargin": true,
                      "gridcolor": "#EBF0F8",
                      "linecolor": "#EBF0F8",
                      "ticks": "",
                      "title": {
                        "standoff": 15
                      },
                      "zerolinecolor": "#EBF0F8",
                      "zerolinewidth": 2
                    },
                    "yaxis": {
                      "automargin": true,
                      "gridcolor": "#EBF0F8",
                      "linecolor": "#EBF0F8",
                      "ticks": "",
                      "title": {
                        "standoff": 15
                      },
                      "zerolinecolor": "#EBF0F8",
                      "zerolinewidth": 2
                    }
                  }
                },
                "title": {
                  "text": "Word Cloud of Hashtags"
                },
                "xaxis": {
                  "anchor": "y",
                  "domain": [
                    0,
                    1
                  ]
                },
                "yaxis": {
                  "anchor": "x",
                  "domain": [
                    0,
                    1
                  ]
                }
              }
            }
          },
          "metadata": {},
          "output_type": "display_data"
        }
      ],
      "source": [
        "all_hashtags = ' '.join(data['Hashtags'])\n",
        "\n",
        "wordcloud = WordCloud(width=1200, height=600, background_color='black').generate(all_hashtags)\n",
        "\n",
        "fig = px.imshow(wordcloud, title='Word Cloud of Hashtags')\n",
        "fig.show()"
      ]
    },
    {
      "cell_type": "markdown",
      "metadata": {},
      "source": [
        "**Question no: 11**"
      ]
    },
    {
      "cell_type": "code",
      "execution_count": 15,
      "metadata": {
        "colab": {
          "base_uri": "https://localhost:8080/"
        },
        "id": "5r-KN86acJ-a",
        "outputId": "19dcf60e-b458-49f9-aa8b-d563e8146104"
      },
      "outputs": [
        {
          "name": "stderr",
          "output_type": "stream",
          "text": [
            "C:\\Users\\areej\\AppData\\Local\\Temp\\ipykernel_14252\\3287014675.py:1: FutureWarning:\n",
            "\n",
            "The default value of numeric_only in DataFrame.corr is deprecated. In a future version, it will default to False. Select only valid columns or specify the value of numeric_only to silence this warning.\n",
            "\n"
          ]
        }
      ],
      "source": [
        "correlation_matrix = data.corr()\n",
        "\n"
      ]
    },
    {
      "cell_type": "code",
      "execution_count": 16,
      "metadata": {
        "colab": {
          "base_uri": "https://localhost:8080/",
          "height": 363
        },
        "id": "jfO9HWEKkRAp",
        "outputId": "3b27e018-6c85-48c9-b1da-9cfd8b47a650"
      },
      "outputs": [
        {
          "data": {
            "text/html": [
              "<div>\n",
              "<style scoped>\n",
              "    .dataframe tbody tr th:only-of-type {\n",
              "        vertical-align: middle;\n",
              "    }\n",
              "\n",
              "    .dataframe tbody tr th {\n",
              "        vertical-align: top;\n",
              "    }\n",
              "\n",
              "    .dataframe thead th {\n",
              "        text-align: right;\n",
              "    }\n",
              "</style>\n",
              "<table border=\"1\" class=\"dataframe\">\n",
              "  <thead>\n",
              "    <tr style=\"text-align: right;\">\n",
              "      <th></th>\n",
              "      <th>Impressions</th>\n",
              "      <th>From Home</th>\n",
              "      <th>From Hashtags</th>\n",
              "      <th>From Explore</th>\n",
              "      <th>From Other</th>\n",
              "      <th>Saves</th>\n",
              "      <th>Comments</th>\n",
              "      <th>Shares</th>\n",
              "      <th>Likes</th>\n",
              "      <th>Profile Visits</th>\n",
              "      <th>Follows</th>\n",
              "    </tr>\n",
              "  </thead>\n",
              "  <tbody>\n",
              "    <tr>\n",
              "      <th>Impressions</th>\n",
              "      <td>1.000000</td>\n",
              "      <td>0.844698</td>\n",
              "      <td>0.560760</td>\n",
              "      <td>0.893607</td>\n",
              "      <td>0.592960</td>\n",
              "      <td>0.779231</td>\n",
              "      <td>-0.028524</td>\n",
              "      <td>0.634675</td>\n",
              "      <td>0.849835</td>\n",
              "      <td>0.760981</td>\n",
              "      <td>0.889363</td>\n",
              "    </tr>\n",
              "    <tr>\n",
              "      <th>From Home</th>\n",
              "      <td>0.844698</td>\n",
              "      <td>1.000000</td>\n",
              "      <td>0.177516</td>\n",
              "      <td>0.800573</td>\n",
              "      <td>0.555666</td>\n",
              "      <td>0.768817</td>\n",
              "      <td>0.012716</td>\n",
              "      <td>0.674985</td>\n",
              "      <td>0.698330</td>\n",
              "      <td>0.531076</td>\n",
              "      <td>0.672675</td>\n",
              "    </tr>\n",
              "    <tr>\n",
              "      <th>From Hashtags</th>\n",
              "      <td>0.560760</td>\n",
              "      <td>0.177516</td>\n",
              "      <td>1.000000</td>\n",
              "      <td>0.190453</td>\n",
              "      <td>0.229623</td>\n",
              "      <td>0.305929</td>\n",
              "      <td>0.161439</td>\n",
              "      <td>0.219511</td>\n",
              "      <td>0.662124</td>\n",
              "      <td>0.691345</td>\n",
              "      <td>0.555485</td>\n",
              "    </tr>\n",
              "    <tr>\n",
              "      <th>From Explore</th>\n",
              "      <td>0.893607</td>\n",
              "      <td>0.800573</td>\n",
              "      <td>0.190453</td>\n",
              "      <td>1.000000</td>\n",
              "      <td>0.495685</td>\n",
              "      <td>0.747803</td>\n",
              "      <td>-0.158565</td>\n",
              "      <td>0.615731</td>\n",
              "      <td>0.653699</td>\n",
              "      <td>0.531850</td>\n",
              "      <td>0.796019</td>\n",
              "    </tr>\n",
              "    <tr>\n",
              "      <th>From Other</th>\n",
              "      <td>0.592960</td>\n",
              "      <td>0.555666</td>\n",
              "      <td>0.229623</td>\n",
              "      <td>0.495685</td>\n",
              "      <td>1.000000</td>\n",
              "      <td>0.331907</td>\n",
              "      <td>-0.108703</td>\n",
              "      <td>0.156834</td>\n",
              "      <td>0.393510</td>\n",
              "      <td>0.633080</td>\n",
              "      <td>0.546737</td>\n",
              "    </tr>\n",
              "  </tbody>\n",
              "</table>\n",
              "</div>"
            ],
            "text/plain": [
              "               Impressions  From Home  From Hashtags  From Explore  \\\n",
              "Impressions       1.000000   0.844698       0.560760      0.893607   \n",
              "From Home         0.844698   1.000000       0.177516      0.800573   \n",
              "From Hashtags     0.560760   0.177516       1.000000      0.190453   \n",
              "From Explore      0.893607   0.800573       0.190453      1.000000   \n",
              "From Other        0.592960   0.555666       0.229623      0.495685   \n",
              "\n",
              "               From Other     Saves  Comments    Shares     Likes  \\\n",
              "Impressions      0.592960  0.779231 -0.028524  0.634675  0.849835   \n",
              "From Home        0.555666  0.768817  0.012716  0.674985  0.698330   \n",
              "From Hashtags    0.229623  0.305929  0.161439  0.219511  0.662124   \n",
              "From Explore     0.495685  0.747803 -0.158565  0.615731  0.653699   \n",
              "From Other       1.000000  0.331907 -0.108703  0.156834  0.393510   \n",
              "\n",
              "               Profile Visits   Follows  \n",
              "Impressions          0.760981  0.889363  \n",
              "From Home            0.531076  0.672675  \n",
              "From Hashtags        0.691345  0.555485  \n",
              "From Explore         0.531850  0.796019  \n",
              "From Other           0.633080  0.546737  "
            ]
          },
          "execution_count": 16,
          "metadata": {},
          "output_type": "execute_result"
        }
      ],
      "source": [
        "correlation_matrix.head()"
      ]
    },
    {
      "cell_type": "code",
      "execution_count": 17,
      "metadata": {
        "colab": {
          "base_uri": "https://localhost:8080/",
          "height": 617
        },
        "id": "jGoAjulElND5",
        "outputId": "035b325c-f053-4e30-a074-1e40f8b6180f"
      },
      "outputs": [
        {
          "data": {
            "application/vnd.plotly.v1+json": {
              "config": {
                "plotlyServerURL": "https://plot.ly"
              },
              "data": [
                {
                  "coloraxis": "coloraxis",
                  "hovertemplate": "x: %{x}<br>y: %{y}<br>color: %{z}<extra></extra>",
                  "name": "0",
                  "texttemplate": "%{z}",
                  "type": "heatmap",
                  "x": [
                    "Impressions",
                    "From Home",
                    "From Hashtags",
                    "From Explore",
                    "From Other",
                    "Saves",
                    "Comments",
                    "Shares",
                    "Likes",
                    "Profile Visits",
                    "Follows"
                  ],
                  "xaxis": "x",
                  "y": [
                    "Impressions",
                    "From Home",
                    "From Hashtags",
                    "From Explore",
                    "From Other",
                    "Saves",
                    "Comments",
                    "Shares",
                    "Likes",
                    "Profile Visits",
                    "Follows"
                  ],
                  "yaxis": "y",
                  "z": [
                    [
                      1,
                      0.8446984764644079,
                      0.5607600444158378,
                      0.8936074202433567,
                      0.5929604758091378,
                      0.7792314114268593,
                      -0.028523933548663824,
                      0.6346751252181763,
                      0.8498353377178177,
                      0.7609809286546657,
                      0.8893634430344086
                    ],
                    [
                      0.8446984764644079,
                      1,
                      0.1775156543309878,
                      0.800573110578866,
                      0.5556659551465412,
                      0.768817005684724,
                      0.012716248342545502,
                      0.6749850448685393,
                      0.698329637893805,
                      0.531076205366268,
                      0.6726750588858736
                    ],
                    [
                      0.5607600444158378,
                      0.1775156543309878,
                      1,
                      0.1904532189703739,
                      0.2296233181732429,
                      0.30592870314657494,
                      0.1614388259073108,
                      0.21951145515685286,
                      0.6621242000877943,
                      0.6913449048454711,
                      0.5554854735531087
                    ],
                    [
                      0.8936074202433567,
                      0.800573110578866,
                      0.1904532189703739,
                      1,
                      0.49568473618614567,
                      0.7478028035868068,
                      -0.15856537914498336,
                      0.6157309658741993,
                      0.653699336224973,
                      0.5318502558055156,
                      0.7960189422044351
                    ],
                    [
                      0.5929604758091378,
                      0.5556659551465412,
                      0.2296233181732429,
                      0.49568473618614567,
                      1,
                      0.3319068864386735,
                      -0.1087029734222875,
                      0.15683375635736396,
                      0.3935104122090607,
                      0.6330799446255249,
                      0.5467370225356449
                    ],
                    [
                      0.7792314114268593,
                      0.768817005684724,
                      0.30592870314657494,
                      0.7478028035868068,
                      0.3319068864386735,
                      1,
                      -0.026912263707560984,
                      0.860324185158795,
                      0.8456432932068351,
                      0.36062821319868793,
                      0.6284608823148304
                    ],
                    [
                      -0.028523933548663824,
                      0.012716248342545502,
                      0.1614388259073108,
                      -0.15856537914498336,
                      -0.1087029734222875,
                      -0.026912263707560984,
                      1,
                      0.016932532855360494,
                      0.1235861027264814,
                      0.09671424134518669,
                      -0.060630774375331827
                    ],
                    [
                      0.6346751252181763,
                      0.6749850448685393,
                      0.21951145515685286,
                      0.6157309658741993,
                      0.15683375635736396,
                      0.860324185158795,
                      0.016932532855360494,
                      1,
                      0.707794002688105,
                      0.24536082330737743,
                      0.4930698051158401
                    ],
                    [
                      0.8498353377178177,
                      0.698329637893805,
                      0.6621242000877943,
                      0.653699336224973,
                      0.3935104122090607,
                      0.8456432932068351,
                      0.1235861027264814,
                      0.707794002688105,
                      1,
                      0.6261070345218044,
                      0.746333165592919
                    ],
                    [
                      0.7609809286546657,
                      0.531076205366268,
                      0.6913449048454711,
                      0.5318502558055156,
                      0.6330799446255249,
                      0.36062821319868793,
                      0.09671424134518669,
                      0.24536082330737743,
                      0.6261070345218044,
                      1,
                      0.8531517459145104
                    ],
                    [
                      0.8893634430344086,
                      0.6726750588858736,
                      0.5554854735531087,
                      0.7960189422044351,
                      0.5467370225356449,
                      0.6284608823148304,
                      -0.060630774375331827,
                      0.4930698051158401,
                      0.746333165592919,
                      0.8531517459145104,
                      1
                    ]
                  ]
                }
              ],
              "layout": {
                "coloraxis": {
                  "colorscale": [
                    [
                      0,
                      "#0d0887"
                    ],
                    [
                      0.1111111111111111,
                      "#46039f"
                    ],
                    [
                      0.2222222222222222,
                      "#7201a8"
                    ],
                    [
                      0.3333333333333333,
                      "#9c179e"
                    ],
                    [
                      0.4444444444444444,
                      "#bd3786"
                    ],
                    [
                      0.5555555555555556,
                      "#d8576b"
                    ],
                    [
                      0.6666666666666666,
                      "#ed7953"
                    ],
                    [
                      0.7777777777777778,
                      "#fb9f3a"
                    ],
                    [
                      0.8888888888888888,
                      "#fdca26"
                    ],
                    [
                      1,
                      "#f0f921"
                    ]
                  ]
                },
                "height": 600,
                "template": {
                  "data": {
                    "bar": [
                      {
                        "error_x": {
                          "color": "#2a3f5f"
                        },
                        "error_y": {
                          "color": "#2a3f5f"
                        },
                        "marker": {
                          "line": {
                            "color": "white",
                            "width": 0.5
                          },
                          "pattern": {
                            "fillmode": "overlay",
                            "size": 10,
                            "solidity": 0.2
                          }
                        },
                        "type": "bar"
                      }
                    ],
                    "barpolar": [
                      {
                        "marker": {
                          "line": {
                            "color": "white",
                            "width": 0.5
                          },
                          "pattern": {
                            "fillmode": "overlay",
                            "size": 10,
                            "solidity": 0.2
                          }
                        },
                        "type": "barpolar"
                      }
                    ],
                    "carpet": [
                      {
                        "aaxis": {
                          "endlinecolor": "#2a3f5f",
                          "gridcolor": "#C8D4E3",
                          "linecolor": "#C8D4E3",
                          "minorgridcolor": "#C8D4E3",
                          "startlinecolor": "#2a3f5f"
                        },
                        "baxis": {
                          "endlinecolor": "#2a3f5f",
                          "gridcolor": "#C8D4E3",
                          "linecolor": "#C8D4E3",
                          "minorgridcolor": "#C8D4E3",
                          "startlinecolor": "#2a3f5f"
                        },
                        "type": "carpet"
                      }
                    ],
                    "choropleth": [
                      {
                        "colorbar": {
                          "outlinewidth": 0,
                          "ticks": ""
                        },
                        "type": "choropleth"
                      }
                    ],
                    "contour": [
                      {
                        "colorbar": {
                          "outlinewidth": 0,
                          "ticks": ""
                        },
                        "colorscale": [
                          [
                            0,
                            "#0d0887"
                          ],
                          [
                            0.1111111111111111,
                            "#46039f"
                          ],
                          [
                            0.2222222222222222,
                            "#7201a8"
                          ],
                          [
                            0.3333333333333333,
                            "#9c179e"
                          ],
                          [
                            0.4444444444444444,
                            "#bd3786"
                          ],
                          [
                            0.5555555555555556,
                            "#d8576b"
                          ],
                          [
                            0.6666666666666666,
                            "#ed7953"
                          ],
                          [
                            0.7777777777777778,
                            "#fb9f3a"
                          ],
                          [
                            0.8888888888888888,
                            "#fdca26"
                          ],
                          [
                            1,
                            "#f0f921"
                          ]
                        ],
                        "type": "contour"
                      }
                    ],
                    "contourcarpet": [
                      {
                        "colorbar": {
                          "outlinewidth": 0,
                          "ticks": ""
                        },
                        "type": "contourcarpet"
                      }
                    ],
                    "heatmap": [
                      {
                        "colorbar": {
                          "outlinewidth": 0,
                          "ticks": ""
                        },
                        "colorscale": [
                          [
                            0,
                            "#0d0887"
                          ],
                          [
                            0.1111111111111111,
                            "#46039f"
                          ],
                          [
                            0.2222222222222222,
                            "#7201a8"
                          ],
                          [
                            0.3333333333333333,
                            "#9c179e"
                          ],
                          [
                            0.4444444444444444,
                            "#bd3786"
                          ],
                          [
                            0.5555555555555556,
                            "#d8576b"
                          ],
                          [
                            0.6666666666666666,
                            "#ed7953"
                          ],
                          [
                            0.7777777777777778,
                            "#fb9f3a"
                          ],
                          [
                            0.8888888888888888,
                            "#fdca26"
                          ],
                          [
                            1,
                            "#f0f921"
                          ]
                        ],
                        "type": "heatmap"
                      }
                    ],
                    "heatmapgl": [
                      {
                        "colorbar": {
                          "outlinewidth": 0,
                          "ticks": ""
                        },
                        "colorscale": [
                          [
                            0,
                            "#0d0887"
                          ],
                          [
                            0.1111111111111111,
                            "#46039f"
                          ],
                          [
                            0.2222222222222222,
                            "#7201a8"
                          ],
                          [
                            0.3333333333333333,
                            "#9c179e"
                          ],
                          [
                            0.4444444444444444,
                            "#bd3786"
                          ],
                          [
                            0.5555555555555556,
                            "#d8576b"
                          ],
                          [
                            0.6666666666666666,
                            "#ed7953"
                          ],
                          [
                            0.7777777777777778,
                            "#fb9f3a"
                          ],
                          [
                            0.8888888888888888,
                            "#fdca26"
                          ],
                          [
                            1,
                            "#f0f921"
                          ]
                        ],
                        "type": "heatmapgl"
                      }
                    ],
                    "histogram": [
                      {
                        "marker": {
                          "pattern": {
                            "fillmode": "overlay",
                            "size": 10,
                            "solidity": 0.2
                          }
                        },
                        "type": "histogram"
                      }
                    ],
                    "histogram2d": [
                      {
                        "colorbar": {
                          "outlinewidth": 0,
                          "ticks": ""
                        },
                        "colorscale": [
                          [
                            0,
                            "#0d0887"
                          ],
                          [
                            0.1111111111111111,
                            "#46039f"
                          ],
                          [
                            0.2222222222222222,
                            "#7201a8"
                          ],
                          [
                            0.3333333333333333,
                            "#9c179e"
                          ],
                          [
                            0.4444444444444444,
                            "#bd3786"
                          ],
                          [
                            0.5555555555555556,
                            "#d8576b"
                          ],
                          [
                            0.6666666666666666,
                            "#ed7953"
                          ],
                          [
                            0.7777777777777778,
                            "#fb9f3a"
                          ],
                          [
                            0.8888888888888888,
                            "#fdca26"
                          ],
                          [
                            1,
                            "#f0f921"
                          ]
                        ],
                        "type": "histogram2d"
                      }
                    ],
                    "histogram2dcontour": [
                      {
                        "colorbar": {
                          "outlinewidth": 0,
                          "ticks": ""
                        },
                        "colorscale": [
                          [
                            0,
                            "#0d0887"
                          ],
                          [
                            0.1111111111111111,
                            "#46039f"
                          ],
                          [
                            0.2222222222222222,
                            "#7201a8"
                          ],
                          [
                            0.3333333333333333,
                            "#9c179e"
                          ],
                          [
                            0.4444444444444444,
                            "#bd3786"
                          ],
                          [
                            0.5555555555555556,
                            "#d8576b"
                          ],
                          [
                            0.6666666666666666,
                            "#ed7953"
                          ],
                          [
                            0.7777777777777778,
                            "#fb9f3a"
                          ],
                          [
                            0.8888888888888888,
                            "#fdca26"
                          ],
                          [
                            1,
                            "#f0f921"
                          ]
                        ],
                        "type": "histogram2dcontour"
                      }
                    ],
                    "mesh3d": [
                      {
                        "colorbar": {
                          "outlinewidth": 0,
                          "ticks": ""
                        },
                        "type": "mesh3d"
                      }
                    ],
                    "parcoords": [
                      {
                        "line": {
                          "colorbar": {
                            "outlinewidth": 0,
                            "ticks": ""
                          }
                        },
                        "type": "parcoords"
                      }
                    ],
                    "pie": [
                      {
                        "automargin": true,
                        "type": "pie"
                      }
                    ],
                    "scatter": [
                      {
                        "fillpattern": {
                          "fillmode": "overlay",
                          "size": 10,
                          "solidity": 0.2
                        },
                        "type": "scatter"
                      }
                    ],
                    "scatter3d": [
                      {
                        "line": {
                          "colorbar": {
                            "outlinewidth": 0,
                            "ticks": ""
                          }
                        },
                        "marker": {
                          "colorbar": {
                            "outlinewidth": 0,
                            "ticks": ""
                          }
                        },
                        "type": "scatter3d"
                      }
                    ],
                    "scattercarpet": [
                      {
                        "marker": {
                          "colorbar": {
                            "outlinewidth": 0,
                            "ticks": ""
                          }
                        },
                        "type": "scattercarpet"
                      }
                    ],
                    "scattergeo": [
                      {
                        "marker": {
                          "colorbar": {
                            "outlinewidth": 0,
                            "ticks": ""
                          }
                        },
                        "type": "scattergeo"
                      }
                    ],
                    "scattergl": [
                      {
                        "marker": {
                          "colorbar": {
                            "outlinewidth": 0,
                            "ticks": ""
                          }
                        },
                        "type": "scattergl"
                      }
                    ],
                    "scattermapbox": [
                      {
                        "marker": {
                          "colorbar": {
                            "outlinewidth": 0,
                            "ticks": ""
                          }
                        },
                        "type": "scattermapbox"
                      }
                    ],
                    "scatterpolar": [
                      {
                        "marker": {
                          "colorbar": {
                            "outlinewidth": 0,
                            "ticks": ""
                          }
                        },
                        "type": "scatterpolar"
                      }
                    ],
                    "scatterpolargl": [
                      {
                        "marker": {
                          "colorbar": {
                            "outlinewidth": 0,
                            "ticks": ""
                          }
                        },
                        "type": "scatterpolargl"
                      }
                    ],
                    "scatterternary": [
                      {
                        "marker": {
                          "colorbar": {
                            "outlinewidth": 0,
                            "ticks": ""
                          }
                        },
                        "type": "scatterternary"
                      }
                    ],
                    "surface": [
                      {
                        "colorbar": {
                          "outlinewidth": 0,
                          "ticks": ""
                        },
                        "colorscale": [
                          [
                            0,
                            "#0d0887"
                          ],
                          [
                            0.1111111111111111,
                            "#46039f"
                          ],
                          [
                            0.2222222222222222,
                            "#7201a8"
                          ],
                          [
                            0.3333333333333333,
                            "#9c179e"
                          ],
                          [
                            0.4444444444444444,
                            "#bd3786"
                          ],
                          [
                            0.5555555555555556,
                            "#d8576b"
                          ],
                          [
                            0.6666666666666666,
                            "#ed7953"
                          ],
                          [
                            0.7777777777777778,
                            "#fb9f3a"
                          ],
                          [
                            0.8888888888888888,
                            "#fdca26"
                          ],
                          [
                            1,
                            "#f0f921"
                          ]
                        ],
                        "type": "surface"
                      }
                    ],
                    "table": [
                      {
                        "cells": {
                          "fill": {
                            "color": "#EBF0F8"
                          },
                          "line": {
                            "color": "white"
                          }
                        },
                        "header": {
                          "fill": {
                            "color": "#C8D4E3"
                          },
                          "line": {
                            "color": "white"
                          }
                        },
                        "type": "table"
                      }
                    ]
                  },
                  "layout": {
                    "annotationdefaults": {
                      "arrowcolor": "#2a3f5f",
                      "arrowhead": 0,
                      "arrowwidth": 1
                    },
                    "autotypenumbers": "strict",
                    "coloraxis": {
                      "colorbar": {
                        "outlinewidth": 0,
                        "ticks": ""
                      }
                    },
                    "colorscale": {
                      "diverging": [
                        [
                          0,
                          "#8e0152"
                        ],
                        [
                          0.1,
                          "#c51b7d"
                        ],
                        [
                          0.2,
                          "#de77ae"
                        ],
                        [
                          0.3,
                          "#f1b6da"
                        ],
                        [
                          0.4,
                          "#fde0ef"
                        ],
                        [
                          0.5,
                          "#f7f7f7"
                        ],
                        [
                          0.6,
                          "#e6f5d0"
                        ],
                        [
                          0.7,
                          "#b8e186"
                        ],
                        [
                          0.8,
                          "#7fbc41"
                        ],
                        [
                          0.9,
                          "#4d9221"
                        ],
                        [
                          1,
                          "#276419"
                        ]
                      ],
                      "sequential": [
                        [
                          0,
                          "#0d0887"
                        ],
                        [
                          0.1111111111111111,
                          "#46039f"
                        ],
                        [
                          0.2222222222222222,
                          "#7201a8"
                        ],
                        [
                          0.3333333333333333,
                          "#9c179e"
                        ],
                        [
                          0.4444444444444444,
                          "#bd3786"
                        ],
                        [
                          0.5555555555555556,
                          "#d8576b"
                        ],
                        [
                          0.6666666666666666,
                          "#ed7953"
                        ],
                        [
                          0.7777777777777778,
                          "#fb9f3a"
                        ],
                        [
                          0.8888888888888888,
                          "#fdca26"
                        ],
                        [
                          1,
                          "#f0f921"
                        ]
                      ],
                      "sequentialminus": [
                        [
                          0,
                          "#0d0887"
                        ],
                        [
                          0.1111111111111111,
                          "#46039f"
                        ],
                        [
                          0.2222222222222222,
                          "#7201a8"
                        ],
                        [
                          0.3333333333333333,
                          "#9c179e"
                        ],
                        [
                          0.4444444444444444,
                          "#bd3786"
                        ],
                        [
                          0.5555555555555556,
                          "#d8576b"
                        ],
                        [
                          0.6666666666666666,
                          "#ed7953"
                        ],
                        [
                          0.7777777777777778,
                          "#fb9f3a"
                        ],
                        [
                          0.8888888888888888,
                          "#fdca26"
                        ],
                        [
                          1,
                          "#f0f921"
                        ]
                      ]
                    },
                    "colorway": [
                      "#636efa",
                      "#EF553B",
                      "#00cc96",
                      "#ab63fa",
                      "#FFA15A",
                      "#19d3f3",
                      "#FF6692",
                      "#B6E880",
                      "#FF97FF",
                      "#FECB52"
                    ],
                    "font": {
                      "color": "#2a3f5f"
                    },
                    "geo": {
                      "bgcolor": "white",
                      "lakecolor": "white",
                      "landcolor": "white",
                      "showlakes": true,
                      "showland": true,
                      "subunitcolor": "#C8D4E3"
                    },
                    "hoverlabel": {
                      "align": "left"
                    },
                    "hovermode": "closest",
                    "mapbox": {
                      "style": "light"
                    },
                    "paper_bgcolor": "white",
                    "plot_bgcolor": "white",
                    "polar": {
                      "angularaxis": {
                        "gridcolor": "#EBF0F8",
                        "linecolor": "#EBF0F8",
                        "ticks": ""
                      },
                      "bgcolor": "white",
                      "radialaxis": {
                        "gridcolor": "#EBF0F8",
                        "linecolor": "#EBF0F8",
                        "ticks": ""
                      }
                    },
                    "scene": {
                      "xaxis": {
                        "backgroundcolor": "white",
                        "gridcolor": "#DFE8F3",
                        "gridwidth": 2,
                        "linecolor": "#EBF0F8",
                        "showbackground": true,
                        "ticks": "",
                        "zerolinecolor": "#EBF0F8"
                      },
                      "yaxis": {
                        "backgroundcolor": "white",
                        "gridcolor": "#DFE8F3",
                        "gridwidth": 2,
                        "linecolor": "#EBF0F8",
                        "showbackground": true,
                        "ticks": "",
                        "zerolinecolor": "#EBF0F8"
                      },
                      "zaxis": {
                        "backgroundcolor": "white",
                        "gridcolor": "#DFE8F3",
                        "gridwidth": 2,
                        "linecolor": "#EBF0F8",
                        "showbackground": true,
                        "ticks": "",
                        "zerolinecolor": "#EBF0F8"
                      }
                    },
                    "shapedefaults": {
                      "line": {
                        "color": "#2a3f5f"
                      }
                    },
                    "ternary": {
                      "aaxis": {
                        "gridcolor": "#DFE8F3",
                        "linecolor": "#A2B1C6",
                        "ticks": ""
                      },
                      "baxis": {
                        "gridcolor": "#DFE8F3",
                        "linecolor": "#A2B1C6",
                        "ticks": ""
                      },
                      "bgcolor": "white",
                      "caxis": {
                        "gridcolor": "#DFE8F3",
                        "linecolor": "#A2B1C6",
                        "ticks": ""
                      }
                    },
                    "title": {
                      "x": 0.05
                    },
                    "xaxis": {
                      "automargin": true,
                      "gridcolor": "#EBF0F8",
                      "linecolor": "#EBF0F8",
                      "ticks": "",
                      "title": {
                        "standoff": 15
                      },
                      "zerolinecolor": "#EBF0F8",
                      "zerolinewidth": 2
                    },
                    "yaxis": {
                      "automargin": true,
                      "gridcolor": "#EBF0F8",
                      "linecolor": "#EBF0F8",
                      "ticks": "",
                      "title": {
                        "standoff": 15
                      },
                      "zerolinecolor": "#EBF0F8",
                      "zerolinewidth": 2
                    }
                  }
                },
                "title": {
                  "text": "Correlation Heatmap"
                },
                "width": 1000,
                "xaxis": {
                  "anchor": "y",
                  "constrain": "domain",
                  "domain": [
                    0,
                    1
                  ],
                  "scaleanchor": "y"
                },
                "yaxis": {
                  "anchor": "x",
                  "autorange": "reversed",
                  "constrain": "domain",
                  "domain": [
                    0,
                    1
                  ]
                }
              }
            }
          },
          "metadata": {},
          "output_type": "display_data"
        }
      ],
      "source": [
        "fig = px.imshow(correlation_matrix, text_auto=True, width=1000, height=600, title='Correlation Heatmap')\n",
        "fig.show()"
      ]
    },
    {
      "cell_type": "markdown",
      "metadata": {},
      "source": [
        "**Question no:12**"
      ]
    },
    {
      "cell_type": "code",
      "execution_count": 18,
      "metadata": {
        "colab": {
          "base_uri": "https://localhost:8080/",
          "height": 542
        },
        "id": "ZWdj9U3xxaTr",
        "outputId": "c5fe6f3e-5abb-413b-f7d3-9ab38498783f"
      },
      "outputs": [
        {
          "data": {
            "application/vnd.plotly.v1+json": {
              "config": {
                "plotlyServerURL": "https://plot.ly"
              },
              "data": [
                {
                  "alignmentgroup": "True",
                  "hovertemplate": "Hashtag=%{x}<br>Count=%{y}<extra></extra>",
                  "legendgroup": "",
                  "marker": {
                    "color": "#636efa",
                    "pattern": {
                      "shape": ""
                    }
                  },
                  "name": "",
                  "offsetgroup": "",
                  "orientation": "v",
                  "showlegend": false,
                  "textposition": "auto",
                  "type": "bar",
                  "x": [
                    "#thecleverprogrammer",
                    "#amankharwal",
                    "#python",
                    "#machinelearning",
                    "#pythonprogramming",
                    "#datascience",
                    "#ai",
                    "#pythonprojects",
                    "#artificialintelligence",
                    "#data",
                    "#dataanalytics",
                    "#datascientist",
                    "#pythoncode",
                    "#dataanalysis",
                    "#deeplearning",
                    "#datascienceprojects",
                    "#machinelearningprojects",
                    "#programming",
                    "#technology",
                    "#coding",
                    "#tech",
                    "#computerscience",
                    "#bigdata",
                    "#datavisualization",
                    "#pythonprogrammer",
                    "#pythoncoding",
                    "#pythondeveloper",
                    "#pythonlearning",
                    "#analytics",
                    "#business",
                    "#statistics",
                    "#machinelearningalgorithms",
                    "#dataanalyst",
                    "#webdevelopment",
                    "#naturallanguageprocessing",
                    "#nlp",
                    "#algorithms",
                    "#software",
                    "#algorithm",
                    "#neuralnetwork",
                    "#ml",
                    "#sentimentanalysis",
                    "#developer",
                    "#machinelearningmodels",
                    "#html",
                    "#css",
                    "#webdeveloper",
                    "#sentiment",
                    "#database",
                    "#codinglife",
                    "#java",
                    "#programmer",
                    "#coder",
                    "#code",
                    "#javascript",
                    "#softwaredeveloper",
                    "#datasciencetraining",
                    "#timeseries",
                    "#time",
                    "#datasciencecourse",
                    "#datascienceeducation",
                    "#datamining",
                    "#datasciencejobs",
                    "#businessintelligence",
                    "#timeseriesmalaysia",
                    "#analysis",
                    "#iot",
                    "#timeseriesanalysis",
                    "#linux",
                    "#dataviz",
                    "#webdesign",
                    "#neuralnetworks",
                    "#programmers",
                    "#programmingmemes",
                    "#hacking",
                    "#programminglife",
                    "#php",
                    "#investing",
                    "#artificialintelligenceai",
                    "#job",
                    "#tensorflow",
                    "#powerbi",
                    "#finance",
                    "#interview",
                    "#zomato",
                    "#businessmodel",
                    "#casestudy",
                    "#money",
                    "#investment",
                    "#businessanalytics",
                    "#dataanalysisprojects",
                    "#cryptocurrency",
                    "#bitcoin",
                    "#covid",
                    "#health",
                    "#healthcare",
                    "#stockmarket",
                    "#trading",
                    "#careeradvice",
                    "#candlestickcharts",
                    "#career",
                    "#jobs",
                    "#stressdetection",
                    "#education",
                    "#success",
                    "#motivation",
                    "#clustering",
                    "#careerdevelopment",
                    "#resume",
                    "#digitalmarketing",
                    "#media",
                    "#socialmedia",
                    "#IT",
                    "#marketing",
                    "#students",
                    "#stocks",
                    "#goals",
                    "#careers",
                    "#stress",
                    "#forex",
                    "#candlestick",
                    "#tableau",
                    "#projects",
                    "#python3",
                    "#work",
                    "#codinginterview",
                    "#pythonprogramminglanguage",
                    "#otp",
                    "#innovation",
                    "#recommendationsystem",
                    "#recommendations",
                    "#recommended",
                    "#otpverification",
                    "#roadmap",
                    "#casestudies",
                    "#cloud",
                    "#amazonfinds",
                    "#careergoals",
                    "#recommendation",
                    "#jobsearch",
                    "#internet",
                    "#network",
                    "#cybersecurity",
                    "#security",
                    "#google",
                    "#facebook",
                    "#datascienceinterview",
                    "#qrcodes",
                    "#bigdataanalytics",
                    "#alexnet",
                    "#bookstagram",
                    "#flipkart",
                    "#news",
                    "#instagram",
                    "@codergallery",
                    "#whatsapp",
                    "#pythonprogram",
                    "#ukraine",
                    "#instagramreach",
                    "#softskills",
                    "#mysql",
                    "#pythonbooks",
                    "#sql",
                    "#boxplots"
                  ],
                  "xaxis": "x",
                  "y": [
                    117,
                    117,
                    109,
                    97,
                    95,
                    94,
                    91,
                    90,
                    89,
                    88,
                    87,
                    83,
                    78,
                    77,
                    75,
                    43,
                    43,
                    26,
                    25,
                    24,
                    23,
                    21,
                    20,
                    19,
                    19,
                    19,
                    19,
                    19,
                    16,
                    16,
                    14,
                    13,
                    12,
                    10,
                    9,
                    9,
                    9,
                    9,
                    9,
                    8,
                    8,
                    7,
                    7,
                    7,
                    7,
                    7,
                    7,
                    7,
                    7,
                    7,
                    7,
                    7,
                    7,
                    7,
                    7,
                    7,
                    6,
                    6,
                    6,
                    6,
                    6,
                    6,
                    6,
                    6,
                    6,
                    6,
                    6,
                    6,
                    5,
                    5,
                    5,
                    5,
                    5,
                    5,
                    5,
                    5,
                    5,
                    4,
                    4,
                    4,
                    4,
                    4,
                    4,
                    4,
                    4,
                    4,
                    4,
                    4,
                    3,
                    3,
                    3,
                    3,
                    3,
                    3,
                    3,
                    3,
                    3,
                    3,
                    2,
                    2,
                    2,
                    2,
                    2,
                    2,
                    2,
                    2,
                    2,
                    2,
                    2,
                    2,
                    2,
                    2,
                    2,
                    2,
                    2,
                    2,
                    2,
                    2,
                    2,
                    2,
                    2,
                    2,
                    2,
                    2,
                    2,
                    2,
                    2,
                    2,
                    2,
                    2,
                    2,
                    2,
                    2,
                    2,
                    2,
                    2,
                    2,
                    2,
                    2,
                    2,
                    2,
                    2,
                    2,
                    2,
                    1,
                    1,
                    1,
                    1,
                    1,
                    1,
                    1,
                    1,
                    1,
                    1,
                    1,
                    1,
                    1,
                    1,
                    1,
                    1,
                    1,
                    1,
                    1,
                    1
                  ],
                  "yaxis": "y"
                }
              ],
              "layout": {
                "barmode": "relative",
                "legend": {
                  "tracegroupgap": 0
                },
                "template": {
                  "data": {
                    "bar": [
                      {
                        "error_x": {
                          "color": "#2a3f5f"
                        },
                        "error_y": {
                          "color": "#2a3f5f"
                        },
                        "marker": {
                          "line": {
                            "color": "white",
                            "width": 0.5
                          },
                          "pattern": {
                            "fillmode": "overlay",
                            "size": 10,
                            "solidity": 0.2
                          }
                        },
                        "type": "bar"
                      }
                    ],
                    "barpolar": [
                      {
                        "marker": {
                          "line": {
                            "color": "white",
                            "width": 0.5
                          },
                          "pattern": {
                            "fillmode": "overlay",
                            "size": 10,
                            "solidity": 0.2
                          }
                        },
                        "type": "barpolar"
                      }
                    ],
                    "carpet": [
                      {
                        "aaxis": {
                          "endlinecolor": "#2a3f5f",
                          "gridcolor": "#C8D4E3",
                          "linecolor": "#C8D4E3",
                          "minorgridcolor": "#C8D4E3",
                          "startlinecolor": "#2a3f5f"
                        },
                        "baxis": {
                          "endlinecolor": "#2a3f5f",
                          "gridcolor": "#C8D4E3",
                          "linecolor": "#C8D4E3",
                          "minorgridcolor": "#C8D4E3",
                          "startlinecolor": "#2a3f5f"
                        },
                        "type": "carpet"
                      }
                    ],
                    "choropleth": [
                      {
                        "colorbar": {
                          "outlinewidth": 0,
                          "ticks": ""
                        },
                        "type": "choropleth"
                      }
                    ],
                    "contour": [
                      {
                        "colorbar": {
                          "outlinewidth": 0,
                          "ticks": ""
                        },
                        "colorscale": [
                          [
                            0,
                            "#0d0887"
                          ],
                          [
                            0.1111111111111111,
                            "#46039f"
                          ],
                          [
                            0.2222222222222222,
                            "#7201a8"
                          ],
                          [
                            0.3333333333333333,
                            "#9c179e"
                          ],
                          [
                            0.4444444444444444,
                            "#bd3786"
                          ],
                          [
                            0.5555555555555556,
                            "#d8576b"
                          ],
                          [
                            0.6666666666666666,
                            "#ed7953"
                          ],
                          [
                            0.7777777777777778,
                            "#fb9f3a"
                          ],
                          [
                            0.8888888888888888,
                            "#fdca26"
                          ],
                          [
                            1,
                            "#f0f921"
                          ]
                        ],
                        "type": "contour"
                      }
                    ],
                    "contourcarpet": [
                      {
                        "colorbar": {
                          "outlinewidth": 0,
                          "ticks": ""
                        },
                        "type": "contourcarpet"
                      }
                    ],
                    "heatmap": [
                      {
                        "colorbar": {
                          "outlinewidth": 0,
                          "ticks": ""
                        },
                        "colorscale": [
                          [
                            0,
                            "#0d0887"
                          ],
                          [
                            0.1111111111111111,
                            "#46039f"
                          ],
                          [
                            0.2222222222222222,
                            "#7201a8"
                          ],
                          [
                            0.3333333333333333,
                            "#9c179e"
                          ],
                          [
                            0.4444444444444444,
                            "#bd3786"
                          ],
                          [
                            0.5555555555555556,
                            "#d8576b"
                          ],
                          [
                            0.6666666666666666,
                            "#ed7953"
                          ],
                          [
                            0.7777777777777778,
                            "#fb9f3a"
                          ],
                          [
                            0.8888888888888888,
                            "#fdca26"
                          ],
                          [
                            1,
                            "#f0f921"
                          ]
                        ],
                        "type": "heatmap"
                      }
                    ],
                    "heatmapgl": [
                      {
                        "colorbar": {
                          "outlinewidth": 0,
                          "ticks": ""
                        },
                        "colorscale": [
                          [
                            0,
                            "#0d0887"
                          ],
                          [
                            0.1111111111111111,
                            "#46039f"
                          ],
                          [
                            0.2222222222222222,
                            "#7201a8"
                          ],
                          [
                            0.3333333333333333,
                            "#9c179e"
                          ],
                          [
                            0.4444444444444444,
                            "#bd3786"
                          ],
                          [
                            0.5555555555555556,
                            "#d8576b"
                          ],
                          [
                            0.6666666666666666,
                            "#ed7953"
                          ],
                          [
                            0.7777777777777778,
                            "#fb9f3a"
                          ],
                          [
                            0.8888888888888888,
                            "#fdca26"
                          ],
                          [
                            1,
                            "#f0f921"
                          ]
                        ],
                        "type": "heatmapgl"
                      }
                    ],
                    "histogram": [
                      {
                        "marker": {
                          "pattern": {
                            "fillmode": "overlay",
                            "size": 10,
                            "solidity": 0.2
                          }
                        },
                        "type": "histogram"
                      }
                    ],
                    "histogram2d": [
                      {
                        "colorbar": {
                          "outlinewidth": 0,
                          "ticks": ""
                        },
                        "colorscale": [
                          [
                            0,
                            "#0d0887"
                          ],
                          [
                            0.1111111111111111,
                            "#46039f"
                          ],
                          [
                            0.2222222222222222,
                            "#7201a8"
                          ],
                          [
                            0.3333333333333333,
                            "#9c179e"
                          ],
                          [
                            0.4444444444444444,
                            "#bd3786"
                          ],
                          [
                            0.5555555555555556,
                            "#d8576b"
                          ],
                          [
                            0.6666666666666666,
                            "#ed7953"
                          ],
                          [
                            0.7777777777777778,
                            "#fb9f3a"
                          ],
                          [
                            0.8888888888888888,
                            "#fdca26"
                          ],
                          [
                            1,
                            "#f0f921"
                          ]
                        ],
                        "type": "histogram2d"
                      }
                    ],
                    "histogram2dcontour": [
                      {
                        "colorbar": {
                          "outlinewidth": 0,
                          "ticks": ""
                        },
                        "colorscale": [
                          [
                            0,
                            "#0d0887"
                          ],
                          [
                            0.1111111111111111,
                            "#46039f"
                          ],
                          [
                            0.2222222222222222,
                            "#7201a8"
                          ],
                          [
                            0.3333333333333333,
                            "#9c179e"
                          ],
                          [
                            0.4444444444444444,
                            "#bd3786"
                          ],
                          [
                            0.5555555555555556,
                            "#d8576b"
                          ],
                          [
                            0.6666666666666666,
                            "#ed7953"
                          ],
                          [
                            0.7777777777777778,
                            "#fb9f3a"
                          ],
                          [
                            0.8888888888888888,
                            "#fdca26"
                          ],
                          [
                            1,
                            "#f0f921"
                          ]
                        ],
                        "type": "histogram2dcontour"
                      }
                    ],
                    "mesh3d": [
                      {
                        "colorbar": {
                          "outlinewidth": 0,
                          "ticks": ""
                        },
                        "type": "mesh3d"
                      }
                    ],
                    "parcoords": [
                      {
                        "line": {
                          "colorbar": {
                            "outlinewidth": 0,
                            "ticks": ""
                          }
                        },
                        "type": "parcoords"
                      }
                    ],
                    "pie": [
                      {
                        "automargin": true,
                        "type": "pie"
                      }
                    ],
                    "scatter": [
                      {
                        "fillpattern": {
                          "fillmode": "overlay",
                          "size": 10,
                          "solidity": 0.2
                        },
                        "type": "scatter"
                      }
                    ],
                    "scatter3d": [
                      {
                        "line": {
                          "colorbar": {
                            "outlinewidth": 0,
                            "ticks": ""
                          }
                        },
                        "marker": {
                          "colorbar": {
                            "outlinewidth": 0,
                            "ticks": ""
                          }
                        },
                        "type": "scatter3d"
                      }
                    ],
                    "scattercarpet": [
                      {
                        "marker": {
                          "colorbar": {
                            "outlinewidth": 0,
                            "ticks": ""
                          }
                        },
                        "type": "scattercarpet"
                      }
                    ],
                    "scattergeo": [
                      {
                        "marker": {
                          "colorbar": {
                            "outlinewidth": 0,
                            "ticks": ""
                          }
                        },
                        "type": "scattergeo"
                      }
                    ],
                    "scattergl": [
                      {
                        "marker": {
                          "colorbar": {
                            "outlinewidth": 0,
                            "ticks": ""
                          }
                        },
                        "type": "scattergl"
                      }
                    ],
                    "scattermapbox": [
                      {
                        "marker": {
                          "colorbar": {
                            "outlinewidth": 0,
                            "ticks": ""
                          }
                        },
                        "type": "scattermapbox"
                      }
                    ],
                    "scatterpolar": [
                      {
                        "marker": {
                          "colorbar": {
                            "outlinewidth": 0,
                            "ticks": ""
                          }
                        },
                        "type": "scatterpolar"
                      }
                    ],
                    "scatterpolargl": [
                      {
                        "marker": {
                          "colorbar": {
                            "outlinewidth": 0,
                            "ticks": ""
                          }
                        },
                        "type": "scatterpolargl"
                      }
                    ],
                    "scatterternary": [
                      {
                        "marker": {
                          "colorbar": {
                            "outlinewidth": 0,
                            "ticks": ""
                          }
                        },
                        "type": "scatterternary"
                      }
                    ],
                    "surface": [
                      {
                        "colorbar": {
                          "outlinewidth": 0,
                          "ticks": ""
                        },
                        "colorscale": [
                          [
                            0,
                            "#0d0887"
                          ],
                          [
                            0.1111111111111111,
                            "#46039f"
                          ],
                          [
                            0.2222222222222222,
                            "#7201a8"
                          ],
                          [
                            0.3333333333333333,
                            "#9c179e"
                          ],
                          [
                            0.4444444444444444,
                            "#bd3786"
                          ],
                          [
                            0.5555555555555556,
                            "#d8576b"
                          ],
                          [
                            0.6666666666666666,
                            "#ed7953"
                          ],
                          [
                            0.7777777777777778,
                            "#fb9f3a"
                          ],
                          [
                            0.8888888888888888,
                            "#fdca26"
                          ],
                          [
                            1,
                            "#f0f921"
                          ]
                        ],
                        "type": "surface"
                      }
                    ],
                    "table": [
                      {
                        "cells": {
                          "fill": {
                            "color": "#EBF0F8"
                          },
                          "line": {
                            "color": "white"
                          }
                        },
                        "header": {
                          "fill": {
                            "color": "#C8D4E3"
                          },
                          "line": {
                            "color": "white"
                          }
                        },
                        "type": "table"
                      }
                    ]
                  },
                  "layout": {
                    "annotationdefaults": {
                      "arrowcolor": "#2a3f5f",
                      "arrowhead": 0,
                      "arrowwidth": 1
                    },
                    "autotypenumbers": "strict",
                    "coloraxis": {
                      "colorbar": {
                        "outlinewidth": 0,
                        "ticks": ""
                      }
                    },
                    "colorscale": {
                      "diverging": [
                        [
                          0,
                          "#8e0152"
                        ],
                        [
                          0.1,
                          "#c51b7d"
                        ],
                        [
                          0.2,
                          "#de77ae"
                        ],
                        [
                          0.3,
                          "#f1b6da"
                        ],
                        [
                          0.4,
                          "#fde0ef"
                        ],
                        [
                          0.5,
                          "#f7f7f7"
                        ],
                        [
                          0.6,
                          "#e6f5d0"
                        ],
                        [
                          0.7,
                          "#b8e186"
                        ],
                        [
                          0.8,
                          "#7fbc41"
                        ],
                        [
                          0.9,
                          "#4d9221"
                        ],
                        [
                          1,
                          "#276419"
                        ]
                      ],
                      "sequential": [
                        [
                          0,
                          "#0d0887"
                        ],
                        [
                          0.1111111111111111,
                          "#46039f"
                        ],
                        [
                          0.2222222222222222,
                          "#7201a8"
                        ],
                        [
                          0.3333333333333333,
                          "#9c179e"
                        ],
                        [
                          0.4444444444444444,
                          "#bd3786"
                        ],
                        [
                          0.5555555555555556,
                          "#d8576b"
                        ],
                        [
                          0.6666666666666666,
                          "#ed7953"
                        ],
                        [
                          0.7777777777777778,
                          "#fb9f3a"
                        ],
                        [
                          0.8888888888888888,
                          "#fdca26"
                        ],
                        [
                          1,
                          "#f0f921"
                        ]
                      ],
                      "sequentialminus": [
                        [
                          0,
                          "#0d0887"
                        ],
                        [
                          0.1111111111111111,
                          "#46039f"
                        ],
                        [
                          0.2222222222222222,
                          "#7201a8"
                        ],
                        [
                          0.3333333333333333,
                          "#9c179e"
                        ],
                        [
                          0.4444444444444444,
                          "#bd3786"
                        ],
                        [
                          0.5555555555555556,
                          "#d8576b"
                        ],
                        [
                          0.6666666666666666,
                          "#ed7953"
                        ],
                        [
                          0.7777777777777778,
                          "#fb9f3a"
                        ],
                        [
                          0.8888888888888888,
                          "#fdca26"
                        ],
                        [
                          1,
                          "#f0f921"
                        ]
                      ]
                    },
                    "colorway": [
                      "#636efa",
                      "#EF553B",
                      "#00cc96",
                      "#ab63fa",
                      "#FFA15A",
                      "#19d3f3",
                      "#FF6692",
                      "#B6E880",
                      "#FF97FF",
                      "#FECB52"
                    ],
                    "font": {
                      "color": "#2a3f5f"
                    },
                    "geo": {
                      "bgcolor": "white",
                      "lakecolor": "white",
                      "landcolor": "white",
                      "showlakes": true,
                      "showland": true,
                      "subunitcolor": "#C8D4E3"
                    },
                    "hoverlabel": {
                      "align": "left"
                    },
                    "hovermode": "closest",
                    "mapbox": {
                      "style": "light"
                    },
                    "paper_bgcolor": "white",
                    "plot_bgcolor": "white",
                    "polar": {
                      "angularaxis": {
                        "gridcolor": "#EBF0F8",
                        "linecolor": "#EBF0F8",
                        "ticks": ""
                      },
                      "bgcolor": "white",
                      "radialaxis": {
                        "gridcolor": "#EBF0F8",
                        "linecolor": "#EBF0F8",
                        "ticks": ""
                      }
                    },
                    "scene": {
                      "xaxis": {
                        "backgroundcolor": "white",
                        "gridcolor": "#DFE8F3",
                        "gridwidth": 2,
                        "linecolor": "#EBF0F8",
                        "showbackground": true,
                        "ticks": "",
                        "zerolinecolor": "#EBF0F8"
                      },
                      "yaxis": {
                        "backgroundcolor": "white",
                        "gridcolor": "#DFE8F3",
                        "gridwidth": 2,
                        "linecolor": "#EBF0F8",
                        "showbackground": true,
                        "ticks": "",
                        "zerolinecolor": "#EBF0F8"
                      },
                      "zaxis": {
                        "backgroundcolor": "white",
                        "gridcolor": "#DFE8F3",
                        "gridwidth": 2,
                        "linecolor": "#EBF0F8",
                        "showbackground": true,
                        "ticks": "",
                        "zerolinecolor": "#EBF0F8"
                      }
                    },
                    "shapedefaults": {
                      "line": {
                        "color": "#2a3f5f"
                      }
                    },
                    "ternary": {
                      "aaxis": {
                        "gridcolor": "#DFE8F3",
                        "linecolor": "#A2B1C6",
                        "ticks": ""
                      },
                      "baxis": {
                        "gridcolor": "#DFE8F3",
                        "linecolor": "#A2B1C6",
                        "ticks": ""
                      },
                      "bgcolor": "white",
                      "caxis": {
                        "gridcolor": "#DFE8F3",
                        "linecolor": "#A2B1C6",
                        "ticks": ""
                      }
                    },
                    "title": {
                      "x": 0.05
                    },
                    "xaxis": {
                      "automargin": true,
                      "gridcolor": "#EBF0F8",
                      "linecolor": "#EBF0F8",
                      "ticks": "",
                      "title": {
                        "standoff": 15
                      },
                      "zerolinecolor": "#EBF0F8",
                      "zerolinewidth": 2
                    },
                    "yaxis": {
                      "automargin": true,
                      "gridcolor": "#EBF0F8",
                      "linecolor": "#EBF0F8",
                      "ticks": "",
                      "title": {
                        "standoff": 15
                      },
                      "zerolinecolor": "#EBF0F8",
                      "zerolinewidth": 2
                    }
                  }
                },
                "title": {
                  "text": "Distribution of Hashtags"
                },
                "xaxis": {
                  "anchor": "y",
                  "domain": [
                    0,
                    1
                  ],
                  "title": {
                    "text": "Hashtag"
                  }
                },
                "yaxis": {
                  "anchor": "x",
                  "domain": [
                    0,
                    1
                  ],
                  "title": {
                    "text": "Count"
                  }
                }
              }
            }
          },
          "metadata": {},
          "output_type": "display_data"
        }
      ],
      "source": [
        "hashtags_counts = data['Hashtags'].str.split().explode().value_counts()\n",
        "\n",
        "# Create a DataFrame\n",
        "hashtags_df = pd.DataFrame({'Hashtag': hashtags_counts.index, 'Count': hashtags_counts.values})\n",
        "\n",
        "# Sort the DataFrame\n",
        "hashtags_df_sorted = hashtags_df.sort_values(by='Count', ascending=False)\n",
        "\n",
        "# Plot the histogram\n",
        "fig = px.bar(hashtags_df_sorted, x='Hashtag', y='Count', title='Distribution of Hashtags')\n",
        "fig.show()"
      ]
    },
    {
      "cell_type": "markdown",
      "metadata": {},
      "source": [
        "**Question no: 13**"
      ]
    },
    {
      "cell_type": "code",
      "execution_count": 19,
      "metadata": {
        "colab": {
          "base_uri": "https://localhost:8080/",
          "height": 542
        },
        "id": "bvlnZ334x2Jv",
        "outputId": "0bc678d0-4341-4895-fa11-717f8d0cece1"
      },
      "outputs": [
        {
          "data": {
            "application/vnd.plotly.v1+json": {
              "config": {
                "plotlyServerURL": "https://plot.ly"
              },
              "data": [
                {
                  "alignmentgroup": "True",
                  "hovertemplate": "Hashtags=%{x}<br>Likes=%{y}<extra></extra>",
                  "legendgroup": "",
                  "marker": {
                    "color": "#636efa",
                    "pattern": {
                      "shape": ""
                    }
                  },
                  "name": "",
                  "offsetgroup": "",
                  "orientation": "v",
                  "showlegend": false,
                  "textposition": "auto",
                  "type": "bar",
                  "x": [
                    "#IT",
                    "#ai",
                    "#alexnet",
                    "#algorithm",
                    "#algorithms",
                    "#amankharwal",
                    "#amazonfinds",
                    "#analysis",
                    "#analytics",
                    "#artificialintelligence",
                    "#artificialintelligenceai",
                    "#bigdata",
                    "#bigdataanalytics",
                    "#bitcoin",
                    "#bookstagram",
                    "#boxplots",
                    "#business",
                    "#businessanalytics",
                    "#businessintelligence",
                    "#businessmodel",
                    "#candlestick",
                    "#candlestickcharts",
                    "#career",
                    "#careeradvice",
                    "#careerdevelopment",
                    "#careergoals",
                    "#careers",
                    "#casestudies",
                    "#casestudy",
                    "#cloud",
                    "#clustering",
                    "#code",
                    "#coder",
                    "#coding",
                    "#codinginterview",
                    "#codinglife",
                    "#computerscience",
                    "#covid",
                    "#cryptocurrency",
                    "#css",
                    "#cybersecurity",
                    "#data",
                    "#dataanalysis",
                    "#dataanalysisprojects",
                    "#dataanalyst",
                    "#dataanalytics",
                    "#database",
                    "#datamining",
                    "#datascience",
                    "#datasciencecourse",
                    "#datascienceeducation",
                    "#datascienceinterview",
                    "#datasciencejobs",
                    "#datascienceprojects",
                    "#datasciencetraining",
                    "#datascientist",
                    "#datavisualization",
                    "#dataviz",
                    "#deeplearning",
                    "#developer",
                    "#digitalmarketing",
                    "#education",
                    "#facebook",
                    "#finance",
                    "#flipkart",
                    "#forex",
                    "#goals",
                    "#google",
                    "#hacking",
                    "#health",
                    "#healthcare",
                    "#html",
                    "#innovation",
                    "#instagram",
                    "#instagramreach",
                    "#internet",
                    "#interview",
                    "#investing",
                    "#investment",
                    "#iot",
                    "#java",
                    "#javascript",
                    "#job",
                    "#jobs",
                    "#jobsearch",
                    "#linux",
                    "#machinelearning",
                    "#machinelearningalgorithms",
                    "#machinelearningmodels",
                    "#machinelearningprojects",
                    "#marketing",
                    "#media",
                    "#ml",
                    "#money",
                    "#motivation",
                    "#mysql",
                    "#naturallanguageprocessing",
                    "#network",
                    "#neuralnetwork",
                    "#neuralnetworks",
                    "#news",
                    "#nlp",
                    "#otp",
                    "#otpverification",
                    "#php",
                    "#powerbi",
                    "#programmer",
                    "#programmers",
                    "#programming",
                    "#programminglife",
                    "#programmingmemes",
                    "#projects",
                    "#python",
                    "#python3",
                    "#pythonbooks",
                    "#pythoncode",
                    "#pythoncoding",
                    "#pythondeveloper",
                    "#pythonlearning",
                    "#pythonprogram",
                    "#pythonprogrammer",
                    "#pythonprogramming",
                    "#pythonprogramminglanguage",
                    "#pythonprojects",
                    "#qrcodes",
                    "#recommendation",
                    "#recommendations",
                    "#recommendationsystem",
                    "#recommended",
                    "#resume",
                    "#roadmap",
                    "#security",
                    "#sentiment",
                    "#sentimentanalysis",
                    "#socialmedia",
                    "#softskills",
                    "#software",
                    "#softwaredeveloper",
                    "#sql",
                    "#statistics",
                    "#stockmarket",
                    "#stocks",
                    "#stress",
                    "#stressdetection",
                    "#students",
                    "#success",
                    "#tableau",
                    "#tech",
                    "#technology",
                    "#tensorflow",
                    "#thecleverprogrammer",
                    "#time",
                    "#timeseries",
                    "#timeseriesanalysis",
                    "#timeseriesmalaysia",
                    "#trading",
                    "#ukraine",
                    "#webdesign",
                    "#webdeveloper",
                    "#webdevelopment",
                    "#whatsapp",
                    "#work",
                    "#zomato",
                    "@codergallery"
                  ],
                  "xaxis": "x",
                  "y": [
                    410,
                    15733,
                    81,
                    1615,
                    1615,
                    20462,
                    184,
                    812,
                    2001,
                    15515,
                    450,
                    2671,
                    142,
                    390,
                    124,
                    76,
                    2012,
                    387,
                    728,
                    328,
                    218,
                    218,
                    410,
                    410,
                    410,
                    410,
                    410,
                    302,
                    328,
                    235,
                    240,
                    878,
                    878,
                    3129,
                    270,
                    878,
                    2818,
                    729,
                    390,
                    878,
                    235,
                    15077,
                    13801,
                    387,
                    1845,
                    15283,
                    887,
                    728,
                    16311,
                    1814,
                    1814,
                    180,
                    1814,
                    8458,
                    1814,
                    14703,
                    2382,
                    567,
                    13204,
                    878,
                    410,
                    410,
                    85,
                    529,
                    94,
                    218,
                    410,
                    150,
                    608,
                    729,
                    729,
                    878,
                    235,
                    171,
                    171,
                    235,
                    600,
                    529,
                    380,
                    812,
                    878,
                    878,
                    680,
                    410,
                    410,
                    608,
                    16509,
                    2065,
                    761,
                    8458,
                    410,
                    410,
                    1058,
                    529,
                    410,
                    308,
                    1238,
                    235,
                    1120,
                    600,
                    96,
                    1238,
                    272,
                    272,
                    608,
                    529,
                    878,
                    608,
                    3355,
                    608,
                    608,
                    302,
                    18238,
                    296,
                    124,
                    14239,
                    3659,
                    3659,
                    3659,
                    118,
                    3659,
                    16251,
                    296,
                    16818,
                    167,
                    373,
                    373,
                    373,
                    373,
                    410,
                    525,
                    235,
                    1057,
                    1057,
                    410,
                    144,
                    1113,
                    878,
                    308,
                    1766,
                    380,
                    218,
                    302,
                    302,
                    410,
                    410,
                    265,
                    2961,
                    3187,
                    450,
                    20462,
                    812,
                    812,
                    812,
                    812,
                    380,
                    203,
                    608,
                    878,
                    1456,
                    178,
                    410,
                    328,
                    118
                  ],
                  "yaxis": "y"
                }
              ],
              "layout": {
                "barmode": "relative",
                "legend": {
                  "tracegroupgap": 0
                },
                "template": {
                  "data": {
                    "bar": [
                      {
                        "error_x": {
                          "color": "#2a3f5f"
                        },
                        "error_y": {
                          "color": "#2a3f5f"
                        },
                        "marker": {
                          "line": {
                            "color": "white",
                            "width": 0.5
                          },
                          "pattern": {
                            "fillmode": "overlay",
                            "size": 10,
                            "solidity": 0.2
                          }
                        },
                        "type": "bar"
                      }
                    ],
                    "barpolar": [
                      {
                        "marker": {
                          "line": {
                            "color": "white",
                            "width": 0.5
                          },
                          "pattern": {
                            "fillmode": "overlay",
                            "size": 10,
                            "solidity": 0.2
                          }
                        },
                        "type": "barpolar"
                      }
                    ],
                    "carpet": [
                      {
                        "aaxis": {
                          "endlinecolor": "#2a3f5f",
                          "gridcolor": "#C8D4E3",
                          "linecolor": "#C8D4E3",
                          "minorgridcolor": "#C8D4E3",
                          "startlinecolor": "#2a3f5f"
                        },
                        "baxis": {
                          "endlinecolor": "#2a3f5f",
                          "gridcolor": "#C8D4E3",
                          "linecolor": "#C8D4E3",
                          "minorgridcolor": "#C8D4E3",
                          "startlinecolor": "#2a3f5f"
                        },
                        "type": "carpet"
                      }
                    ],
                    "choropleth": [
                      {
                        "colorbar": {
                          "outlinewidth": 0,
                          "ticks": ""
                        },
                        "type": "choropleth"
                      }
                    ],
                    "contour": [
                      {
                        "colorbar": {
                          "outlinewidth": 0,
                          "ticks": ""
                        },
                        "colorscale": [
                          [
                            0,
                            "#0d0887"
                          ],
                          [
                            0.1111111111111111,
                            "#46039f"
                          ],
                          [
                            0.2222222222222222,
                            "#7201a8"
                          ],
                          [
                            0.3333333333333333,
                            "#9c179e"
                          ],
                          [
                            0.4444444444444444,
                            "#bd3786"
                          ],
                          [
                            0.5555555555555556,
                            "#d8576b"
                          ],
                          [
                            0.6666666666666666,
                            "#ed7953"
                          ],
                          [
                            0.7777777777777778,
                            "#fb9f3a"
                          ],
                          [
                            0.8888888888888888,
                            "#fdca26"
                          ],
                          [
                            1,
                            "#f0f921"
                          ]
                        ],
                        "type": "contour"
                      }
                    ],
                    "contourcarpet": [
                      {
                        "colorbar": {
                          "outlinewidth": 0,
                          "ticks": ""
                        },
                        "type": "contourcarpet"
                      }
                    ],
                    "heatmap": [
                      {
                        "colorbar": {
                          "outlinewidth": 0,
                          "ticks": ""
                        },
                        "colorscale": [
                          [
                            0,
                            "#0d0887"
                          ],
                          [
                            0.1111111111111111,
                            "#46039f"
                          ],
                          [
                            0.2222222222222222,
                            "#7201a8"
                          ],
                          [
                            0.3333333333333333,
                            "#9c179e"
                          ],
                          [
                            0.4444444444444444,
                            "#bd3786"
                          ],
                          [
                            0.5555555555555556,
                            "#d8576b"
                          ],
                          [
                            0.6666666666666666,
                            "#ed7953"
                          ],
                          [
                            0.7777777777777778,
                            "#fb9f3a"
                          ],
                          [
                            0.8888888888888888,
                            "#fdca26"
                          ],
                          [
                            1,
                            "#f0f921"
                          ]
                        ],
                        "type": "heatmap"
                      }
                    ],
                    "heatmapgl": [
                      {
                        "colorbar": {
                          "outlinewidth": 0,
                          "ticks": ""
                        },
                        "colorscale": [
                          [
                            0,
                            "#0d0887"
                          ],
                          [
                            0.1111111111111111,
                            "#46039f"
                          ],
                          [
                            0.2222222222222222,
                            "#7201a8"
                          ],
                          [
                            0.3333333333333333,
                            "#9c179e"
                          ],
                          [
                            0.4444444444444444,
                            "#bd3786"
                          ],
                          [
                            0.5555555555555556,
                            "#d8576b"
                          ],
                          [
                            0.6666666666666666,
                            "#ed7953"
                          ],
                          [
                            0.7777777777777778,
                            "#fb9f3a"
                          ],
                          [
                            0.8888888888888888,
                            "#fdca26"
                          ],
                          [
                            1,
                            "#f0f921"
                          ]
                        ],
                        "type": "heatmapgl"
                      }
                    ],
                    "histogram": [
                      {
                        "marker": {
                          "pattern": {
                            "fillmode": "overlay",
                            "size": 10,
                            "solidity": 0.2
                          }
                        },
                        "type": "histogram"
                      }
                    ],
                    "histogram2d": [
                      {
                        "colorbar": {
                          "outlinewidth": 0,
                          "ticks": ""
                        },
                        "colorscale": [
                          [
                            0,
                            "#0d0887"
                          ],
                          [
                            0.1111111111111111,
                            "#46039f"
                          ],
                          [
                            0.2222222222222222,
                            "#7201a8"
                          ],
                          [
                            0.3333333333333333,
                            "#9c179e"
                          ],
                          [
                            0.4444444444444444,
                            "#bd3786"
                          ],
                          [
                            0.5555555555555556,
                            "#d8576b"
                          ],
                          [
                            0.6666666666666666,
                            "#ed7953"
                          ],
                          [
                            0.7777777777777778,
                            "#fb9f3a"
                          ],
                          [
                            0.8888888888888888,
                            "#fdca26"
                          ],
                          [
                            1,
                            "#f0f921"
                          ]
                        ],
                        "type": "histogram2d"
                      }
                    ],
                    "histogram2dcontour": [
                      {
                        "colorbar": {
                          "outlinewidth": 0,
                          "ticks": ""
                        },
                        "colorscale": [
                          [
                            0,
                            "#0d0887"
                          ],
                          [
                            0.1111111111111111,
                            "#46039f"
                          ],
                          [
                            0.2222222222222222,
                            "#7201a8"
                          ],
                          [
                            0.3333333333333333,
                            "#9c179e"
                          ],
                          [
                            0.4444444444444444,
                            "#bd3786"
                          ],
                          [
                            0.5555555555555556,
                            "#d8576b"
                          ],
                          [
                            0.6666666666666666,
                            "#ed7953"
                          ],
                          [
                            0.7777777777777778,
                            "#fb9f3a"
                          ],
                          [
                            0.8888888888888888,
                            "#fdca26"
                          ],
                          [
                            1,
                            "#f0f921"
                          ]
                        ],
                        "type": "histogram2dcontour"
                      }
                    ],
                    "mesh3d": [
                      {
                        "colorbar": {
                          "outlinewidth": 0,
                          "ticks": ""
                        },
                        "type": "mesh3d"
                      }
                    ],
                    "parcoords": [
                      {
                        "line": {
                          "colorbar": {
                            "outlinewidth": 0,
                            "ticks": ""
                          }
                        },
                        "type": "parcoords"
                      }
                    ],
                    "pie": [
                      {
                        "automargin": true,
                        "type": "pie"
                      }
                    ],
                    "scatter": [
                      {
                        "fillpattern": {
                          "fillmode": "overlay",
                          "size": 10,
                          "solidity": 0.2
                        },
                        "type": "scatter"
                      }
                    ],
                    "scatter3d": [
                      {
                        "line": {
                          "colorbar": {
                            "outlinewidth": 0,
                            "ticks": ""
                          }
                        },
                        "marker": {
                          "colorbar": {
                            "outlinewidth": 0,
                            "ticks": ""
                          }
                        },
                        "type": "scatter3d"
                      }
                    ],
                    "scattercarpet": [
                      {
                        "marker": {
                          "colorbar": {
                            "outlinewidth": 0,
                            "ticks": ""
                          }
                        },
                        "type": "scattercarpet"
                      }
                    ],
                    "scattergeo": [
                      {
                        "marker": {
                          "colorbar": {
                            "outlinewidth": 0,
                            "ticks": ""
                          }
                        },
                        "type": "scattergeo"
                      }
                    ],
                    "scattergl": [
                      {
                        "marker": {
                          "colorbar": {
                            "outlinewidth": 0,
                            "ticks": ""
                          }
                        },
                        "type": "scattergl"
                      }
                    ],
                    "scattermapbox": [
                      {
                        "marker": {
                          "colorbar": {
                            "outlinewidth": 0,
                            "ticks": ""
                          }
                        },
                        "type": "scattermapbox"
                      }
                    ],
                    "scatterpolar": [
                      {
                        "marker": {
                          "colorbar": {
                            "outlinewidth": 0,
                            "ticks": ""
                          }
                        },
                        "type": "scatterpolar"
                      }
                    ],
                    "scatterpolargl": [
                      {
                        "marker": {
                          "colorbar": {
                            "outlinewidth": 0,
                            "ticks": ""
                          }
                        },
                        "type": "scatterpolargl"
                      }
                    ],
                    "scatterternary": [
                      {
                        "marker": {
                          "colorbar": {
                            "outlinewidth": 0,
                            "ticks": ""
                          }
                        },
                        "type": "scatterternary"
                      }
                    ],
                    "surface": [
                      {
                        "colorbar": {
                          "outlinewidth": 0,
                          "ticks": ""
                        },
                        "colorscale": [
                          [
                            0,
                            "#0d0887"
                          ],
                          [
                            0.1111111111111111,
                            "#46039f"
                          ],
                          [
                            0.2222222222222222,
                            "#7201a8"
                          ],
                          [
                            0.3333333333333333,
                            "#9c179e"
                          ],
                          [
                            0.4444444444444444,
                            "#bd3786"
                          ],
                          [
                            0.5555555555555556,
                            "#d8576b"
                          ],
                          [
                            0.6666666666666666,
                            "#ed7953"
                          ],
                          [
                            0.7777777777777778,
                            "#fb9f3a"
                          ],
                          [
                            0.8888888888888888,
                            "#fdca26"
                          ],
                          [
                            1,
                            "#f0f921"
                          ]
                        ],
                        "type": "surface"
                      }
                    ],
                    "table": [
                      {
                        "cells": {
                          "fill": {
                            "color": "#EBF0F8"
                          },
                          "line": {
                            "color": "white"
                          }
                        },
                        "header": {
                          "fill": {
                            "color": "#C8D4E3"
                          },
                          "line": {
                            "color": "white"
                          }
                        },
                        "type": "table"
                      }
                    ]
                  },
                  "layout": {
                    "annotationdefaults": {
                      "arrowcolor": "#2a3f5f",
                      "arrowhead": 0,
                      "arrowwidth": 1
                    },
                    "autotypenumbers": "strict",
                    "coloraxis": {
                      "colorbar": {
                        "outlinewidth": 0,
                        "ticks": ""
                      }
                    },
                    "colorscale": {
                      "diverging": [
                        [
                          0,
                          "#8e0152"
                        ],
                        [
                          0.1,
                          "#c51b7d"
                        ],
                        [
                          0.2,
                          "#de77ae"
                        ],
                        [
                          0.3,
                          "#f1b6da"
                        ],
                        [
                          0.4,
                          "#fde0ef"
                        ],
                        [
                          0.5,
                          "#f7f7f7"
                        ],
                        [
                          0.6,
                          "#e6f5d0"
                        ],
                        [
                          0.7,
                          "#b8e186"
                        ],
                        [
                          0.8,
                          "#7fbc41"
                        ],
                        [
                          0.9,
                          "#4d9221"
                        ],
                        [
                          1,
                          "#276419"
                        ]
                      ],
                      "sequential": [
                        [
                          0,
                          "#0d0887"
                        ],
                        [
                          0.1111111111111111,
                          "#46039f"
                        ],
                        [
                          0.2222222222222222,
                          "#7201a8"
                        ],
                        [
                          0.3333333333333333,
                          "#9c179e"
                        ],
                        [
                          0.4444444444444444,
                          "#bd3786"
                        ],
                        [
                          0.5555555555555556,
                          "#d8576b"
                        ],
                        [
                          0.6666666666666666,
                          "#ed7953"
                        ],
                        [
                          0.7777777777777778,
                          "#fb9f3a"
                        ],
                        [
                          0.8888888888888888,
                          "#fdca26"
                        ],
                        [
                          1,
                          "#f0f921"
                        ]
                      ],
                      "sequentialminus": [
                        [
                          0,
                          "#0d0887"
                        ],
                        [
                          0.1111111111111111,
                          "#46039f"
                        ],
                        [
                          0.2222222222222222,
                          "#7201a8"
                        ],
                        [
                          0.3333333333333333,
                          "#9c179e"
                        ],
                        [
                          0.4444444444444444,
                          "#bd3786"
                        ],
                        [
                          0.5555555555555556,
                          "#d8576b"
                        ],
                        [
                          0.6666666666666666,
                          "#ed7953"
                        ],
                        [
                          0.7777777777777778,
                          "#fb9f3a"
                        ],
                        [
                          0.8888888888888888,
                          "#fdca26"
                        ],
                        [
                          1,
                          "#f0f921"
                        ]
                      ]
                    },
                    "colorway": [
                      "#636efa",
                      "#EF553B",
                      "#00cc96",
                      "#ab63fa",
                      "#FFA15A",
                      "#19d3f3",
                      "#FF6692",
                      "#B6E880",
                      "#FF97FF",
                      "#FECB52"
                    ],
                    "font": {
                      "color": "#2a3f5f"
                    },
                    "geo": {
                      "bgcolor": "white",
                      "lakecolor": "white",
                      "landcolor": "white",
                      "showlakes": true,
                      "showland": true,
                      "subunitcolor": "#C8D4E3"
                    },
                    "hoverlabel": {
                      "align": "left"
                    },
                    "hovermode": "closest",
                    "mapbox": {
                      "style": "light"
                    },
                    "paper_bgcolor": "white",
                    "plot_bgcolor": "white",
                    "polar": {
                      "angularaxis": {
                        "gridcolor": "#EBF0F8",
                        "linecolor": "#EBF0F8",
                        "ticks": ""
                      },
                      "bgcolor": "white",
                      "radialaxis": {
                        "gridcolor": "#EBF0F8",
                        "linecolor": "#EBF0F8",
                        "ticks": ""
                      }
                    },
                    "scene": {
                      "xaxis": {
                        "backgroundcolor": "white",
                        "gridcolor": "#DFE8F3",
                        "gridwidth": 2,
                        "linecolor": "#EBF0F8",
                        "showbackground": true,
                        "ticks": "",
                        "zerolinecolor": "#EBF0F8"
                      },
                      "yaxis": {
                        "backgroundcolor": "white",
                        "gridcolor": "#DFE8F3",
                        "gridwidth": 2,
                        "linecolor": "#EBF0F8",
                        "showbackground": true,
                        "ticks": "",
                        "zerolinecolor": "#EBF0F8"
                      },
                      "zaxis": {
                        "backgroundcolor": "white",
                        "gridcolor": "#DFE8F3",
                        "gridwidth": 2,
                        "linecolor": "#EBF0F8",
                        "showbackground": true,
                        "ticks": "",
                        "zerolinecolor": "#EBF0F8"
                      }
                    },
                    "shapedefaults": {
                      "line": {
                        "color": "#2a3f5f"
                      }
                    },
                    "ternary": {
                      "aaxis": {
                        "gridcolor": "#DFE8F3",
                        "linecolor": "#A2B1C6",
                        "ticks": ""
                      },
                      "baxis": {
                        "gridcolor": "#DFE8F3",
                        "linecolor": "#A2B1C6",
                        "ticks": ""
                      },
                      "bgcolor": "white",
                      "caxis": {
                        "gridcolor": "#DFE8F3",
                        "linecolor": "#A2B1C6",
                        "ticks": ""
                      }
                    },
                    "title": {
                      "x": 0.05
                    },
                    "xaxis": {
                      "automargin": true,
                      "gridcolor": "#EBF0F8",
                      "linecolor": "#EBF0F8",
                      "ticks": "",
                      "title": {
                        "standoff": 15
                      },
                      "zerolinecolor": "#EBF0F8",
                      "zerolinewidth": 2
                    },
                    "yaxis": {
                      "automargin": true,
                      "gridcolor": "#EBF0F8",
                      "linecolor": "#EBF0F8",
                      "ticks": "",
                      "title": {
                        "standoff": 15
                      },
                      "zerolinecolor": "#EBF0F8",
                      "zerolinewidth": 2
                    }
                  }
                },
                "title": {
                  "text": "Distribution of Likes and hashtags"
                },
                "xaxis": {
                  "anchor": "y",
                  "domain": [
                    0,
                    1
                  ],
                  "title": {
                    "text": "Hashtags"
                  }
                },
                "yaxis": {
                  "anchor": "x",
                  "domain": [
                    0,
                    1
                  ],
                  "title": {
                    "text": "Likes"
                  }
                }
              }
            }
          },
          "metadata": {},
          "output_type": "display_data"
        }
      ],
      "source": [
        "hashtags = data['Hashtags'].str.split().explode()\n",
        "\n",
        "hashtags_df = pd.DataFrame({'Hashtags': hashtags, 'Likes': data['Likes']})\n",
        "hashtags_like_df = hashtags_df.groupby('Hashtags').agg({'Likes': 'sum'}).reset_index()\n",
        "\n",
        "fig = px.bar(hashtags_like_df, x='Hashtags', y='Likes', title='Distribution of Likes and hashtags')\n",
        "fig.show()"
      ]
    },
    {
      "cell_type": "code",
      "execution_count": 20,
      "metadata": {
        "colab": {
          "base_uri": "https://localhost:8080/",
          "height": 542
        },
        "id": "ExqElu7Q7H7Z",
        "outputId": "d2d80dcf-c6ed-4c78-8bfd-24fba8f1da15"
      },
      "outputs": [
        {
          "data": {
            "application/vnd.plotly.v1+json": {
              "config": {
                "plotlyServerURL": "https://plot.ly"
              },
              "data": [
                {
                  "alignmentgroup": "True",
                  "hovertemplate": "Hashtags=%{x}<br>Impressions=%{y}<extra></extra>",
                  "legendgroup": "",
                  "marker": {
                    "color": "#636efa",
                    "pattern": {
                      "shape": ""
                    }
                  },
                  "name": "",
                  "offsetgroup": "",
                  "orientation": "v",
                  "showlegend": false,
                  "textposition": "auto",
                  "type": "bar",
                  "x": [
                    "#IT",
                    "#ai",
                    "#alexnet",
                    "#algorithm",
                    "#algorithms",
                    "#amankharwal",
                    "#amazonfinds",
                    "#analysis",
                    "#analytics",
                    "#artificialintelligence",
                    "#artificialintelligenceai",
                    "#bigdata",
                    "#bigdataanalytics",
                    "#bitcoin",
                    "#bookstagram",
                    "#boxplots",
                    "#business",
                    "#businessanalytics",
                    "#businessintelligence",
                    "#businessmodel",
                    "#candlestick",
                    "#candlestickcharts",
                    "#career",
                    "#careeradvice",
                    "#careerdevelopment",
                    "#careergoals",
                    "#careers",
                    "#casestudies",
                    "#casestudy",
                    "#cloud",
                    "#clustering",
                    "#code",
                    "#coder",
                    "#coding",
                    "#codinginterview",
                    "#codinglife",
                    "#computerscience",
                    "#covid",
                    "#cryptocurrency",
                    "#css",
                    "#cybersecurity",
                    "#data",
                    "#dataanalysis",
                    "#dataanalysisprojects",
                    "#dataanalyst",
                    "#dataanalytics",
                    "#database",
                    "#datamining",
                    "#datascience",
                    "#datasciencecourse",
                    "#datascienceeducation",
                    "#datascienceinterview",
                    "#datasciencejobs",
                    "#datascienceprojects",
                    "#datasciencetraining",
                    "#datascientist",
                    "#datavisualization",
                    "#dataviz",
                    "#deeplearning",
                    "#developer",
                    "#digitalmarketing",
                    "#education",
                    "#facebook",
                    "#finance",
                    "#flipkart",
                    "#forex",
                    "#goals",
                    "#google",
                    "#hacking",
                    "#health",
                    "#healthcare",
                    "#html",
                    "#innovation",
                    "#instagram",
                    "#instagramreach",
                    "#internet",
                    "#interview",
                    "#investing",
                    "#investment",
                    "#iot",
                    "#java",
                    "#javascript",
                    "#job",
                    "#jobs",
                    "#jobsearch",
                    "#linux",
                    "#machinelearning",
                    "#machinelearningalgorithms",
                    "#machinelearningmodels",
                    "#machinelearningprojects",
                    "#marketing",
                    "#media",
                    "#ml",
                    "#money",
                    "#motivation",
                    "#mysql",
                    "#naturallanguageprocessing",
                    "#network",
                    "#neuralnetwork",
                    "#neuralnetworks",
                    "#news",
                    "#nlp",
                    "#otp",
                    "#otpverification",
                    "#php",
                    "#powerbi",
                    "#programmer",
                    "#programmers",
                    "#programming",
                    "#programminglife",
                    "#programmingmemes",
                    "#projects",
                    "#python",
                    "#python3",
                    "#pythonbooks",
                    "#pythoncode",
                    "#pythoncoding",
                    "#pythondeveloper",
                    "#pythonlearning",
                    "#pythonprogram",
                    "#pythonprogrammer",
                    "#pythonprogramming",
                    "#pythonprogramminglanguage",
                    "#pythonprojects",
                    "#qrcodes",
                    "#recommendation",
                    "#recommendations",
                    "#recommendationsystem",
                    "#recommended",
                    "#resume",
                    "#roadmap",
                    "#security",
                    "#sentiment",
                    "#sentimentanalysis",
                    "#socialmedia",
                    "#softskills",
                    "#software",
                    "#softwaredeveloper",
                    "#sql",
                    "#statistics",
                    "#stockmarket",
                    "#stocks",
                    "#stress",
                    "#stressdetection",
                    "#students",
                    "#success",
                    "#tableau",
                    "#tech",
                    "#technology",
                    "#tensorflow",
                    "#thecleverprogrammer",
                    "#time",
                    "#timeseries",
                    "#timeseriesanalysis",
                    "#timeseriesmalaysia",
                    "#trading",
                    "#ukraine",
                    "#webdesign",
                    "#webdeveloper",
                    "#webdevelopment",
                    "#whatsapp",
                    "#work",
                    "#zomato",
                    "@codergallery"
                  ],
                  "xaxis": "x",
                  "y": [
                    8004,
                    512027,
                    2218,
                    57289,
                    57289,
                    672166,
                    6030,
                    22444,
                    53464,
                    506190,
                    14240,
                    70884,
                    3988,
                    14121,
                    3541,
                    2064,
                    51387,
                    9401,
                    17971,
                    10844,
                    5837,
                    5837,
                    8004,
                    8004,
                    8004,
                    8004,
                    8004,
                    7848,
                    10844,
                    6181,
                    9870,
                    22843,
                    22843,
                    83264,
                    6852,
                    22843,
                    75019,
                    18292,
                    14121,
                    22843,
                    6181,
                    484761,
                    457923,
                    9401,
                    47051,
                    497787,
                    22088,
                    17971,
                    524640,
                    86691,
                    86691,
                    4998,
                    86691,
                    297427,
                    86691,
                    483746,
                    64864,
                    15438,
                    445317,
                    22843,
                    8004,
                    8004,
                    2327,
                    14224,
                    3601,
                    5837,
                    8004,
                    3854,
                    15991,
                    18292,
                    18292,
                    22843,
                    6181,
                    7231,
                    7231,
                    6181,
                    16139,
                    14224,
                    9757,
                    22444,
                    22843,
                    22843,
                    14856,
                    8004,
                    8004,
                    15991,
                    532627,
                    71529,
                    27201,
                    297427,
                    8004,
                    8004,
                    30316,
                    14224,
                    8004,
                    17713,
                    42567,
                    6181,
                    31660,
                    18529,
                    3525,
                    42567,
                    8030,
                    8030,
                    15991,
                    13389,
                    22843,
                    15991,
                    90132,
                    15991,
                    15991,
                    7848,
                    578243,
                    15991,
                    3541,
                    470276,
                    135901,
                    135901,
                    135901,
                    2957,
                    135901,
                    525346,
                    15991,
                    567608,
                    3786,
                    10036,
                    10036,
                    10036,
                    10036,
                    8004,
                    10682,
                    6181,
                    34102,
                    34102,
                    8004,
                    3884,
                    29024,
                    22843,
                    17713,
                    47283,
                    9757,
                    5837,
                    12336,
                    12336,
                    8004,
                    8004,
                    6506,
                    78655,
                    85523,
                    14240,
                    672166,
                    22444,
                    22444,
                    22444,
                    22444,
                    9757,
                    8001,
                    15991,
                    22843,
                    35456,
                    5538,
                    8004,
                    10844,
                    2957
                  ],
                  "yaxis": "y"
                }
              ],
              "layout": {
                "barmode": "relative",
                "legend": {
                  "tracegroupgap": 0
                },
                "template": {
                  "data": {
                    "bar": [
                      {
                        "error_x": {
                          "color": "#2a3f5f"
                        },
                        "error_y": {
                          "color": "#2a3f5f"
                        },
                        "marker": {
                          "line": {
                            "color": "white",
                            "width": 0.5
                          },
                          "pattern": {
                            "fillmode": "overlay",
                            "size": 10,
                            "solidity": 0.2
                          }
                        },
                        "type": "bar"
                      }
                    ],
                    "barpolar": [
                      {
                        "marker": {
                          "line": {
                            "color": "white",
                            "width": 0.5
                          },
                          "pattern": {
                            "fillmode": "overlay",
                            "size": 10,
                            "solidity": 0.2
                          }
                        },
                        "type": "barpolar"
                      }
                    ],
                    "carpet": [
                      {
                        "aaxis": {
                          "endlinecolor": "#2a3f5f",
                          "gridcolor": "#C8D4E3",
                          "linecolor": "#C8D4E3",
                          "minorgridcolor": "#C8D4E3",
                          "startlinecolor": "#2a3f5f"
                        },
                        "baxis": {
                          "endlinecolor": "#2a3f5f",
                          "gridcolor": "#C8D4E3",
                          "linecolor": "#C8D4E3",
                          "minorgridcolor": "#C8D4E3",
                          "startlinecolor": "#2a3f5f"
                        },
                        "type": "carpet"
                      }
                    ],
                    "choropleth": [
                      {
                        "colorbar": {
                          "outlinewidth": 0,
                          "ticks": ""
                        },
                        "type": "choropleth"
                      }
                    ],
                    "contour": [
                      {
                        "colorbar": {
                          "outlinewidth": 0,
                          "ticks": ""
                        },
                        "colorscale": [
                          [
                            0,
                            "#0d0887"
                          ],
                          [
                            0.1111111111111111,
                            "#46039f"
                          ],
                          [
                            0.2222222222222222,
                            "#7201a8"
                          ],
                          [
                            0.3333333333333333,
                            "#9c179e"
                          ],
                          [
                            0.4444444444444444,
                            "#bd3786"
                          ],
                          [
                            0.5555555555555556,
                            "#d8576b"
                          ],
                          [
                            0.6666666666666666,
                            "#ed7953"
                          ],
                          [
                            0.7777777777777778,
                            "#fb9f3a"
                          ],
                          [
                            0.8888888888888888,
                            "#fdca26"
                          ],
                          [
                            1,
                            "#f0f921"
                          ]
                        ],
                        "type": "contour"
                      }
                    ],
                    "contourcarpet": [
                      {
                        "colorbar": {
                          "outlinewidth": 0,
                          "ticks": ""
                        },
                        "type": "contourcarpet"
                      }
                    ],
                    "heatmap": [
                      {
                        "colorbar": {
                          "outlinewidth": 0,
                          "ticks": ""
                        },
                        "colorscale": [
                          [
                            0,
                            "#0d0887"
                          ],
                          [
                            0.1111111111111111,
                            "#46039f"
                          ],
                          [
                            0.2222222222222222,
                            "#7201a8"
                          ],
                          [
                            0.3333333333333333,
                            "#9c179e"
                          ],
                          [
                            0.4444444444444444,
                            "#bd3786"
                          ],
                          [
                            0.5555555555555556,
                            "#d8576b"
                          ],
                          [
                            0.6666666666666666,
                            "#ed7953"
                          ],
                          [
                            0.7777777777777778,
                            "#fb9f3a"
                          ],
                          [
                            0.8888888888888888,
                            "#fdca26"
                          ],
                          [
                            1,
                            "#f0f921"
                          ]
                        ],
                        "type": "heatmap"
                      }
                    ],
                    "heatmapgl": [
                      {
                        "colorbar": {
                          "outlinewidth": 0,
                          "ticks": ""
                        },
                        "colorscale": [
                          [
                            0,
                            "#0d0887"
                          ],
                          [
                            0.1111111111111111,
                            "#46039f"
                          ],
                          [
                            0.2222222222222222,
                            "#7201a8"
                          ],
                          [
                            0.3333333333333333,
                            "#9c179e"
                          ],
                          [
                            0.4444444444444444,
                            "#bd3786"
                          ],
                          [
                            0.5555555555555556,
                            "#d8576b"
                          ],
                          [
                            0.6666666666666666,
                            "#ed7953"
                          ],
                          [
                            0.7777777777777778,
                            "#fb9f3a"
                          ],
                          [
                            0.8888888888888888,
                            "#fdca26"
                          ],
                          [
                            1,
                            "#f0f921"
                          ]
                        ],
                        "type": "heatmapgl"
                      }
                    ],
                    "histogram": [
                      {
                        "marker": {
                          "pattern": {
                            "fillmode": "overlay",
                            "size": 10,
                            "solidity": 0.2
                          }
                        },
                        "type": "histogram"
                      }
                    ],
                    "histogram2d": [
                      {
                        "colorbar": {
                          "outlinewidth": 0,
                          "ticks": ""
                        },
                        "colorscale": [
                          [
                            0,
                            "#0d0887"
                          ],
                          [
                            0.1111111111111111,
                            "#46039f"
                          ],
                          [
                            0.2222222222222222,
                            "#7201a8"
                          ],
                          [
                            0.3333333333333333,
                            "#9c179e"
                          ],
                          [
                            0.4444444444444444,
                            "#bd3786"
                          ],
                          [
                            0.5555555555555556,
                            "#d8576b"
                          ],
                          [
                            0.6666666666666666,
                            "#ed7953"
                          ],
                          [
                            0.7777777777777778,
                            "#fb9f3a"
                          ],
                          [
                            0.8888888888888888,
                            "#fdca26"
                          ],
                          [
                            1,
                            "#f0f921"
                          ]
                        ],
                        "type": "histogram2d"
                      }
                    ],
                    "histogram2dcontour": [
                      {
                        "colorbar": {
                          "outlinewidth": 0,
                          "ticks": ""
                        },
                        "colorscale": [
                          [
                            0,
                            "#0d0887"
                          ],
                          [
                            0.1111111111111111,
                            "#46039f"
                          ],
                          [
                            0.2222222222222222,
                            "#7201a8"
                          ],
                          [
                            0.3333333333333333,
                            "#9c179e"
                          ],
                          [
                            0.4444444444444444,
                            "#bd3786"
                          ],
                          [
                            0.5555555555555556,
                            "#d8576b"
                          ],
                          [
                            0.6666666666666666,
                            "#ed7953"
                          ],
                          [
                            0.7777777777777778,
                            "#fb9f3a"
                          ],
                          [
                            0.8888888888888888,
                            "#fdca26"
                          ],
                          [
                            1,
                            "#f0f921"
                          ]
                        ],
                        "type": "histogram2dcontour"
                      }
                    ],
                    "mesh3d": [
                      {
                        "colorbar": {
                          "outlinewidth": 0,
                          "ticks": ""
                        },
                        "type": "mesh3d"
                      }
                    ],
                    "parcoords": [
                      {
                        "line": {
                          "colorbar": {
                            "outlinewidth": 0,
                            "ticks": ""
                          }
                        },
                        "type": "parcoords"
                      }
                    ],
                    "pie": [
                      {
                        "automargin": true,
                        "type": "pie"
                      }
                    ],
                    "scatter": [
                      {
                        "fillpattern": {
                          "fillmode": "overlay",
                          "size": 10,
                          "solidity": 0.2
                        },
                        "type": "scatter"
                      }
                    ],
                    "scatter3d": [
                      {
                        "line": {
                          "colorbar": {
                            "outlinewidth": 0,
                            "ticks": ""
                          }
                        },
                        "marker": {
                          "colorbar": {
                            "outlinewidth": 0,
                            "ticks": ""
                          }
                        },
                        "type": "scatter3d"
                      }
                    ],
                    "scattercarpet": [
                      {
                        "marker": {
                          "colorbar": {
                            "outlinewidth": 0,
                            "ticks": ""
                          }
                        },
                        "type": "scattercarpet"
                      }
                    ],
                    "scattergeo": [
                      {
                        "marker": {
                          "colorbar": {
                            "outlinewidth": 0,
                            "ticks": ""
                          }
                        },
                        "type": "scattergeo"
                      }
                    ],
                    "scattergl": [
                      {
                        "marker": {
                          "colorbar": {
                            "outlinewidth": 0,
                            "ticks": ""
                          }
                        },
                        "type": "scattergl"
                      }
                    ],
                    "scattermapbox": [
                      {
                        "marker": {
                          "colorbar": {
                            "outlinewidth": 0,
                            "ticks": ""
                          }
                        },
                        "type": "scattermapbox"
                      }
                    ],
                    "scatterpolar": [
                      {
                        "marker": {
                          "colorbar": {
                            "outlinewidth": 0,
                            "ticks": ""
                          }
                        },
                        "type": "scatterpolar"
                      }
                    ],
                    "scatterpolargl": [
                      {
                        "marker": {
                          "colorbar": {
                            "outlinewidth": 0,
                            "ticks": ""
                          }
                        },
                        "type": "scatterpolargl"
                      }
                    ],
                    "scatterternary": [
                      {
                        "marker": {
                          "colorbar": {
                            "outlinewidth": 0,
                            "ticks": ""
                          }
                        },
                        "type": "scatterternary"
                      }
                    ],
                    "surface": [
                      {
                        "colorbar": {
                          "outlinewidth": 0,
                          "ticks": ""
                        },
                        "colorscale": [
                          [
                            0,
                            "#0d0887"
                          ],
                          [
                            0.1111111111111111,
                            "#46039f"
                          ],
                          [
                            0.2222222222222222,
                            "#7201a8"
                          ],
                          [
                            0.3333333333333333,
                            "#9c179e"
                          ],
                          [
                            0.4444444444444444,
                            "#bd3786"
                          ],
                          [
                            0.5555555555555556,
                            "#d8576b"
                          ],
                          [
                            0.6666666666666666,
                            "#ed7953"
                          ],
                          [
                            0.7777777777777778,
                            "#fb9f3a"
                          ],
                          [
                            0.8888888888888888,
                            "#fdca26"
                          ],
                          [
                            1,
                            "#f0f921"
                          ]
                        ],
                        "type": "surface"
                      }
                    ],
                    "table": [
                      {
                        "cells": {
                          "fill": {
                            "color": "#EBF0F8"
                          },
                          "line": {
                            "color": "white"
                          }
                        },
                        "header": {
                          "fill": {
                            "color": "#C8D4E3"
                          },
                          "line": {
                            "color": "white"
                          }
                        },
                        "type": "table"
                      }
                    ]
                  },
                  "layout": {
                    "annotationdefaults": {
                      "arrowcolor": "#2a3f5f",
                      "arrowhead": 0,
                      "arrowwidth": 1
                    },
                    "autotypenumbers": "strict",
                    "coloraxis": {
                      "colorbar": {
                        "outlinewidth": 0,
                        "ticks": ""
                      }
                    },
                    "colorscale": {
                      "diverging": [
                        [
                          0,
                          "#8e0152"
                        ],
                        [
                          0.1,
                          "#c51b7d"
                        ],
                        [
                          0.2,
                          "#de77ae"
                        ],
                        [
                          0.3,
                          "#f1b6da"
                        ],
                        [
                          0.4,
                          "#fde0ef"
                        ],
                        [
                          0.5,
                          "#f7f7f7"
                        ],
                        [
                          0.6,
                          "#e6f5d0"
                        ],
                        [
                          0.7,
                          "#b8e186"
                        ],
                        [
                          0.8,
                          "#7fbc41"
                        ],
                        [
                          0.9,
                          "#4d9221"
                        ],
                        [
                          1,
                          "#276419"
                        ]
                      ],
                      "sequential": [
                        [
                          0,
                          "#0d0887"
                        ],
                        [
                          0.1111111111111111,
                          "#46039f"
                        ],
                        [
                          0.2222222222222222,
                          "#7201a8"
                        ],
                        [
                          0.3333333333333333,
                          "#9c179e"
                        ],
                        [
                          0.4444444444444444,
                          "#bd3786"
                        ],
                        [
                          0.5555555555555556,
                          "#d8576b"
                        ],
                        [
                          0.6666666666666666,
                          "#ed7953"
                        ],
                        [
                          0.7777777777777778,
                          "#fb9f3a"
                        ],
                        [
                          0.8888888888888888,
                          "#fdca26"
                        ],
                        [
                          1,
                          "#f0f921"
                        ]
                      ],
                      "sequentialminus": [
                        [
                          0,
                          "#0d0887"
                        ],
                        [
                          0.1111111111111111,
                          "#46039f"
                        ],
                        [
                          0.2222222222222222,
                          "#7201a8"
                        ],
                        [
                          0.3333333333333333,
                          "#9c179e"
                        ],
                        [
                          0.4444444444444444,
                          "#bd3786"
                        ],
                        [
                          0.5555555555555556,
                          "#d8576b"
                        ],
                        [
                          0.6666666666666666,
                          "#ed7953"
                        ],
                        [
                          0.7777777777777778,
                          "#fb9f3a"
                        ],
                        [
                          0.8888888888888888,
                          "#fdca26"
                        ],
                        [
                          1,
                          "#f0f921"
                        ]
                      ]
                    },
                    "colorway": [
                      "#636efa",
                      "#EF553B",
                      "#00cc96",
                      "#ab63fa",
                      "#FFA15A",
                      "#19d3f3",
                      "#FF6692",
                      "#B6E880",
                      "#FF97FF",
                      "#FECB52"
                    ],
                    "font": {
                      "color": "#2a3f5f"
                    },
                    "geo": {
                      "bgcolor": "white",
                      "lakecolor": "white",
                      "landcolor": "white",
                      "showlakes": true,
                      "showland": true,
                      "subunitcolor": "#C8D4E3"
                    },
                    "hoverlabel": {
                      "align": "left"
                    },
                    "hovermode": "closest",
                    "mapbox": {
                      "style": "light"
                    },
                    "paper_bgcolor": "white",
                    "plot_bgcolor": "white",
                    "polar": {
                      "angularaxis": {
                        "gridcolor": "#EBF0F8",
                        "linecolor": "#EBF0F8",
                        "ticks": ""
                      },
                      "bgcolor": "white",
                      "radialaxis": {
                        "gridcolor": "#EBF0F8",
                        "linecolor": "#EBF0F8",
                        "ticks": ""
                      }
                    },
                    "scene": {
                      "xaxis": {
                        "backgroundcolor": "white",
                        "gridcolor": "#DFE8F3",
                        "gridwidth": 2,
                        "linecolor": "#EBF0F8",
                        "showbackground": true,
                        "ticks": "",
                        "zerolinecolor": "#EBF0F8"
                      },
                      "yaxis": {
                        "backgroundcolor": "white",
                        "gridcolor": "#DFE8F3",
                        "gridwidth": 2,
                        "linecolor": "#EBF0F8",
                        "showbackground": true,
                        "ticks": "",
                        "zerolinecolor": "#EBF0F8"
                      },
                      "zaxis": {
                        "backgroundcolor": "white",
                        "gridcolor": "#DFE8F3",
                        "gridwidth": 2,
                        "linecolor": "#EBF0F8",
                        "showbackground": true,
                        "ticks": "",
                        "zerolinecolor": "#EBF0F8"
                      }
                    },
                    "shapedefaults": {
                      "line": {
                        "color": "#2a3f5f"
                      }
                    },
                    "ternary": {
                      "aaxis": {
                        "gridcolor": "#DFE8F3",
                        "linecolor": "#A2B1C6",
                        "ticks": ""
                      },
                      "baxis": {
                        "gridcolor": "#DFE8F3",
                        "linecolor": "#A2B1C6",
                        "ticks": ""
                      },
                      "bgcolor": "white",
                      "caxis": {
                        "gridcolor": "#DFE8F3",
                        "linecolor": "#A2B1C6",
                        "ticks": ""
                      }
                    },
                    "title": {
                      "x": 0.05
                    },
                    "xaxis": {
                      "automargin": true,
                      "gridcolor": "#EBF0F8",
                      "linecolor": "#EBF0F8",
                      "ticks": "",
                      "title": {
                        "standoff": 15
                      },
                      "zerolinecolor": "#EBF0F8",
                      "zerolinewidth": 2
                    },
                    "yaxis": {
                      "automargin": true,
                      "gridcolor": "#EBF0F8",
                      "linecolor": "#EBF0F8",
                      "ticks": "",
                      "title": {
                        "standoff": 15
                      },
                      "zerolinecolor": "#EBF0F8",
                      "zerolinewidth": 2
                    }
                  }
                },
                "title": {
                  "text": "Distribution of Likes and hashtags"
                },
                "xaxis": {
                  "anchor": "y",
                  "domain": [
                    0,
                    1
                  ],
                  "title": {
                    "text": "Hashtags"
                  }
                },
                "yaxis": {
                  "anchor": "x",
                  "domain": [
                    0,
                    1
                  ],
                  "title": {
                    "text": "Impressions"
                  }
                }
              }
            }
          },
          "metadata": {},
          "output_type": "display_data"
        }
      ],
      "source": [
        "hashtags = data['Hashtags'].str.split().explode()\n",
        "\n",
        "hashtags_df = pd.DataFrame({'Hashtags': hashtags, 'Impressions': data['Impressions']})\n",
        "hashtags_like_df = hashtags_df.groupby('Hashtags').agg({'Impressions': 'sum'}).reset_index()\n",
        "\n",
        "fig = px.bar(hashtags_like_df, x='Hashtags', y='Impressions', title='Distribution of Likes and hashtags')\n",
        "fig.show()"
      ]
    },
    {
      "cell_type": "markdown",
      "metadata": {},
      "source": [
        "**Question no: 14**\n",
        "\n",
        "Solution:   We visualized the distribution of various metrics using histograms, line plots, and scatter plots.\n",
        "We get insights from Posts containing certain hashtags tend to receive more likes and impressions compared to others.\n",
        "The positive correlation between profile visits and follows indicates that increasing profile visits may lead to a higher number of followers."
      ]
    },
    {
      "cell_type": "markdown",
      "metadata": {},
      "source": []
    }
  ],
  "metadata": {
    "colab": {
      "provenance": []
    },
    "kernelspec": {
      "display_name": "Python 3.10.7 64-bit",
      "language": "python",
      "name": "python3"
    },
    "language_info": {
      "codemirror_mode": {
        "name": "ipython",
        "version": 3
      },
      "file_extension": ".py",
      "mimetype": "text/x-python",
      "name": "python",
      "nbconvert_exporter": "python",
      "pygments_lexer": "ipython3",
      "version": "3.10.7"
    },
    "vscode": {
      "interpreter": {
        "hash": "2a129bf2e1a7214986d0e7730701d7e36b338071f8c0e2bc790aed4c6fe89b79"
      }
    }
  },
  "nbformat": 4,
  "nbformat_minor": 0
}
