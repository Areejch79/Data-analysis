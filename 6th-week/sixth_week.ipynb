{
  "cells": [
    {
      "cell_type": "code",
      "execution_count": 2,
      "metadata": {
        "id": "p2_u3i47ffMK"
      },
      "outputs": [],
      "source": [
        "import pandas as pd\n",
        "import matplotlib.pyplot as plt\n",
        "import seaborn as sb\n",
        "import plotly.express as px\n",
        "from datetime import datetime"
      ]
    },
    {
      "cell_type": "code",
      "execution_count": 3,
      "metadata": {
        "id": "upazHqiXf_Cl"
      },
      "outputs": [],
      "source": [
        "data = pd.read_csv(\"births.csv\")"
      ]
    },
    {
      "cell_type": "code",
      "execution_count": 4,
      "metadata": {
        "colab": {
          "base_uri": "https://localhost:8080/",
          "height": 206
        },
        "id": "Cec_XVUXgGZT",
        "outputId": "c97b01cf-ad1a-47ef-8066-1aabfbcf0efc"
      },
      "outputs": [
        {
          "data": {
            "text/html": [
              "<div>\n",
              "<style scoped>\n",
              "    .dataframe tbody tr th:only-of-type {\n",
              "        vertical-align: middle;\n",
              "    }\n",
              "\n",
              "    .dataframe tbody tr th {\n",
              "        vertical-align: top;\n",
              "    }\n",
              "\n",
              "    .dataframe thead th {\n",
              "        text-align: right;\n",
              "    }\n",
              "</style>\n",
              "<table border=\"1\" class=\"dataframe\">\n",
              "  <thead>\n",
              "    <tr style=\"text-align: right;\">\n",
              "      <th></th>\n",
              "      <th>year</th>\n",
              "      <th>month</th>\n",
              "      <th>day</th>\n",
              "      <th>gender</th>\n",
              "      <th>births</th>\n",
              "    </tr>\n",
              "  </thead>\n",
              "  <tbody>\n",
              "    <tr>\n",
              "      <th>0</th>\n",
              "      <td>1969</td>\n",
              "      <td>1</td>\n",
              "      <td>1.0</td>\n",
              "      <td>F</td>\n",
              "      <td>4046</td>\n",
              "    </tr>\n",
              "    <tr>\n",
              "      <th>1</th>\n",
              "      <td>1969</td>\n",
              "      <td>1</td>\n",
              "      <td>1.0</td>\n",
              "      <td>M</td>\n",
              "      <td>4440</td>\n",
              "    </tr>\n",
              "    <tr>\n",
              "      <th>2</th>\n",
              "      <td>1969</td>\n",
              "      <td>1</td>\n",
              "      <td>2.0</td>\n",
              "      <td>F</td>\n",
              "      <td>4454</td>\n",
              "    </tr>\n",
              "    <tr>\n",
              "      <th>3</th>\n",
              "      <td>1969</td>\n",
              "      <td>1</td>\n",
              "      <td>2.0</td>\n",
              "      <td>M</td>\n",
              "      <td>4548</td>\n",
              "    </tr>\n",
              "    <tr>\n",
              "      <th>4</th>\n",
              "      <td>1969</td>\n",
              "      <td>1</td>\n",
              "      <td>3.0</td>\n",
              "      <td>F</td>\n",
              "      <td>4548</td>\n",
              "    </tr>\n",
              "  </tbody>\n",
              "</table>\n",
              "</div>"
            ],
            "text/plain": [
              "   year  month  day gender  births\n",
              "0  1969      1  1.0      F    4046\n",
              "1  1969      1  1.0      M    4440\n",
              "2  1969      1  2.0      F    4454\n",
              "3  1969      1  2.0      M    4548\n",
              "4  1969      1  3.0      F    4548"
            ]
          },
          "execution_count": 4,
          "metadata": {},
          "output_type": "execute_result"
        }
      ],
      "source": [
        "data.head()"
      ]
    },
    {
      "cell_type": "markdown",
      "metadata": {
        "id": "QqY2d49P3fsx"
      },
      "source": [
        "**Question no : 1**"
      ]
    },
    {
      "cell_type": "code",
      "execution_count": 5,
      "metadata": {
        "id": "ur5ScHT7gIfN"
      },
      "outputs": [],
      "source": [
        "data['decade'] = (data['year'] // 10) * 10\n"
      ]
    },
    {
      "cell_type": "code",
      "execution_count": 6,
      "metadata": {
        "colab": {
          "base_uri": "https://localhost:8080/",
          "height": 206
        },
        "id": "WVDn_ijzg5Jo",
        "outputId": "4488428b-7098-4198-b2c7-b19c13a7fde7"
      },
      "outputs": [
        {
          "data": {
            "text/html": [
              "<div>\n",
              "<style scoped>\n",
              "    .dataframe tbody tr th:only-of-type {\n",
              "        vertical-align: middle;\n",
              "    }\n",
              "\n",
              "    .dataframe tbody tr th {\n",
              "        vertical-align: top;\n",
              "    }\n",
              "\n",
              "    .dataframe thead th {\n",
              "        text-align: right;\n",
              "    }\n",
              "</style>\n",
              "<table border=\"1\" class=\"dataframe\">\n",
              "  <thead>\n",
              "    <tr style=\"text-align: right;\">\n",
              "      <th></th>\n",
              "      <th>year</th>\n",
              "      <th>month</th>\n",
              "      <th>day</th>\n",
              "      <th>gender</th>\n",
              "      <th>births</th>\n",
              "      <th>decade</th>\n",
              "    </tr>\n",
              "  </thead>\n",
              "  <tbody>\n",
              "    <tr>\n",
              "      <th>0</th>\n",
              "      <td>1969</td>\n",
              "      <td>1</td>\n",
              "      <td>1.0</td>\n",
              "      <td>F</td>\n",
              "      <td>4046</td>\n",
              "      <td>1960</td>\n",
              "    </tr>\n",
              "    <tr>\n",
              "      <th>1</th>\n",
              "      <td>1969</td>\n",
              "      <td>1</td>\n",
              "      <td>1.0</td>\n",
              "      <td>M</td>\n",
              "      <td>4440</td>\n",
              "      <td>1960</td>\n",
              "    </tr>\n",
              "    <tr>\n",
              "      <th>2</th>\n",
              "      <td>1969</td>\n",
              "      <td>1</td>\n",
              "      <td>2.0</td>\n",
              "      <td>F</td>\n",
              "      <td>4454</td>\n",
              "      <td>1960</td>\n",
              "    </tr>\n",
              "    <tr>\n",
              "      <th>3</th>\n",
              "      <td>1969</td>\n",
              "      <td>1</td>\n",
              "      <td>2.0</td>\n",
              "      <td>M</td>\n",
              "      <td>4548</td>\n",
              "      <td>1960</td>\n",
              "    </tr>\n",
              "    <tr>\n",
              "      <th>4</th>\n",
              "      <td>1969</td>\n",
              "      <td>1</td>\n",
              "      <td>3.0</td>\n",
              "      <td>F</td>\n",
              "      <td>4548</td>\n",
              "      <td>1960</td>\n",
              "    </tr>\n",
              "  </tbody>\n",
              "</table>\n",
              "</div>"
            ],
            "text/plain": [
              "   year  month  day gender  births  decade\n",
              "0  1969      1  1.0      F    4046    1960\n",
              "1  1969      1  1.0      M    4440    1960\n",
              "2  1969      1  2.0      F    4454    1960\n",
              "3  1969      1  2.0      M    4548    1960\n",
              "4  1969      1  3.0      F    4548    1960"
            ]
          },
          "execution_count": 6,
          "metadata": {},
          "output_type": "execute_result"
        }
      ],
      "source": [
        "data.head()"
      ]
    },
    {
      "cell_type": "markdown",
      "metadata": {
        "id": "aDo7or_X3mcG"
      },
      "source": [
        "**Question no: 2**"
      ]
    },
    {
      "cell_type": "code",
      "execution_count": 7,
      "metadata": {
        "colab": {
          "base_uri": "https://localhost:8080/",
          "height": 300
        },
        "id": "6BpZJaO3g6jm",
        "outputId": "8579ed13-5c4f-4056-84c0-afe055b2f3fa"
      },
      "outputs": [
        {
          "data": {
            "text/html": [
              "<div>\n",
              "<style scoped>\n",
              "    .dataframe tbody tr th:only-of-type {\n",
              "        vertical-align: middle;\n",
              "    }\n",
              "\n",
              "    .dataframe tbody tr th {\n",
              "        vertical-align: top;\n",
              "    }\n",
              "\n",
              "    .dataframe thead th {\n",
              "        text-align: right;\n",
              "    }\n",
              "</style>\n",
              "<table border=\"1\" class=\"dataframe\">\n",
              "  <thead>\n",
              "    <tr style=\"text-align: right;\">\n",
              "      <th></th>\n",
              "      <th>year</th>\n",
              "      <th>month</th>\n",
              "      <th>day</th>\n",
              "      <th>births</th>\n",
              "      <th>decade</th>\n",
              "    </tr>\n",
              "  </thead>\n",
              "  <tbody>\n",
              "    <tr>\n",
              "      <th>count</th>\n",
              "      <td>15547.000000</td>\n",
              "      <td>15547.000000</td>\n",
              "      <td>15067.000000</td>\n",
              "      <td>15547.000000</td>\n",
              "      <td>15547.000000</td>\n",
              "    </tr>\n",
              "    <tr>\n",
              "      <th>mean</th>\n",
              "      <td>1979.037435</td>\n",
              "      <td>6.515919</td>\n",
              "      <td>17.769894</td>\n",
              "      <td>9762.293561</td>\n",
              "      <td>1974.544285</td>\n",
              "    </tr>\n",
              "    <tr>\n",
              "      <th>std</th>\n",
              "      <td>6.728340</td>\n",
              "      <td>3.449632</td>\n",
              "      <td>15.284034</td>\n",
              "      <td>28552.465810</td>\n",
              "      <td>6.789583</td>\n",
              "    </tr>\n",
              "    <tr>\n",
              "      <th>min</th>\n",
              "      <td>1969.000000</td>\n",
              "      <td>1.000000</td>\n",
              "      <td>1.000000</td>\n",
              "      <td>1.000000</td>\n",
              "      <td>1960.000000</td>\n",
              "    </tr>\n",
              "    <tr>\n",
              "      <th>25%</th>\n",
              "      <td>1974.000000</td>\n",
              "      <td>4.000000</td>\n",
              "      <td>8.000000</td>\n",
              "      <td>4358.000000</td>\n",
              "      <td>1970.000000</td>\n",
              "    </tr>\n",
              "    <tr>\n",
              "      <th>50%</th>\n",
              "      <td>1979.000000</td>\n",
              "      <td>7.000000</td>\n",
              "      <td>16.000000</td>\n",
              "      <td>4814.000000</td>\n",
              "      <td>1970.000000</td>\n",
              "    </tr>\n",
              "    <tr>\n",
              "      <th>75%</th>\n",
              "      <td>1984.000000</td>\n",
              "      <td>10.000000</td>\n",
              "      <td>24.000000</td>\n",
              "      <td>5289.500000</td>\n",
              "      <td>1980.000000</td>\n",
              "    </tr>\n",
              "    <tr>\n",
              "      <th>max</th>\n",
              "      <td>2008.000000</td>\n",
              "      <td>12.000000</td>\n",
              "      <td>99.000000</td>\n",
              "      <td>199622.000000</td>\n",
              "      <td>2000.000000</td>\n",
              "    </tr>\n",
              "  </tbody>\n",
              "</table>\n",
              "</div>"
            ],
            "text/plain": [
              "               year         month           day         births        decade\n",
              "count  15547.000000  15547.000000  15067.000000   15547.000000  15547.000000\n",
              "mean    1979.037435      6.515919     17.769894    9762.293561   1974.544285\n",
              "std        6.728340      3.449632     15.284034   28552.465810      6.789583\n",
              "min     1969.000000      1.000000      1.000000       1.000000   1960.000000\n",
              "25%     1974.000000      4.000000      8.000000    4358.000000   1970.000000\n",
              "50%     1979.000000      7.000000     16.000000    4814.000000   1970.000000\n",
              "75%     1984.000000     10.000000     24.000000    5289.500000   1980.000000\n",
              "max     2008.000000     12.000000     99.000000  199622.000000   2000.000000"
            ]
          },
          "execution_count": 7,
          "metadata": {},
          "output_type": "execute_result"
        }
      ],
      "source": [
        "data.describe()"
      ]
    },
    {
      "cell_type": "markdown",
      "metadata": {
        "id": "tkubR6tn3r_Z"
      },
      "source": [
        "**Question no: 3**"
      ]
    },
    {
      "cell_type": "code",
      "execution_count": 10,
      "metadata": {
        "colab": {
          "base_uri": "https://localhost:8080/"
        },
        "id": "JVly5SPthB_Y",
        "outputId": "3674b9f3-a374-4d1e-f970-a387a8ac6f0b"
      },
      "outputs": [
        {
          "data": {
            "text/plain": [
              "year        0\n",
              "month       0\n",
              "day       480\n",
              "gender      0\n",
              "births      0\n",
              "decade      0\n",
              "dtype: int64"
            ]
          },
          "execution_count": 10,
          "metadata": {},
          "output_type": "execute_result"
        }
      ],
      "source": [
        "data.isnull().sum()"
      ]
    },
    {
      "cell_type": "markdown",
      "metadata": {
        "id": "_cm18RYl3yfm"
      },
      "source": [
        "**Question no: 4**"
      ]
    },
    {
      "cell_type": "code",
      "execution_count": 8,
      "metadata": {
        "colab": {
          "base_uri": "https://localhost:8080/",
          "height": 238
        },
        "id": "i_ZxwyihivlC",
        "outputId": "abc7b107-0022-415b-b9ed-8f47d7208916"
      },
      "outputs": [
        {
          "data": {
            "text/html": [
              "<div>\n",
              "<style scoped>\n",
              "    .dataframe tbody tr th:only-of-type {\n",
              "        vertical-align: middle;\n",
              "    }\n",
              "\n",
              "    .dataframe tbody tr th {\n",
              "        vertical-align: top;\n",
              "    }\n",
              "\n",
              "    .dataframe thead th {\n",
              "        text-align: right;\n",
              "    }\n",
              "</style>\n",
              "<table border=\"1\" class=\"dataframe\">\n",
              "  <thead>\n",
              "    <tr style=\"text-align: right;\">\n",
              "      <th>gender</th>\n",
              "      <th>F</th>\n",
              "      <th>M</th>\n",
              "    </tr>\n",
              "    <tr>\n",
              "      <th>decade</th>\n",
              "      <th></th>\n",
              "      <th></th>\n",
              "    </tr>\n",
              "  </thead>\n",
              "  <tbody>\n",
              "    <tr>\n",
              "      <th>1960</th>\n",
              "      <td>1753634</td>\n",
              "      <td>1846572</td>\n",
              "    </tr>\n",
              "    <tr>\n",
              "      <th>1970</th>\n",
              "      <td>16263075</td>\n",
              "      <td>17121550</td>\n",
              "    </tr>\n",
              "    <tr>\n",
              "      <th>1980</th>\n",
              "      <td>18310351</td>\n",
              "      <td>19243452</td>\n",
              "    </tr>\n",
              "    <tr>\n",
              "      <th>1990</th>\n",
              "      <td>19479454</td>\n",
              "      <td>20420553</td>\n",
              "    </tr>\n",
              "    <tr>\n",
              "      <th>2000</th>\n",
              "      <td>18229309</td>\n",
              "      <td>19106428</td>\n",
              "    </tr>\n",
              "  </tbody>\n",
              "</table>\n",
              "</div>"
            ],
            "text/plain": [
              "gender         F         M\n",
              "decade                    \n",
              "1960     1753634   1846572\n",
              "1970    16263075  17121550\n",
              "1980    18310351  19243452\n",
              "1990    19479454  20420553\n",
              "2000    18229309  19106428"
            ]
          },
          "execution_count": 8,
          "metadata": {},
          "output_type": "execute_result"
        }
      ],
      "source": [
        "births_per_decade_gender = data.groupby(['decade', 'gender'])['births'].sum().unstack()\n",
        "\n",
        "births_per_decade_gender"
      ]
    },
    {
      "cell_type": "code",
      "execution_count": 9,
      "metadata": {
        "colab": {
          "base_uri": "https://localhost:8080/",
          "height": 557
        },
        "id": "oHWIpkkhjg_6",
        "outputId": "65bb412b-e9ae-462a-b57c-be6add6b2c90"
      },
      "outputs": [
        {
          "data": {
            "image/png": "[encoded data removed]",
            "text/plain": [
              "<Figure size 1000x600 with 1 Axes>"
            ]
          },
          "metadata": {},
          "output_type": "display_data"
        }
      ],
      "source": [
        "# Step 4: Plot the trend of male and female births every decade\n",
        "plt.figure(figsize=(10, 6))\n",
        "\n",
        "sb.lineplot(data=births_per_decade_gender, markers=True, linewidth=2.5)\n",
        "plt.legend(title = 'gender')\n",
        "plt.show()"
      ]
    },
    {
      "cell_type": "markdown",
      "metadata": {
        "id": "Xl8v-Sac4GX6"
      },
      "source": [
        "**Question no: 5**"
      ]
    },
    {
      "cell_type": "code",
      "execution_count": 10,
      "metadata": {
        "id": "X2NFCNnblIxb"
      },
      "outputs": [],
      "source": [
        "mean_births = data['births'].mean()\n",
        "std_births = data['births'].std()\n",
        "\n",
        "data = data[(data['births'] >= mean_births - 5 * std_births) & (data['births'] <= mean_births + 5 * std_births)]"
      ]
    },
    {
      "cell_type": "markdown",
      "metadata": {
        "id": "N_wwjXas4OzN"
      },
      "source": [
        "**Question no: 6**"
      ]
    },
    {
      "cell_type": "code",
      "execution_count": 11,
      "metadata": {
        "colab": {
          "base_uri": "https://localhost:8080/"
        },
        "id": "HTrOKlZprCsE",
        "outputId": "0b2ee73b-5642-49b6-91c6-cb888d2218c8"
      },
      "outputs": [
        {
          "name": "stderr",
          "output_type": "stream",
          "text": [
            "c:\\Users\\areej\\AppData\\Local\\Programs\\Python\\Python310\\lib\\site-packages\\pandas\\core\\tools\\datetimes.py:1256: RuntimeWarning: invalid value encountered in cast\n",
            "  masked_result = calc(carg[mask].astype(np.float64).astype(np.int64))\n"
          ]
        }
      ],
      "source": [
        "data['date'] = pd.to_datetime(data[['year', 'month', 'day']], errors='coerce')"
      ]
    },
    {
      "cell_type": "code",
      "execution_count": 12,
      "metadata": {
        "id": "svkNvpPXrOvn"
      },
      "outputs": [],
      "source": [
        "data['weekday'] = data['date'].dt.day_name()\n",
        "weekdays = ['Monday', 'Tuesday', 'Wednesday', 'Thursday', 'Friday']\n",
        "data_only_weekdays = data[data['weekday'].isin(weekdays)]"
      ]
    },
    {
      "cell_type": "code",
      "execution_count": 13,
      "metadata": {
        "colab": {
          "base_uri": "https://localhost:8080/",
          "height": 175
        },
        "id": "DPcGjVirrd9U",
        "outputId": "880b5025-981f-48af-8ad0-ceb50932fde3"
      },
      "outputs": [
        {
          "data": {
            "text/html": [
              "<div>\n",
              "<style scoped>\n",
              "    .dataframe tbody tr th:only-of-type {\n",
              "        vertical-align: middle;\n",
              "    }\n",
              "\n",
              "    .dataframe tbody tr th {\n",
              "        vertical-align: top;\n",
              "    }\n",
              "\n",
              "    .dataframe thead th {\n",
              "        text-align: right;\n",
              "    }\n",
              "</style>\n",
              "<table border=\"1\" class=\"dataframe\">\n",
              "  <thead>\n",
              "    <tr style=\"text-align: right;\">\n",
              "      <th>weekday</th>\n",
              "      <th>Friday</th>\n",
              "      <th>Monday</th>\n",
              "      <th>Thursday</th>\n",
              "      <th>Tuesday</th>\n",
              "      <th>Wednesday</th>\n",
              "    </tr>\n",
              "    <tr>\n",
              "      <th>decade</th>\n",
              "      <th></th>\n",
              "      <th></th>\n",
              "      <th></th>\n",
              "      <th></th>\n",
              "      <th></th>\n",
              "    </tr>\n",
              "  </thead>\n",
              "  <tbody>\n",
              "    <tr>\n",
              "      <th>1960</th>\n",
              "      <td>531220</td>\n",
              "      <td>526638</td>\n",
              "      <td>517742</td>\n",
              "      <td>549754</td>\n",
              "      <td>537910</td>\n",
              "    </tr>\n",
              "    <tr>\n",
              "      <th>1970</th>\n",
              "      <td>4992508</td>\n",
              "      <td>4895418</td>\n",
              "      <td>4903588</td>\n",
              "      <td>5090433</td>\n",
              "      <td>4949892</td>\n",
              "    </tr>\n",
              "    <tr>\n",
              "      <th>1980</th>\n",
              "      <td>5069502</td>\n",
              "      <td>4949739</td>\n",
              "      <td>5013476</td>\n",
              "      <td>5173612</td>\n",
              "      <td>5045584</td>\n",
              "    </tr>\n",
              "  </tbody>\n",
              "</table>\n",
              "</div>"
            ],
            "text/plain": [
              "weekday   Friday   Monday  Thursday  Tuesday  Wednesday\n",
              "decade                                                 \n",
              "1960      531220   526638    517742   549754     537910\n",
              "1970     4992508  4895418   4903588  5090433    4949892\n",
              "1980     5069502  4949739   5013476  5173612    5045584"
            ]
          },
          "execution_count": 13,
          "metadata": {},
          "output_type": "execute_result"
        }
      ],
      "source": [
        "births_by_weekday = data_only_weekdays.groupby(['decade', 'weekday'])['births'].sum().unstack()\n",
        "births_by_weekday"
      ]
    },
    {
      "cell_type": "code",
      "execution_count": 14,
      "metadata": {
        "colab": {
          "base_uri": "https://localhost:8080/",
          "height": 578
        },
        "id": "z2EptE4lthZ9",
        "outputId": "c731e270-d867-4e68-ba1f-57fd4b5e770a"
      },
      "outputs": [
        {
          "data": {
            "image/png": "[encoded data removed]",
            "text/plain": [
              "<Figure size 1000x600 with 1 Axes>"
            ]
          },
          "metadata": {},
          "output_type": "display_data"
        }
      ],
      "source": [
        "\n",
        "births_by_weekday.plot(kind='bar', figsize=(10, 6))\n",
        "plt.show()"
      ]
    },
    {
      "cell_type": "markdown",
      "metadata": {
        "id": "OFAdvVhy4eSk"
      },
      "source": [
        "**Question no: 7**"
      ]
    },
    {
      "cell_type": "code",
      "execution_count": 15,
      "metadata": {
        "colab": {
          "base_uri": "https://localhost:8080/",
          "height": 426
        },
        "id": "2Q_-YyaYvq6-",
        "outputId": "fcaa0d3d-9217-418c-e4a9-c8f0ebb4ebe5"
      },
      "outputs": [
        {
          "data": {
            "text/html": [
              "<div>\n",
              "<style scoped>\n",
              "    .dataframe tbody tr th:only-of-type {\n",
              "        vertical-align: middle;\n",
              "    }\n",
              "\n",
              "    .dataframe tbody tr th {\n",
              "        vertical-align: top;\n",
              "    }\n",
              "\n",
              "    .dataframe thead th {\n",
              "        text-align: right;\n",
              "    }\n",
              "</style>\n",
              "<table border=\"1\" class=\"dataframe\">\n",
              "  <thead>\n",
              "    <tr style=\"text-align: right;\">\n",
              "      <th></th>\n",
              "      <th>month</th>\n",
              "      <th>births</th>\n",
              "    </tr>\n",
              "  </thead>\n",
              "  <tbody>\n",
              "    <tr>\n",
              "      <th>0</th>\n",
              "      <td>1</td>\n",
              "      <td>5759568</td>\n",
              "    </tr>\n",
              "    <tr>\n",
              "      <th>1</th>\n",
              "      <td>2</td>\n",
              "      <td>7582391</td>\n",
              "    </tr>\n",
              "    <tr>\n",
              "      <th>2</th>\n",
              "      <td>3</td>\n",
              "      <td>5868651</td>\n",
              "    </tr>\n",
              "    <tr>\n",
              "      <th>3</th>\n",
              "      <td>4</td>\n",
              "      <td>5712231</td>\n",
              "    </tr>\n",
              "    <tr>\n",
              "      <th>4</th>\n",
              "      <td>5</td>\n",
              "      <td>5785602</td>\n",
              "    </tr>\n",
              "    <tr>\n",
              "      <th>5</th>\n",
              "      <td>6</td>\n",
              "      <td>5759233</td>\n",
              "    </tr>\n",
              "    <tr>\n",
              "      <th>6</th>\n",
              "      <td>7</td>\n",
              "      <td>6220777</td>\n",
              "    </tr>\n",
              "    <tr>\n",
              "      <th>7</th>\n",
              "      <td>8</td>\n",
              "      <td>6310276</td>\n",
              "    </tr>\n",
              "    <tr>\n",
              "      <th>8</th>\n",
              "      <td>9</td>\n",
              "      <td>6206785</td>\n",
              "    </tr>\n",
              "    <tr>\n",
              "      <th>9</th>\n",
              "      <td>10</td>\n",
              "      <td>6056193</td>\n",
              "    </tr>\n",
              "    <tr>\n",
              "      <th>10</th>\n",
              "      <td>11</td>\n",
              "      <td>6149799</td>\n",
              "    </tr>\n",
              "    <tr>\n",
              "      <th>11</th>\n",
              "      <td>12</td>\n",
              "      <td>5905087</td>\n",
              "    </tr>\n",
              "  </tbody>\n",
              "</table>\n",
              "</div>"
            ],
            "text/plain": [
              "    month   births\n",
              "0       1  5759568\n",
              "1       2  7582391\n",
              "2       3  5868651\n",
              "3       4  5712231\n",
              "4       5  5785602\n",
              "5       6  5759233\n",
              "6       7  6220777\n",
              "7       8  6310276\n",
              "8       9  6206785\n",
              "9      10  6056193\n",
              "10     11  6149799\n",
              "11     12  5905087"
            ]
          },
          "execution_count": 15,
          "metadata": {},
          "output_type": "execute_result"
        }
      ],
      "source": [
        "data_by_month = data.groupby('month')['births'].sum().reset_index()\n",
        "data_by_day = data.groupby('day')['births'].sum().reset_index()\n",
        "data_by_month"
      ]
    },
    {
      "cell_type": "markdown",
      "metadata": {
        "id": "MSUFUut24pCe"
      },
      "source": [
        "**Question no: 8**"
      ]
    },
    {
      "cell_type": "code",
      "execution_count": 16,
      "metadata": {
        "colab": {
          "base_uri": "https://localhost:8080/",
          "height": 701
        },
        "id": "T07djYr0z7nd",
        "outputId": "7e051b89-280b-4fe3-a786-fc0d811c22e9"
      },
      "outputs": [
        {
          "name": "stderr",
          "output_type": "stream",
          "text": [
            "C:\\Users\\areej\\AppData\\Local\\Temp\\ipykernel_5788\\1828256825.py:2: SettingWithCopyWarning: \n",
            "A value is trying to be set on a copy of a slice from a DataFrame.\n",
            "Try using .loc[row_indexer,col_indexer] = value instead\n",
            "\n",
            "See the caveats in the documentation: https://pandas.pydata.org/pandas-docs/stable/user_guide/indexing.html#returning-a-view-versus-a-copy\n",
            "  data_plot['month_name'] = data_plot['date'].dt.month_name()\n"
          ]
        },
        {
          "data": {
            "application/vnd.plotly.v1+json": {
              "config": {
                "plotlyServerURL": "https://plot.ly"
              },
              "data": [
                {
                  "hovertemplate": "date=%{x}<br>births=%{y}<extra></extra>",
                  "legendgroup": "",
                  "line": {
                    "color": "#636efa",
                    "dash": "solid"
                  },
                  "marker": {
                    "symbol": "circle"
                  },
                  "mode": "lines",
                  "name": "",
                  "orientation": "v",
                  "showlegend": false,
                  "type": "scatter",
                  "x": [
                    "1969-01-01T00:00:00",
                    "1969-01-01T00:00:00",
                    "1969-01-02T00:00:00",
                    "1969-01-02T00:00:00",
                    "1969-01-03T00:00:00",
                    "1969-01-03T00:00:00",
                    "1969-01-04T00:00:00",
                    "1969-01-04T00:00:00",
                    "1969-01-05T00:00:00",
                    "1969-01-05T00:00:00",
                    "1969-01-06T00:00:00",
                    "1969-01-06T00:00:00",
                    "1969-01-07T00:00:00",
                    "1969-01-07T00:00:00",
                    "1969-01-08T00:00:00",
                    "1969-01-08T00:00:00",
                    "1969-01-09T00:00:00",
                    "1969-01-09T00:00:00",
                    "1969-01-10T00:00:00",
                    "1969-01-10T00:00:00",
                    "1969-01-11T00:00:00",
                    "1969-01-11T00:00:00",
                    "1969-01-12T00:00:00",
                    "1969-01-12T00:00:00",
                    "1969-01-13T00:00:00",
                    "1969-01-13T00:00:00",
                    "1969-01-14T00:00:00",
                    "1969-01-14T00:00:00",
                    "1969-01-15T00:00:00",
                    "1969-01-15T00:00:00",
                    "1969-01-16T00:00:00",
                    "1969-01-16T00:00:00",
                    "1969-01-17T00:00:00",
                    "1969-01-17T00:00:00",
                    "1969-01-18T00:00:00",
                    "1969-01-18T00:00:00",
                    "1969-01-19T00:00:00",
                    "1969-01-19T00:00:00",
                    "1969-01-20T00:00:00",
                    "1969-01-20T00:00:00",
                    "1969-01-21T00:00:00",
                    "1969-01-21T00:00:00",
                    "1969-01-22T00:00:00",
                    "1969-01-22T00:00:00",
                    "1969-01-23T00:00:00",
                    "1969-01-23T00:00:00",
                    "1969-01-24T00:00:00",
                    "1969-01-24T00:00:00",
                    "1969-01-25T00:00:00",
                    "1969-01-25T00:00:00",
                    "1969-01-26T00:00:00",
                    "1969-01-26T00:00:00",
                    "1969-01-27T00:00:00",
                    "1969-01-27T00:00:00",
                    "1969-01-28T00:00:00",
                    "1969-01-28T00:00:00",
                    "1969-01-29T00:00:00",
                    "1969-01-29T00:00:00",
                    "1969-01-30T00:00:00",
                    "1969-01-30T00:00:00",
                    "1969-01-31T00:00:00",
                    "1969-01-31T00:00:00",
                    null,
                    null,
                    "1969-02-01T00:00:00",
                    "1969-02-01T00:00:00",
                    "1969-02-02T00:00:00",
                    "1969-02-02T00:00:00",
                    "1969-02-03T00:00:00",
                    "1969-02-03T00:00:00",
                    "1969-02-04T00:00:00",
                    "1969-02-04T00:00:00",
                    "1969-02-05T00:00:00",
                    "1969-02-05T00:00:00",
                    "1969-02-06T00:00:00",
                    "1969-02-06T00:00:00",
                    "1969-02-07T00:00:00",
                    "1969-02-07T00:00:00",
                    "1969-02-08T00:00:00",
                    "1969-02-08T00:00:00",
                    "1969-02-09T00:00:00",
                    "1969-02-09T00:00:00",
                    "1969-02-10T00:00:00",
                    "1969-02-10T00:00:00",
                    "1969-02-11T00:00:00",
                    "1969-02-11T00:00:00",
                    "1969-02-12T00:00:00",
                    "1969-02-12T00:00:00",
                    "1969-02-13T00:00:00",
                    "1969-02-13T00:00:00",
                    "1969-02-14T00:00:00",
                    "1969-02-14T00:00:00",
                    "1969-02-15T00:00:00",
                    "1969-02-15T00:00:00",
                    "1969-02-16T00:00:00",
                    "1969-02-16T00:00:00",
                    "1969-02-17T00:00:00",
                    "1969-02-17T00:00:00",
                    "1969-02-18T00:00:00",
                    "1969-02-18T00:00:00",
                    "1969-02-19T00:00:00",
                    "1969-02-19T00:00:00",
                    "1969-02-20T00:00:00",
                    "1969-02-20T00:00:00",
                    "1969-02-21T00:00:00",
                    "1969-02-21T00:00:00",
                    "1969-02-22T00:00:00",
                    "1969-02-22T00:00:00",
                    "1969-02-23T00:00:00",
                    "1969-02-23T00:00:00",
                    "1969-02-24T00:00:00",
                    "1969-02-24T00:00:00",
                    "1969-02-25T00:00:00",
                    "1969-02-25T00:00:00",
                    "1969-02-26T00:00:00",
                    "1969-02-26T00:00:00",
                    "1969-02-27T00:00:00",
                    "1969-02-27T00:00:00",
                    "1969-02-28T00:00:00",
                    "1969-02-28T00:00:00",
                    null,
                    null,
                    null,
                    null,
                    null,
                    null,
                    null,
                    null,
                    "1969-03-01T00:00:00",
                    "1969-03-01T00:00:00",
                    "1969-03-02T00:00:00",
                    "1969-03-02T00:00:00",
                    "1969-03-03T00:00:00",
                    "1969-03-03T00:00:00",
                    "1969-03-04T00:00:00",
                    "1969-03-04T00:00:00",
                    "1969-03-05T00:00:00",
                    "1969-03-05T00:00:00",
                    "1969-03-06T00:00:00",
                    "1969-03-06T00:00:00",
                    "1969-03-07T00:00:00",
                    "1969-03-07T00:00:00",
                    "1969-03-08T00:00:00",
                    "1969-03-08T00:00:00",
                    "1969-03-09T00:00:00",
                    "1969-03-09T00:00:00",
                    "1969-03-10T00:00:00",
                    "1969-03-10T00:00:00",
                    "1969-03-11T00:00:00",
                    "1969-03-11T00:00:00",
                    "1969-03-12T00:00:00",
                    "1969-03-12T00:00:00",
                    "1969-03-13T00:00:00",
                    "1969-03-13T00:00:00",
                    "1969-03-14T00:00:00",
                    "1969-03-14T00:00:00",
                    "1969-03-15T00:00:00",
                    "1969-03-15T00:00:00",
                    "1969-03-16T00:00:00",
                    "1969-03-16T00:00:00",
                    "1969-03-17T00:00:00",
                    "1969-03-17T00:00:00",
                    "1969-03-18T00:00:00",
                    "1969-03-18T00:00:00",
                    "1969-03-19T00:00:00",
                    "1969-03-19T00:00:00",
                    "1969-03-20T00:00:00",
                    "1969-03-20T00:00:00",
                    "1969-03-21T00:00:00",
                    "1969-03-21T00:00:00",
                    "1969-03-22T00:00:00",
                    "1969-03-22T00:00:00",
                    "1969-03-23T00:00:00",
                    "1969-03-23T00:00:00",
                    "1969-03-24T00:00:00",
                    "1969-03-24T00:00:00",
                    "1969-03-25T00:00:00",
                    "1969-03-25T00:00:00",
                    "1969-03-26T00:00:00",
                    "1969-03-26T00:00:00",
                    "1969-03-27T00:00:00",
                    "1969-03-27T00:00:00",
                    "1969-03-28T00:00:00",
                    "1969-03-28T00:00:00",
                    "1969-03-29T00:00:00",
                    "1969-03-29T00:00:00",
                    "1969-03-30T00:00:00",
                    "1969-03-30T00:00:00",
                    "1969-03-31T00:00:00",
                    "1969-03-31T00:00:00",
                    null,
                    null,
                    "1969-04-01T00:00:00",
                    "1969-04-01T00:00:00",
                    "1969-04-02T00:00:00",
                    "1969-04-02T00:00:00",
                    "1969-04-03T00:00:00",
                    "1969-04-03T00:00:00",
                    "1969-04-04T00:00:00",
                    "1969-04-04T00:00:00",
                    "1969-04-05T00:00:00",
                    "1969-04-05T00:00:00",
                    "1969-04-06T00:00:00",
                    "1969-04-06T00:00:00",
                    "1969-04-07T00:00:00",
                    "1969-04-07T00:00:00",
                    "1969-04-08T00:00:00",
                    "1969-04-08T00:00:00",
                    "1969-04-09T00:00:00",
                    "1969-04-09T00:00:00",
                    "1969-04-10T00:00:00",
                    "1969-04-10T00:00:00",
                    "1969-04-11T00:00:00",
                    "1969-04-11T00:00:00",
                    "1969-04-12T00:00:00",
                    "1969-04-12T00:00:00",
                    "1969-04-13T00:00:00",
                    "1969-04-13T00:00:00",
                    "1969-04-14T00:00:00",
                    "1969-04-14T00:00:00",
                    "1969-04-15T00:00:00",
                    "1969-04-15T00:00:00",
                    "1969-04-16T00:00:00",
                    "1969-04-16T00:00:00",
                    "1969-04-17T00:00:00",
                    "1969-04-17T00:00:00",
                    "1969-04-18T00:00:00",
                    "1969-04-18T00:00:00",
                    "1969-04-19T00:00:00",
                    "1969-04-19T00:00:00",
                    "1969-04-20T00:00:00",
                    "1969-04-20T00:00:00",
                    "1969-04-21T00:00:00",
                    "1969-04-21T00:00:00",
                    "1969-04-22T00:00:00",
                    "1969-04-22T00:00:00",
                    "1969-04-23T00:00:00",
                    "1969-04-23T00:00:00",
                    "1969-04-24T00:00:00",
                    "1969-04-24T00:00:00",
                    "1969-04-25T00:00:00",
                    "1969-04-25T00:00:00",
                    "1969-04-26T00:00:00",
                    "1969-04-26T00:00:00",
                    "1969-04-27T00:00:00",
                    "1969-04-27T00:00:00",
                    "1969-04-28T00:00:00",
                    "1969-04-28T00:00:00",
                    "1969-04-29T00:00:00",
                    "1969-04-29T00:00:00",
                    "1969-04-30T00:00:00",
                    "1969-04-30T00:00:00",
                    null,
                    null,
                    null,
                    null,
                    "1969-05-01T00:00:00",
                    "1969-05-01T00:00:00",
                    "1969-05-02T00:00:00",
                    "1969-05-02T00:00:00",
                    "1969-05-03T00:00:00",
                    "1969-05-03T00:00:00",
                    "1969-05-04T00:00:00",
                    "1969-05-04T00:00:00",
                    "1969-05-05T00:00:00",
                    "1969-05-05T00:00:00",
                    "1969-05-06T00:00:00",
                    "1969-05-06T00:00:00",
                    "1969-05-07T00:00:00",
                    "1969-05-07T00:00:00",
                    "1969-05-08T00:00:00",
                    "1969-05-08T00:00:00",
                    "1969-05-09T00:00:00",
                    "1969-05-09T00:00:00",
                    "1969-05-10T00:00:00",
                    "1969-05-10T00:00:00",
                    "1969-05-11T00:00:00",
                    "1969-05-11T00:00:00",
                    "1969-05-12T00:00:00",
                    "1969-05-12T00:00:00",
                    "1969-05-13T00:00:00",
                    "1969-05-13T00:00:00",
                    "1969-05-14T00:00:00",
                    "1969-05-14T00:00:00",
                    "1969-05-15T00:00:00",
                    "1969-05-15T00:00:00",
                    "1969-05-16T00:00:00",
                    "1969-05-16T00:00:00",
                    "1969-05-17T00:00:00",
                    "1969-05-17T00:00:00",
                    "1969-05-18T00:00:00",
                    "1969-05-18T00:00:00",
                    "1969-05-19T00:00:00",
                    "1969-05-19T00:00:00",
                    "1969-05-20T00:00:00",
                    "1969-05-20T00:00:00",
                    "1969-05-21T00:00:00",
                    "1969-05-21T00:00:00",
                    "1969-05-22T00:00:00",
                    "1969-05-22T00:00:00",
                    "1969-05-23T00:00:00",
                    "1969-05-23T00:00:00",
                    "1969-05-24T00:00:00",
                    "1969-05-24T00:00:00",
                    "1969-05-25T00:00:00",
                    "1969-05-25T00:00:00",
                    "1969-05-26T00:00:00",
                    "1969-05-26T00:00:00",
                    "1969-05-27T00:00:00",
                    "1969-05-27T00:00:00",
                    "1969-05-28T00:00:00",
                    "1969-05-28T00:00:00",
                    "1969-05-29T00:00:00",
                    "1969-05-29T00:00:00",
                    "1969-05-30T00:00:00",
                    "1969-05-30T00:00:00",
                    "1969-05-31T00:00:00",
                    "1969-05-31T00:00:00",
                    null,
                    null,
                    "1969-06-01T00:00:00",
                    "1969-06-01T00:00:00",
                    "1969-06-02T00:00:00",
                    "1969-06-02T00:00:00",
                    "1969-06-03T00:00:00",
                    "1969-06-03T00:00:00",
                    "1969-06-04T00:00:00",
                    "1969-06-04T00:00:00",
                    "1969-06-05T00:00:00",
                    "1969-06-05T00:00:00",
                    "1969-06-06T00:00:00",
                    "1969-06-06T00:00:00",
                    "1969-06-07T00:00:00",
                    "1969-06-07T00:00:00",
                    "1969-06-08T00:00:00",
                    "1969-06-08T00:00:00",
                    "1969-06-09T00:00:00",
                    "1969-06-09T00:00:00",
                    "1969-06-10T00:00:00",
                    "1969-06-10T00:00:00",
                    "1969-06-11T00:00:00",
                    "1969-06-11T00:00:00",
                    "1969-06-12T00:00:00",
                    "1969-06-12T00:00:00",
                    "1969-06-13T00:00:00",
                    "1969-06-13T00:00:00",
                    "1969-06-14T00:00:00",
                    "1969-06-14T00:00:00",
                    "1969-06-15T00:00:00",
                    "1969-06-15T00:00:00",
                    "1969-06-16T00:00:00",
                    "1969-06-16T00:00:00",
                    "1969-06-17T00:00:00",
                    "1969-06-17T00:00:00",
                    "1969-06-18T00:00:00",
                    "1969-06-18T00:00:00",
                    "1969-06-19T00:00:00",
                    "1969-06-19T00:00:00",
                    "1969-06-20T00:00:00",
                    "1969-06-20T00:00:00",
                    "1969-06-21T00:00:00",
                    "1969-06-21T00:00:00",
                    "1969-06-22T00:00:00",
                    "1969-06-22T00:00:00",
                    "1969-06-23T00:00:00",
                    "1969-06-23T00:00:00",
                    "1969-06-24T00:00:00",
                    "1969-06-24T00:00:00",
                    "1969-06-25T00:00:00",
                    "1969-06-25T00:00:00",
                    "1969-06-26T00:00:00",
                    "1969-06-26T00:00:00",
                    "1969-06-27T00:00:00",
                    "1969-06-27T00:00:00",
                    "1969-06-28T00:00:00",
                    "1969-06-28T00:00:00",
                    "1969-06-29T00:00:00",
                    "1969-06-29T00:00:00",
                    "1969-06-30T00:00:00",
                    "1969-06-30T00:00:00",
                    null,
                    null,
                    null,
                    null,
                    "1969-07-01T00:00:00",
                    "1969-07-01T00:00:00",
                    "1969-07-02T00:00:00",
                    "1969-07-02T00:00:00",
                    "1969-07-03T00:00:00",
                    "1969-07-03T00:00:00",
                    "1969-07-04T00:00:00",
                    "1969-07-04T00:00:00",
                    "1969-07-05T00:00:00",
                    "1969-07-05T00:00:00",
                    "1969-07-06T00:00:00",
                    "1969-07-06T00:00:00",
                    "1969-07-07T00:00:00",
                    "1969-07-07T00:00:00",
                    "1969-07-08T00:00:00",
                    "1969-07-08T00:00:00",
                    "1969-07-09T00:00:00",
                    "1969-07-09T00:00:00",
                    "1969-07-10T00:00:00",
                    "1969-07-10T00:00:00",
                    "1969-07-11T00:00:00",
                    "1969-07-11T00:00:00",
                    "1969-07-12T00:00:00",
                    "1969-07-12T00:00:00",
                    "1969-07-13T00:00:00",
                    "1969-07-13T00:00:00",
                    "1969-07-14T00:00:00",
                    "1969-07-14T00:00:00",
                    "1969-07-15T00:00:00",
                    "1969-07-15T00:00:00",
                    "1969-07-16T00:00:00",
                    "1969-07-16T00:00:00",
                    "1969-07-17T00:00:00",
                    "1969-07-17T00:00:00",
                    "1969-07-18T00:00:00",
                    "1969-07-18T00:00:00",
                    "1969-07-19T00:00:00",
                    "1969-07-19T00:00:00",
                    "1969-07-20T00:00:00",
                    "1969-07-20T00:00:00",
                    "1969-07-21T00:00:00",
                    "1969-07-21T00:00:00",
                    "1969-07-22T00:00:00",
                    "1969-07-22T00:00:00",
                    "1969-07-23T00:00:00",
                    "1969-07-23T00:00:00",
                    "1969-07-24T00:00:00",
                    "1969-07-24T00:00:00",
                    "1969-07-25T00:00:00",
                    "1969-07-25T00:00:00",
                    "1969-07-26T00:00:00",
                    "1969-07-26T00:00:00",
                    "1969-07-27T00:00:00",
                    "1969-07-27T00:00:00",
                    "1969-07-28T00:00:00",
                    "1969-07-28T00:00:00",
                    "1969-07-29T00:00:00",
                    "1969-07-29T00:00:00",
                    "1969-07-30T00:00:00",
                    "1969-07-30T00:00:00",
                    "1969-07-31T00:00:00",
                    "1969-07-31T00:00:00",
                    null,
                    null,
                    "1969-08-01T00:00:00",
                    "1969-08-01T00:00:00",
                    "1969-08-02T00:00:00",
                    "1969-08-02T00:00:00",
                    "1969-08-03T00:00:00",
                    "1969-08-03T00:00:00",
                    "1969-08-04T00:00:00",
                    "1969-08-04T00:00:00",
                    "1969-08-05T00:00:00",
                    "1969-08-05T00:00:00",
                    "1969-08-06T00:00:00",
                    "1969-08-06T00:00:00",
                    "1969-08-07T00:00:00",
                    "1969-08-07T00:00:00",
                    "1969-08-08T00:00:00",
                    "1969-08-08T00:00:00",
                    "1969-08-09T00:00:00",
                    "1969-08-09T00:00:00",
                    "1969-08-10T00:00:00",
                    "1969-08-10T00:00:00",
                    "1969-08-11T00:00:00",
                    "1969-08-11T00:00:00",
                    "1969-08-12T00:00:00",
                    "1969-08-12T00:00:00",
                    "1969-08-13T00:00:00",
                    "1969-08-13T00:00:00",
                    "1969-08-14T00:00:00",
                    "1969-08-14T00:00:00",
                    "1969-08-15T00:00:00",
                    "1969-08-15T00:00:00",
                    "1969-08-16T00:00:00",
                    "1969-08-16T00:00:00",
                    "1969-08-17T00:00:00",
                    "1969-08-17T00:00:00",
                    "1969-08-18T00:00:00",
                    "1969-08-18T00:00:00",
                    "1969-08-19T00:00:00",
                    "1969-08-19T00:00:00",
                    "1969-08-20T00:00:00",
                    "1969-08-20T00:00:00",
                    "1969-08-21T00:00:00",
                    "1969-08-21T00:00:00",
                    "1969-08-22T00:00:00",
                    "1969-08-22T00:00:00",
                    "1969-08-23T00:00:00",
                    "1969-08-23T00:00:00",
                    "1969-08-24T00:00:00",
                    "1969-08-24T00:00:00",
                    "1969-08-25T00:00:00",
                    "1969-08-25T00:00:00",
                    "1969-08-26T00:00:00",
                    "1969-08-26T00:00:00",
                    "1969-08-27T00:00:00",
                    "1969-08-27T00:00:00",
                    "1969-08-28T00:00:00",
                    "1969-08-28T00:00:00",
                    "1969-08-29T00:00:00",
                    "1969-08-29T00:00:00",
                    "1969-08-30T00:00:00",
                    "1969-08-30T00:00:00",
                    "1969-08-31T00:00:00",
                    "1969-08-31T00:00:00",
                    null,
                    null,
                    "1969-09-01T00:00:00",
                    "1969-09-01T00:00:00",
                    "1969-09-02T00:00:00",
                    "1969-09-02T00:00:00",
                    "1969-09-03T00:00:00",
                    "1969-09-03T00:00:00",
                    "1969-09-04T00:00:00",
                    "1969-09-04T00:00:00",
                    "1969-09-05T00:00:00",
                    "1969-09-05T00:00:00",
                    "1969-09-06T00:00:00",
                    "1969-09-06T00:00:00",
                    "1969-09-07T00:00:00",
                    "1969-09-07T00:00:00",
                    "1969-09-08T00:00:00",
                    "1969-09-08T00:00:00",
                    "1969-09-09T00:00:00",
                    "1969-09-09T00:00:00",
                    "1969-09-10T00:00:00",
                    "1969-09-10T00:00:00",
                    "1969-09-11T00:00:00",
                    "1969-09-11T00:00:00",
                    "1969-09-12T00:00:00",
                    "1969-09-12T00:00:00",
                    "1969-09-13T00:00:00",
                    "1969-09-13T00:00:00",
                    "1969-09-14T00:00:00",
                    "1969-09-14T00:00:00",
                    "1969-09-15T00:00:00",
                    "1969-09-15T00:00:00",
                    "1969-09-16T00:00:00",
                    "1969-09-16T00:00:00",
                    "1969-09-17T00:00:00",
                    "1969-09-17T00:00:00",
                    "1969-09-18T00:00:00",
                    "1969-09-18T00:00:00",
                    "1969-09-19T00:00:00",
                    "1969-09-19T00:00:00",
                    "1969-09-20T00:00:00",
                    "1969-09-20T00:00:00",
                    "1969-09-21T00:00:00",
                    "1969-09-21T00:00:00",
                    "1969-09-22T00:00:00",
                    "1969-09-22T00:00:00",
                    "1969-09-23T00:00:00",
                    "1969-09-23T00:00:00",
                    "1969-09-24T00:00:00",
                    "1969-09-24T00:00:00",
                    "1969-09-25T00:00:00",
                    "1969-09-25T00:00:00",
                    "1969-09-26T00:00:00",
                    "1969-09-26T00:00:00",
                    "1969-09-27T00:00:00",
                    "1969-09-27T00:00:00",
                    "1969-09-28T00:00:00",
                    "1969-09-28T00:00:00",
                    "1969-09-29T00:00:00",
                    "1969-09-29T00:00:00",
                    "1969-09-30T00:00:00",
                    "1969-09-30T00:00:00",
                    null,
                    null,
                    null,
                    null,
                    "1969-10-01T00:00:00",
                    "1969-10-01T00:00:00",
                    "1969-10-02T00:00:00",
                    "1969-10-02T00:00:00",
                    "1969-10-03T00:00:00",
                    "1969-10-03T00:00:00",
                    "1969-10-04T00:00:00",
                    "1969-10-04T00:00:00",
                    "1969-10-05T00:00:00",
                    "1969-10-05T00:00:00",
                    "1969-10-06T00:00:00",
                    "1969-10-06T00:00:00",
                    "1969-10-07T00:00:00",
                    "1969-10-07T00:00:00",
                    "1969-10-08T00:00:00",
                    "1969-10-08T00:00:00",
                    "1969-10-09T00:00:00",
                    "1969-10-09T00:00:00",
                    "1969-10-10T00:00:00",
                    "1969-10-10T00:00:00",
                    "1969-10-11T00:00:00",
                    "1969-10-11T00:00:00",
                    "1969-10-12T00:00:00",
                    "1969-10-12T00:00:00",
                    "1969-10-13T00:00:00",
                    "1969-10-13T00:00:00",
                    "1969-10-14T00:00:00",
                    "1969-10-14T00:00:00",
                    "1969-10-15T00:00:00",
                    "1969-10-15T00:00:00",
                    "1969-10-16T00:00:00",
                    "1969-10-16T00:00:00",
                    "1969-10-17T00:00:00",
                    "1969-10-17T00:00:00",
                    "1969-10-18T00:00:00",
                    "1969-10-18T00:00:00",
                    "1969-10-19T00:00:00",
                    "1969-10-19T00:00:00",
                    "1969-10-20T00:00:00",
                    "1969-10-20T00:00:00",
                    "1969-10-21T00:00:00",
                    "1969-10-21T00:00:00",
                    "1969-10-22T00:00:00",
                    "1969-10-22T00:00:00",
                    "1969-10-23T00:00:00",
                    "1969-10-23T00:00:00",
                    "1969-10-24T00:00:00",
                    "1969-10-24T00:00:00",
                    "1969-10-25T00:00:00",
                    "1969-10-25T00:00:00",
                    "1969-10-26T00:00:00",
                    "1969-10-26T00:00:00",
                    "1969-10-27T00:00:00",
                    "1969-10-27T00:00:00",
                    "1969-10-28T00:00:00",
                    "1969-10-28T00:00:00",
                    "1969-10-29T00:00:00",
                    "1969-10-29T00:00:00",
                    "1969-10-30T00:00:00",
                    "1969-10-30T00:00:00",
                    "1969-10-31T00:00:00",
                    "1969-10-31T00:00:00",
                    null,
                    null,
                    "1969-11-01T00:00:00",
                    "1969-11-01T00:00:00",
                    "1969-11-02T00:00:00",
                    "1969-11-02T00:00:00",
                    "1969-11-03T00:00:00",
                    "1969-11-03T00:00:00",
                    "1969-11-04T00:00:00",
                    "1969-11-04T00:00:00",
                    "1969-11-05T00:00:00",
                    "1969-11-05T00:00:00",
                    "1969-11-06T00:00:00",
                    "1969-11-06T00:00:00",
                    "1969-11-07T00:00:00",
                    "1969-11-07T00:00:00",
                    "1969-11-08T00:00:00",
                    "1969-11-08T00:00:00",
                    "1969-11-09T00:00:00",
                    "1969-11-09T00:00:00",
                    "1969-11-10T00:00:00",
                    "1969-11-10T00:00:00",
                    "1969-11-11T00:00:00",
                    "1969-11-11T00:00:00",
                    "1969-11-12T00:00:00",
                    "1969-11-12T00:00:00",
                    "1969-11-13T00:00:00",
                    "1969-11-13T00:00:00",
                    "1969-11-14T00:00:00",
                    "1969-11-14T00:00:00",
                    "1969-11-15T00:00:00",
                    "1969-11-15T00:00:00",
                    "1969-11-16T00:00:00",
                    "1969-11-16T00:00:00",
                    "1969-11-17T00:00:00",
                    "1969-11-17T00:00:00",
                    "1969-11-18T00:00:00",
                    "1969-11-18T00:00:00",
                    "1969-11-19T00:00:00",
                    "1969-11-19T00:00:00",
                    "1969-11-20T00:00:00",
                    "1969-11-20T00:00:00",
                    "1969-11-21T00:00:00",
                    "1969-11-21T00:00:00",
                    "1969-11-22T00:00:00",
                    "1969-11-22T00:00:00",
                    "1969-11-23T00:00:00",
                    "1969-11-23T00:00:00",
                    "1969-11-24T00:00:00",
                    "1969-11-24T00:00:00",
                    "1969-11-25T00:00:00",
                    "1969-11-25T00:00:00",
                    "1969-11-26T00:00:00",
                    "1969-11-26T00:00:00",
                    "1969-11-27T00:00:00",
                    "1969-11-27T00:00:00",
                    "1969-11-28T00:00:00",
                    "1969-11-28T00:00:00",
                    "1969-11-29T00:00:00",
                    "1969-11-29T00:00:00",
                    "1969-11-30T00:00:00",
                    "1969-11-30T00:00:00",
                    null,
                    null,
                    null,
                    null,
                    "1969-12-01T00:00:00",
                    "1969-12-01T00:00:00",
                    "1969-12-02T00:00:00",
                    "1969-12-02T00:00:00",
                    "1969-12-03T00:00:00",
                    "1969-12-03T00:00:00",
                    "1969-12-04T00:00:00",
                    "1969-12-04T00:00:00",
                    "1969-12-05T00:00:00",
                    "1969-12-05T00:00:00",
                    "1969-12-06T00:00:00",
                    "1969-12-06T00:00:00",
                    "1969-12-07T00:00:00",
                    "1969-12-07T00:00:00",
                    "1969-12-08T00:00:00",
                    "1969-12-08T00:00:00",
                    "1969-12-09T00:00:00",
                    "1969-12-09T00:00:00",
                    "1969-12-10T00:00:00",
                    "1969-12-10T00:00:00",
                    "1969-12-11T00:00:00",
                    "1969-12-11T00:00:00",
                    "1969-12-12T00:00:00",
                    "1969-12-12T00:00:00",
                    "1969-12-13T00:00:00",
                    "1969-12-13T00:00:00",
                    "1969-12-14T00:00:00",
                    "1969-12-14T00:00:00",
                    "1969-12-15T00:00:00",
                    "1969-12-15T00:00:00",
                    "1969-12-16T00:00:00",
                    "1969-12-16T00:00:00",
                    "1969-12-17T00:00:00",
                    "1969-12-17T00:00:00",
                    "1969-12-18T00:00:00",
                    "1969-12-18T00:00:00",
                    "1969-12-19T00:00:00",
                    "1969-12-19T00:00:00",
                    "1969-12-20T00:00:00",
                    "1969-12-20T00:00:00",
                    "1969-12-21T00:00:00",
                    "1969-12-21T00:00:00",
                    "1969-12-22T00:00:00",
                    "1969-12-22T00:00:00",
                    "1969-12-23T00:00:00",
                    "1969-12-23T00:00:00",
                    "1969-12-24T00:00:00",
                    "1969-12-24T00:00:00",
                    "1969-12-25T00:00:00",
                    "1969-12-25T00:00:00",
                    "1969-12-26T00:00:00",
                    "1969-12-26T00:00:00",
                    "1969-12-27T00:00:00",
                    "1969-12-27T00:00:00",
                    "1969-12-28T00:00:00",
                    "1969-12-28T00:00:00",
                    "1969-12-29T00:00:00",
                    "1969-12-29T00:00:00",
                    "1969-12-30T00:00:00",
                    "1969-12-30T00:00:00",
                    "1969-12-31T00:00:00",
                    "1969-12-31T00:00:00",
                    null,
                    null
                  ],
                  "xaxis": "x",
                  "y": [
                    4046,
                    4440,
                    4454,
                    4548,
                    4548,
                    4994,
                    4440,
                    4520,
                    4192,
                    4198,
                    4710,
                    4850,
                    4646,
                    5092,
                    4800,
                    4934,
                    4592,
                    4842,
                    4852,
                    5190,
                    4580,
                    4598,
                    4126,
                    4324,
                    4758,
                    5076,
                    5070,
                    5296,
                    4798,
                    5096,
                    4790,
                    4872,
                    4944,
                    5030,
                    4670,
                    4642,
                    4170,
                    4452,
                    4884,
                    4924,
                    5042,
                    5432,
                    4796,
                    5088,
                    4794,
                    4660,
                    4752,
                    5046,
                    4348,
                    4674,
                    4230,
                    4338,
                    4864,
                    5046,
                    4860,
                    5172,
                    4500,
                    4880,
                    4668,
                    5006,
                    4780,
                    4912,
                    26,
                    38,
                    4394,
                    4736,
                    4334,
                    4480,
                    4878,
                    5110,
                    4796,
                    5200,
                    4674,
                    5002,
                    4760,
                    4968,
                    4940,
                    5162,
                    4626,
                    4636,
                    4252,
                    4442,
                    4958,
                    4996,
                    4796,
                    5060,
                    4780,
                    5228,
                    4850,
                    4756,
                    5092,
                    5262,
                    4598,
                    4712,
                    4118,
                    4416,
                    4768,
                    5054,
                    4962,
                    5214,
                    4788,
                    5028,
                    4920,
                    5062,
                    4940,
                    4976,
                    4484,
                    4668,
                    4298,
                    4406,
                    4798,
                    5168,
                    5196,
                    5370,
                    4838,
                    5210,
                    4588,
                    5030,
                    4792,
                    4964,
                    50,
                    16,
                    24,
                    28,
                    24,
                    20,
                    42,
                    48,
                    4402,
                    4784,
                    4204,
                    4376,
                    4874,
                    5194,
                    4994,
                    5270,
                    4958,
                    5088,
                    4640,
                    5064,
                    4658,
                    5290,
                    4462,
                    4872,
                    4146,
                    4248,
                    4816,
                    5076,
                    5096,
                    5092,
                    4800,
                    4976,
                    4710,
                    4930,
                    4936,
                    5098,
                    4300,
                    4538,
                    4110,
                    4226,
                    4788,
                    5340,
                    4910,
                    5226,
                    4968,
                    5096,
                    4738,
                    5074,
                    4832,
                    5070,
                    4446,
                    4516,
                    4240,
                    4362,
                    4730,
                    5072,
                    4976,
                    5296,
                    4822,
                    4996,
                    4628,
                    5070,
                    4968,
                    5358,
                    4292,
                    4616,
                    3986,
                    4200,
                    4590,
                    5002,
                    64,
                    50,
                    4990,
                    4970,
                    4766,
                    5212,
                    4682,
                    4848,
                    4718,
                    4854,
                    4384,
                    4364,
                    3896,
                    4112,
                    4418,
                    4956,
                    4930,
                    5246,
                    4748,
                    5104,
                    4730,
                    4978,
                    4848,
                    5072,
                    4318,
                    4622,
                    3886,
                    4248,
                    4726,
                    4840,
                    5064,
                    5364,
                    4804,
                    5036,
                    4832,
                    5044,
                    4832,
                    5040,
                    4292,
                    4702,
                    3760,
                    4168,
                    4828,
                    4782,
                    5016,
                    5210,
                    4660,
                    5208,
                    4620,
                    4852,
                    4610,
                    5036,
                    4338,
                    4584,
                    3846,
                    4120,
                    4622,
                    4896,
                    4622,
                    5078,
                    4396,
                    4742,
                    28,
                    24,
                    50,
                    66,
                    4598,
                    4608,
                    4708,
                    5028,
                    4148,
                    4620,
                    3922,
                    4172,
                    4854,
                    5076,
                    4906,
                    5058,
                    4724,
                    4902,
                    4564,
                    4920,
                    4634,
                    4728,
                    4072,
                    4444,
                    3998,
                    4124,
                    4570,
                    4736,
                    4776,
                    5086,
                    4402,
                    4782,
                    4646,
                    4878,
                    4880,
                    4944,
                    4376,
                    4570,
                    3922,
                    4106,
                    4626,
                    4868,
                    5034,
                    5354,
                    4698,
                    5068,
                    4630,
                    4776,
                    4548,
                    5036,
                    4174,
                    4384,
                    4030,
                    4196,
                    4752,
                    5088,
                    5264,
                    5088,
                    4966,
                    4972,
                    4878,
                    5312,
                    4452,
                    4702,
                    4112,
                    4528,
                    54,
                    52,
                    4174,
                    4252,
                    4736,
                    5126,
                    5146,
                    5012,
                    4750,
                    5088,
                    4686,
                    4902,
                    4864,
                    5142,
                    4342,
                    4472,
                    3958,
                    4268,
                    4826,
                    4912,
                    4920,
                    5400,
                    4760,
                    5190,
                    4980,
                    5240,
                    4772,
                    5080,
                    4358,
                    4562,
                    4046,
                    4356,
                    4628,
                    5116,
                    5150,
                    5144,
                    4864,
                    5356,
                    4630,
                    5126,
                    5122,
                    5302,
                    4328,
                    4706,
                    4136,
                    4476,
                    4842,
                    5038,
                    5180,
                    5444,
                    5196,
                    5270,
                    5016,
                    5328,
                    5288,
                    5488,
                    4610,
                    4956,
                    4262,
                    4538,
                    5260,
                    5328,
                    20,
                    40,
                    54,
                    48,
                    5378,
                    5768,
                    5242,
                    5516,
                    5030,
                    5532,
                    4504,
                    4664,
                    4492,
                    4756,
                    4246,
                    4614,
                    5138,
                    5496,
                    5282,
                    5560,
                    5132,
                    5444,
                    5166,
                    5396,
                    5210,
                    5476,
                    4596,
                    4876,
                    4454,
                    4524,
                    4768,
                    5474,
                    5486,
                    5810,
                    5086,
                    5612,
                    5194,
                    5474,
                    5242,
                    5390,
                    4838,
                    4836,
                    4320,
                    4620,
                    4984,
                    5212,
                    5408,
                    5632,
                    5092,
                    5376,
                    5124,
                    5306,
                    5126,
                    5562,
                    4734,
                    5052,
                    4626,
                    4782,
                    4990,
                    5558,
                    5434,
                    5668,
                    5192,
                    5442,
                    5076,
                    5270,
                    24,
                    44,
                    5112,
                    5618,
                    4872,
                    5110,
                    4464,
                    4618,
                    5118,
                    5332,
                    5418,
                    5526,
                    5232,
                    5620,
                    5066,
                    5316,
                    5376,
                    5926,
                    4968,
                    5124,
                    4394,
                    4712,
                    5120,
                    5586,
                    5542,
                    5596,
                    5210,
                    5592,
                    5290,
                    5436,
                    5298,
                    5612,
                    4774,
                    4998,
                    4482,
                    4642,
                    5120,
                    5530,
                    5550,
                    5860,
                    5226,
                    5692,
                    4962,
                    5222,
                    5170,
                    5416,
                    4682,
                    4978,
                    4438,
                    4646,
                    5104,
                    5482,
                    5400,
                    5682,
                    5076,
                    5562,
                    5162,
                    5454,
                    5138,
                    5576,
                    4680,
                    5028,
                    4358,
                    4628,
                    54,
                    58,
                    4440,
                    4572,
                    5174,
                    5512,
                    5210,
                    5834,
                    5172,
                    5334,
                    5032,
                    5578,
                    4722,
                    4988,
                    4514,
                    4682,
                    5030,
                    5478,
                    5172,
                    5426,
                    5020,
                    5430,
                    5042,
                    5366,
                    5226,
                    5526,
                    4744,
                    4790,
                    4552,
                    4652,
                    5122,
                    5606,
                    5390,
                    5752,
                    5268,
                    5596,
                    5288,
                    5588,
                    5422,
                    5410,
                    4930,
                    5110,
                    4712,
                    4656,
                    5374,
                    5596,
                    5504,
                    5796,
                    5250,
                    5648,
                    5278,
                    5562,
                    5508,
                    5646,
                    4986,
                    5184,
                    4564,
                    4634,
                    5192,
                    5516,
                    5454,
                    5684,
                    38,
                    30,
                    60,
                    48,
                    5290,
                    5620,
                    5322,
                    5334,
                    5324,
                    5598,
                    4732,
                    4978,
                    4464,
                    4508,
                    5008,
                    5310,
                    5150,
                    5504,
                    5194,
                    5316,
                    5268,
                    5442,
                    5398,
                    5350,
                    4640,
                    4926,
                    4428,
                    4586,
                    4894,
                    5102,
                    5048,
                    5570,
                    4884,
                    5236,
                    4836,
                    5082,
                    5088,
                    5250,
                    4382,
                    4790,
                    4092,
                    4494,
                    4876,
                    5272,
                    5088,
                    5586,
                    5018,
                    5282,
                    4790,
                    5024,
                    4920,
                    5090,
                    4416,
                    4842,
                    4300,
                    4564,
                    5054,
                    5318,
                    5096,
                    5544,
                    4920,
                    5184,
                    4930,
                    5180,
                    4836,
                    5308,
                    48,
                    48,
                    4676,
                    4666,
                    4376,
                    4528,
                    4952,
                    5386,
                    5114,
                    5658,
                    4832,
                    5188,
                    5090,
                    5150,
                    5172,
                    5488,
                    4726,
                    4952,
                    4342,
                    4680,
                    5024,
                    5318,
                    5252,
                    5626,
                    4862,
                    5462,
                    5028,
                    5072,
                    5210,
                    5186,
                    4480,
                    4818,
                    4290,
                    4370,
                    4966,
                    5320,
                    5346,
                    5352,
                    5000,
                    5260,
                    5072,
                    5186,
                    4846,
                    5322,
                    4576,
                    4862,
                    4354,
                    4512,
                    5186,
                    5276,
                    5318,
                    5546,
                    4874,
                    5200,
                    4084,
                    4164,
                    4838,
                    5110,
                    4536,
                    4796,
                    4448,
                    4518,
                    54,
                    62,
                    40,
                    56,
                    5124,
                    5524,
                    5224,
                    5512,
                    4948,
                    5352,
                    5042,
                    5212,
                    4988,
                    5440,
                    4602,
                    4818,
                    4178,
                    4562,
                    5240,
                    5406,
                    5246,
                    5484,
                    5108,
                    5240,
                    5052,
                    5248,
                    5254,
                    5504,
                    4680,
                    4922,
                    4174,
                    4588,
                    5328,
                    5570,
                    5368,
                    5654,
                    5138,
                    5508,
                    5180,
                    5246,
                    5366,
                    5546,
                    4964,
                    4858,
                    4434,
                    4430,
                    5194,
                    5298,
                    4820,
                    5036,
                    4322,
                    4656,
                    4136,
                    4148,
                    4826,
                    5084,
                    4544,
                    4760,
                    4344,
                    4660,
                    5364,
                    5616,
                    5988,
                    6244,
                    5602,
                    5520,
                    44,
                    54
                  ],
                  "yaxis": "y"
                }
              ],
              "layout": {
                "legend": {
                  "tracegroupgap": 0
                },
                "margin": {
                  "t": 60
                },
                "template": {
                  "data": {
                    "bar": [
                      {
                        "error_x": {
                          "color": "#2a3f5f"
                        },
                        "error_y": {
                          "color": "#2a3f5f"
                        },
                        "marker": {
                          "line": {
                            "color": "#E5ECF6",
                            "width": 0.5
                          },
                          "pattern": {
                            "fillmode": "overlay",
                            "size": 10,
                            "solidity": 0.2
                          }
                        },
                        "type": "bar"
                      }
                    ],
                    "barpolar": [
                      {
                        "marker": {
                          "line": {
                            "color": "#E5ECF6",
                            "width": 0.5
                          },
                          "pattern": {
                            "fillmode": "overlay",
                            "size": 10,
                            "solidity": 0.2
                          }
                        },
                        "type": "barpolar"
                      }
                    ],
                    "carpet": [
                      {
                        "aaxis": {
                          "endlinecolor": "#2a3f5f",
                          "gridcolor": "white",
                          "linecolor": "white",
                          "minorgridcolor": "white",
                          "startlinecolor": "#2a3f5f"
                        },
                        "baxis": {
                          "endlinecolor": "#2a3f5f",
                          "gridcolor": "white",
                          "linecolor": "white",
                          "minorgridcolor": "white",
                          "startlinecolor": "#2a3f5f"
                        },
                        "type": "carpet"
                      }
                    ],
                    "choropleth": [
                      {
                        "colorbar": {
                          "outlinewidth": 0,
                          "ticks": ""
                        },
                        "type": "choropleth"
                      }
                    ],
                    "contour": [
                      {
                        "colorbar": {
                          "outlinewidth": 0,
                          "ticks": ""
                        },
                        "colorscale": [
                          [
                            0,
                            "#0d0887"
                          ],
                          [
                            0.1111111111111111,
                            "#46039f"
                          ],
                          [
                            0.2222222222222222,
                            "#7201a8"
                          ],
                          [
                            0.3333333333333333,
                            "#9c179e"
                          ],
                          [
                            0.4444444444444444,
                            "#bd3786"
                          ],
                          [
                            0.5555555555555556,
                            "#d8576b"
                          ],
                          [
                            0.6666666666666666,
                            "#ed7953"
                          ],
                          [
                            0.7777777777777778,
                            "#fb9f3a"
                          ],
                          [
                            0.8888888888888888,
                            "#fdca26"
                          ],
                          [
                            1,
                            "#f0f921"
                          ]
                        ],
                        "type": "contour"
                      }
                    ],
                    "contourcarpet": [
                      {
                        "colorbar": {
                          "outlinewidth": 0,
                          "ticks": ""
                        },
                        "type": "contourcarpet"
                      }
                    ],
                    "heatmap": [
                      {
                        "colorbar": {
                          "outlinewidth": 0,
                          "ticks": ""
                        },
                        "colorscale": [
                          [
                            0,
                            "#0d0887"
                          ],
                          [
                            0.1111111111111111,
                            "#46039f"
                          ],
                          [
                            0.2222222222222222,
                            "#7201a8"
                          ],
                          [
                            0.3333333333333333,
                            "#9c179e"
                          ],
                          [
                            0.4444444444444444,
                            "#bd3786"
                          ],
                          [
                            0.5555555555555556,
                            "#d8576b"
                          ],
                          [
                            0.6666666666666666,
                            "#ed7953"
                          ],
                          [
                            0.7777777777777778,
                            "#fb9f3a"
                          ],
                          [
                            0.8888888888888888,
                            "#fdca26"
                          ],
                          [
                            1,
                            "#f0f921"
                          ]
                        ],
                        "type": "heatmap"
                      }
                    ],
                    "heatmapgl": [
                      {
                        "colorbar": {
                          "outlinewidth": 0,
                          "ticks": ""
                        },
                        "colorscale": [
                          [
                            0,
                            "#0d0887"
                          ],
                          [
                            0.1111111111111111,
                            "#46039f"
                          ],
                          [
                            0.2222222222222222,
                            "#7201a8"
                          ],
                          [
                            0.3333333333333333,
                            "#9c179e"
                          ],
                          [
                            0.4444444444444444,
                            "#bd3786"
                          ],
                          [
                            0.5555555555555556,
                            "#d8576b"
                          ],
                          [
                            0.6666666666666666,
                            "#ed7953"
                          ],
                          [
                            0.7777777777777778,
                            "#fb9f3a"
                          ],
                          [
                            0.8888888888888888,
                            "#fdca26"
                          ],
                          [
                            1,
                            "#f0f921"
                          ]
                        ],
                        "type": "heatmapgl"
                      }
                    ],
                    "histogram": [
                      {
                        "marker": {
                          "pattern": {
                            "fillmode": "overlay",
                            "size": 10,
                            "solidity": 0.2
                          }
                        },
                        "type": "histogram"
                      }
                    ],
                    "histogram2d": [
                      {
                        "colorbar": {
                          "outlinewidth": 0,
                          "ticks": ""
                        },
                        "colorscale": [
                          [
                            0,
                            "#0d0887"
                          ],
                          [
                            0.1111111111111111,
                            "#46039f"
                          ],
                          [
                            0.2222222222222222,
                            "#7201a8"
                          ],
                          [
                            0.3333333333333333,
                            "#9c179e"
                          ],
                          [
                            0.4444444444444444,
                            "#bd3786"
                          ],
                          [
                            0.5555555555555556,
                            "#d8576b"
                          ],
                          [
                            0.6666666666666666,
                            "#ed7953"
                          ],
                          [
                            0.7777777777777778,
                            "#fb9f3a"
                          ],
                          [
                            0.8888888888888888,
                            "#fdca26"
                          ],
                          [
                            1,
                            "#f0f921"
                          ]
                        ],
                        "type": "histogram2d"
                      }
                    ],
                    "histogram2dcontour": [
                      {
                        "colorbar": {
                          "outlinewidth": 0,
                          "ticks": ""
                        },
                        "colorscale": [
                          [
                            0,
                            "#0d0887"
                          ],
                          [
                            0.1111111111111111,
                            "#46039f"
                          ],
                          [
                            0.2222222222222222,
                            "#7201a8"
                          ],
                          [
                            0.3333333333333333,
                            "#9c179e"
                          ],
                          [
                            0.4444444444444444,
                            "#bd3786"
                          ],
                          [
                            0.5555555555555556,
                            "#d8576b"
                          ],
                          [
                            0.6666666666666666,
                            "#ed7953"
                          ],
                          [
                            0.7777777777777778,
                            "#fb9f3a"
                          ],
                          [
                            0.8888888888888888,
                            "#fdca26"
                          ],
                          [
                            1,
                            "#f0f921"
                          ]
                        ],
                        "type": "histogram2dcontour"
                      }
                    ],
                    "mesh3d": [
                      {
                        "colorbar": {
                          "outlinewidth": 0,
                          "ticks": ""
                        },
                        "type": "mesh3d"
                      }
                    ],
                    "parcoords": [
                      {
                        "line": {
                          "colorbar": {
                            "outlinewidth": 0,
                            "ticks": ""
                          }
                        },
                        "type": "parcoords"
                      }
                    ],
                    "pie": [
                      {
                        "automargin": true,
                        "type": "pie"
                      }
                    ],
                    "scatter": [
                      {
                        "fillpattern": {
                          "fillmode": "overlay",
                          "size": 10,
                          "solidity": 0.2
                        },
                        "type": "scatter"
                      }
                    ],
                    "scatter3d": [
                      {
                        "line": {
                          "colorbar": {
                            "outlinewidth": 0,
                            "ticks": ""
                          }
                        },
                        "marker": {
                          "colorbar": {
                            "outlinewidth": 0,
                            "ticks": ""
                          }
                        },
                        "type": "scatter3d"
                      }
                    ],
                    "scattercarpet": [
                      {
                        "marker": {
                          "colorbar": {
                            "outlinewidth": 0,
                            "ticks": ""
                          }
                        },
                        "type": "scattercarpet"
                      }
                    ],
                    "scattergeo": [
                      {
                        "marker": {
                          "colorbar": {
                            "outlinewidth": 0,
                            "ticks": ""
                          }
                        },
                        "type": "scattergeo"
                      }
                    ],
                    "scattergl": [
                      {
                        "marker": {
                          "colorbar": {
                            "outlinewidth": 0,
                            "ticks": ""
                          }
                        },
                        "type": "scattergl"
                      }
                    ],
                    "scattermapbox": [
                      {
                        "marker": {
                          "colorbar": {
                            "outlinewidth": 0,
                            "ticks": ""
                          }
                        },
                        "type": "scattermapbox"
                      }
                    ],
                    "scatterpolar": [
                      {
                        "marker": {
                          "colorbar": {
                            "outlinewidth": 0,
                            "ticks": ""
                          }
                        },
                        "type": "scatterpolar"
                      }
                    ],
                    "scatterpolargl": [
                      {
                        "marker": {
                          "colorbar": {
                            "outlinewidth": 0,
                            "ticks": ""
                          }
                        },
                        "type": "scatterpolargl"
                      }
                    ],
                    "scatterternary": [
                      {
                        "marker": {
                          "colorbar": {
                            "outlinewidth": 0,
                            "ticks": ""
                          }
                        },
                        "type": "scatterternary"
                      }
                    ],
                    "surface": [
                      {
                        "colorbar": {
                          "outlinewidth": 0,
                          "ticks": ""
                        },
                        "colorscale": [
                          [
                            0,
                            "#0d0887"
                          ],
                          [
                            0.1111111111111111,
                            "#46039f"
                          ],
                          [
                            0.2222222222222222,
                            "#7201a8"
                          ],
                          [
                            0.3333333333333333,
                            "#9c179e"
                          ],
                          [
                            0.4444444444444444,
                            "#bd3786"
                          ],
                          [
                            0.5555555555555556,
                            "#d8576b"
                          ],
                          [
                            0.6666666666666666,
                            "#ed7953"
                          ],
                          [
                            0.7777777777777778,
                            "#fb9f3a"
                          ],
                          [
                            0.8888888888888888,
                            "#fdca26"
                          ],
                          [
                            1,
                            "#f0f921"
                          ]
                        ],
                        "type": "surface"
                      }
                    ],
                    "table": [
                      {
                        "cells": {
                          "fill": {
                            "color": "#EBF0F8"
                          },
                          "line": {
                            "color": "white"
                          }
                        },
                        "header": {
                          "fill": {
                            "color": "#C8D4E3"
                          },
                          "line": {
                            "color": "white"
                          }
                        },
                        "type": "table"
                      }
                    ]
                  },
                  "layout": {
                    "annotationdefaults": {
                      "arrowcolor": "#2a3f5f",
                      "arrowhead": 0,
                      "arrowwidth": 1
                    },
                    "autotypenumbers": "strict",
                    "coloraxis": {
                      "colorbar": {
                        "outlinewidth": 0,
                        "ticks": ""
                      }
                    },
                    "colorscale": {
                      "diverging": [
                        [
                          0,
                          "#8e0152"
                        ],
                        [
                          0.1,
                          "#c51b7d"
                        ],
                        [
                          0.2,
                          "#de77ae"
                        ],
                        [
                          0.3,
                          "#f1b6da"
                        ],
                        [
                          0.4,
                          "#fde0ef"
                        ],
                        [
                          0.5,
                          "#f7f7f7"
                        ],
                        [
                          0.6,
                          "#e6f5d0"
                        ],
                        [
                          0.7,
                          "#b8e186"
                        ],
                        [
                          0.8,
                          "#7fbc41"
                        ],
                        [
                          0.9,
                          "#4d9221"
                        ],
                        [
                          1,
                          "#276419"
                        ]
                      ],
                      "sequential": [
                        [
                          0,
                          "#0d0887"
                        ],
                        [
                          0.1111111111111111,
                          "#46039f"
                        ],
                        [
                          0.2222222222222222,
                          "#7201a8"
                        ],
                        [
                          0.3333333333333333,
                          "#9c179e"
                        ],
                        [
                          0.4444444444444444,
                          "#bd3786"
                        ],
                        [
                          0.5555555555555556,
                          "#d8576b"
                        ],
                        [
                          0.6666666666666666,
                          "#ed7953"
                        ],
                        [
                          0.7777777777777778,
                          "#fb9f3a"
                        ],
                        [
                          0.8888888888888888,
                          "#fdca26"
                        ],
                        [
                          1,
                          "#f0f921"
                        ]
                      ],
                      "sequentialminus": [
                        [
                          0,
                          "#0d0887"
                        ],
                        [
                          0.1111111111111111,
                          "#46039f"
                        ],
                        [
                          0.2222222222222222,
                          "#7201a8"
                        ],
                        [
                          0.3333333333333333,
                          "#9c179e"
                        ],
                        [
                          0.4444444444444444,
                          "#bd3786"
                        ],
                        [
                          0.5555555555555556,
                          "#d8576b"
                        ],
                        [
                          0.6666666666666666,
                          "#ed7953"
                        ],
                        [
                          0.7777777777777778,
                          "#fb9f3a"
                        ],
                        [
                          0.8888888888888888,
                          "#fdca26"
                        ],
                        [
                          1,
                          "#f0f921"
                        ]
                      ]
                    },
                    "colorway": [
                      "#636efa",
                      "#EF553B",
                      "#00cc96",
                      "#ab63fa",
                      "#FFA15A",
                      "#19d3f3",
                      "#FF6692",
                      "#B6E880",
                      "#FF97FF",
                      "#FECB52"
                    ],
                    "font": {
                      "color": "#2a3f5f"
                    },
                    "geo": {
                      "bgcolor": "white",
                      "lakecolor": "white",
                      "landcolor": "#E5ECF6",
                      "showlakes": true,
                      "showland": true,
                      "subunitcolor": "white"
                    },
                    "hoverlabel": {
                      "align": "left"
                    },
                    "hovermode": "closest",
                    "mapbox": {
                      "style": "light"
                    },
                    "paper_bgcolor": "white",
                    "plot_bgcolor": "#E5ECF6",
                    "polar": {
                      "angularaxis": {
                        "gridcolor": "white",
                        "linecolor": "white",
                        "ticks": ""
                      },
                      "bgcolor": "#E5ECF6",
                      "radialaxis": {
                        "gridcolor": "white",
                        "linecolor": "white",
                        "ticks": ""
                      }
                    },
                    "scene": {
                      "xaxis": {
                        "backgroundcolor": "#E5ECF6",
                        "gridcolor": "white",
                        "gridwidth": 2,
                        "linecolor": "white",
                        "showbackground": true,
                        "ticks": "",
                        "zerolinecolor": "white"
                      },
                      "yaxis": {
                        "backgroundcolor": "#E5ECF6",
                        "gridcolor": "white",
                        "gridwidth": 2,
                        "linecolor": "white",
                        "showbackground": true,
                        "ticks": "",
                        "zerolinecolor": "white"
                      },
                      "zaxis": {
                        "backgroundcolor": "#E5ECF6",
                        "gridcolor": "white",
                        "gridwidth": 2,
                        "linecolor": "white",
                        "showbackground": true,
                        "ticks": "",
                        "zerolinecolor": "white"
                      }
                    },
                    "shapedefaults": {
                      "line": {
                        "color": "#2a3f5f"
                      }
                    },
                    "ternary": {
                      "aaxis": {
                        "gridcolor": "white",
                        "linecolor": "white",
                        "ticks": ""
                      },
                      "baxis": {
                        "gridcolor": "white",
                        "linecolor": "white",
                        "ticks": ""
                      },
                      "bgcolor": "#E5ECF6",
                      "caxis": {
                        "gridcolor": "white",
                        "linecolor": "white",
                        "ticks": ""
                      }
                    },
                    "title": {
                      "x": 0.05
                    },
                    "xaxis": {
                      "automargin": true,
                      "gridcolor": "white",
                      "linecolor": "white",
                      "ticks": "",
                      "title": {
                        "standoff": 15
                      },
                      "zerolinecolor": "white",
                      "zerolinewidth": 2
                    },
                    "yaxis": {
                      "automargin": true,
                      "gridcolor": "white",
                      "linecolor": "white",
                      "ticks": "",
                      "title": {
                        "standoff": 15
                      },
                      "zerolinecolor": "white",
                      "zerolinewidth": 2
                    }
                  }
                },
                "xaxis": {
                  "anchor": "y",
                  "domain": [
                    0,
                    1
                  ],
                  "title": {
                    "text": "date"
                  }
                },
                "yaxis": {
                  "anchor": "x",
                  "domain": [
                    0,
                    1
                  ],
                  "title": {
                    "text": "births"
                  }
                }
              }
            }
          },
          "metadata": {},
          "output_type": "display_data"
        }
      ],
      "source": [
        "data_plot = data[data['year'] == 1969]\n",
        "data_plot['month_name'] = data_plot['date'].dt.month_name()\n",
        "fig = px.line(data_plot, x= 'date', y='births')\n",
        "fig.show()"
      ]
    }
  ],
  "metadata": {
    "colab": {
      "provenance": []
    },
    "kernelspec": {
      "display_name": "Python 3.10.7 64-bit",
      "language": "python",
      "name": "python3"
    },
    "language_info": {
      "codemirror_mode": {
        "name": "ipython",
        "version": 3
      },
      "file_extension": ".py",
      "mimetype": "text/x-python",
      "name": "python",
      "nbconvert_exporter": "python",
      "pygments_lexer": "ipython3",
      "version": "3.10.7"
    },
    "vscode": {
      "interpreter": {
        "hash": "2a129bf2e1a7214986d0e7730701d7e36b338071f8c0e2bc790aed4c6fe89b79"
      }
    }
  },
  "nbformat": 4,
  "nbformat_minor": 0
}
