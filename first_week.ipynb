{
 "cells": [
  {
   "cell_type": "code",
   "execution_count": 2,
   "metadata": {},
   "outputs": [],
   "source": [
    "import numpy as np "
   ]
  },
  {
   "cell_type": "markdown",
   "metadata": {},
   "source": [
    "**Question No 1**:\n",
    "Write a NumPy program to create an array of all even integers from 30 to 70."
   ]
  },
  {
   "cell_type": "code",
   "execution_count": 4,
   "metadata": {},
   "outputs": [
    {
     "name": "stdout",
     "output_type": "stream",
     "text": [
      "Array:  [30 32 34 36 38 40 42 44 46 48 50 52 54 56 58 60 62 64 66 68 70]\n"
     ]
    }
   ],
   "source": [
    "# Making array of even numbers from 30 to 70\n",
    "even_array = np.arange(30, 71, 2)\n",
    "\n",
    "print(\"Array: \", even_array)"
   ]
  },
  {
   "cell_type": "markdown",
   "metadata": {},
   "source": [
    "**Question no 2**:\n",
    "Write a NumPy program to generate an array of 15 random numbers from a standard normal\n",
    "distribution."
   ]
  },
  {
   "cell_type": "code",
   "execution_count": 5,
   "metadata": {},
   "outputs": [
    {
     "name": "stdout",
     "output_type": "stream",
     "text": [
      "Array: [ 1.14755876 -0.26946403  0.93858462  1.11035514 -0.14288418  1.07576284\n",
      " -0.43843071  2.31879371  0.51410123  0.26928817 -1.39784655  1.18468941\n",
      " -0.1244735  -0.27437115 -0.59540891]\n"
     ]
    }
   ],
   "source": [
    "# Generating array of 15 random numbers from a standard normal distribution\n",
    "rand_array = np.random.randn(15)\n",
    "\n",
    "print(\"Array:\", rand_array)"
   ]
  },
  {
   "cell_type": "markdown",
   "metadata": {},
   "source": [
    "**Question no 3**:\n",
    "How to compute the cross-product of two matrices in NumPy?"
   ]
  },
  {
   "cell_type": "code",
   "execution_count": 8,
   "metadata": {},
   "outputs": [
    {
     "name": "stdout",
     "output_type": "stream",
     "text": [
      "Cross-product:\n",
      "[[-10  20 -10]\n",
      " [-10  20 -10]\n",
      " [-10  20 -10]]\n"
     ]
    }
   ],
   "source": [
    "m1 = np.array([[1, 2, 3],\n",
    "                    [4, 5, 6],\n",
    "                    [7, 8, 9]])\n",
    "\n",
    "m2 = np.array([[9, 8, 7],\n",
    "                    [6, 5, 4],\n",
    "                    [3, 2, 1]])\n",
    "\n",
    "# cross-product of the two matrices\n",
    "cross_product = np.cross(m1, m2)\n",
    "\n",
    "print(\"Cross-product:\")\n",
    "print(cross_product)"
   ]
  },
  {
   "cell_type": "markdown",
   "metadata": {},
   "source": [
    "**Question no 4**:\n",
    "How to compute the determinant of an array using NumPy?"
   ]
  },
  {
   "cell_type": "code",
   "execution_count": 9,
   "metadata": {},
   "outputs": [
    {
     "name": "stdout",
     "output_type": "stream",
     "text": [
      "Determinant:\n",
      "10.000000000000002\n"
     ]
    }
   ],
   "source": [
    "matrix = np.array([[4, 7],\n",
    "                   [2, 6]])\n",
    "\n",
    "# Computing determinant\n",
    "value = np.linalg.det(matrix)\n",
    "\n",
    "print(\"Determinant:\")\n",
    "print(value)"
   ]
  },
  {
   "cell_type": "markdown",
   "metadata": {},
   "source": [
    "**Question no 5**:\n",
    "How to create a 3x3x3 array with random values using NumPy?"
   ]
  },
  {
   "cell_type": "code",
   "execution_count": 3,
   "metadata": {},
   "outputs": [
    {
     "name": "stdout",
     "output_type": "stream",
     "text": [
      "Array:\n",
      "[[[0.97387842 0.84764848 0.16456777]\n",
      "  [0.05165983 0.67105339 0.29349973]\n",
      "  [0.60606283 0.91710359 0.83672196]]\n",
      "\n",
      " [[0.36277173 0.84127889 0.65021227]\n",
      "  [0.19868695 0.86791794 0.84962239]\n",
      "  [0.65319343 0.47082129 0.11928278]]\n",
      "\n",
      " [[0.48589758 0.03471758 0.05375667]\n",
      "  [0.75866024 0.86081838 0.72072378]\n",
      "  [0.85858896 0.91083811 0.23091408]]]\n"
     ]
    }
   ],
   "source": [
    "# Creating 3x3x3 array\n",
    "random_array = np.random.rand(3, 3, 3)\n",
    "\n",
    "print(\"Array:\")\n",
    "print(random_array)"
   ]
  },
  {
   "cell_type": "markdown",
   "metadata": {},
   "source": [
    "**Question no 6**:\n",
    "How to create a 5x5 array with random values and find the minimum and maximum values using\n",
    "NumPy?"
   ]
  },
  {
   "cell_type": "code",
   "execution_count": 11,
   "metadata": {},
   "outputs": [
    {
     "name": "stdout",
     "output_type": "stream",
     "text": [
      "Array:\n",
      "[[0.486482   0.02359723 0.54746936 0.13517853 0.10795646]\n",
      " [0.90600445 0.96441383 0.64129036 0.7564463  0.56626065]\n",
      " [0.11183928 0.6093426  0.93336371 0.89931969 0.44324311]\n",
      " [0.02850598 0.32300096 0.2242151  0.45986438 0.67357317]\n",
      " [0.64341498 0.46139754 0.1051794  0.38411565 0.28838338]]\n",
      "\n",
      "Minimum value: 0.023597228394296343\n",
      "Maximum value: 0.9644138276444056\n"
     ]
    }
   ],
   "source": [
    "#array with random values\n",
    "random_array = np.random.rand(5, 5)\n",
    "\n",
    "print(\"Array:\")\n",
    "print(random_array)\n",
    "\n",
    "# Find the minimum and maximum values\n",
    "min_value = np.min(random_array)\n",
    "max_value = np.max(random_array)\n",
    "\n",
    "print(\"\\nMinimum value:\", min_value)\n",
    "print(\"Maximum value:\", max_value)"
   ]
  },
  {
   "cell_type": "markdown",
   "metadata": {},
   "source": [
    "**Question no 7**:\n",
    "\n",
    "How to compute the mean, standard deviation, and variance of a given array along the second axis in\n",
    "NumPy?"
   ]
  },
  {
   "cell_type": "code",
   "execution_count": 15,
   "metadata": {},
   "outputs": [
    {
     "name": "stdout",
     "output_type": "stream",
     "text": [
      "Mean along the second axis:  [5.33333333 6.33333333 6.66666667]\n",
      "\n",
      "Standard deviation along the second axis:\n",
      "[2.49443826 2.05480467 1.24721913]\n",
      "\n",
      "Variance along the second axis:\n",
      "[6.22222222 4.22222222 1.55555556]\n"
     ]
    }
   ],
   "source": [
    "array = np.array([[6, 2, 8],\n",
    "                  [4, 9, 6],\n",
    "                  [7, 8, 5]])\n",
    "\n",
    "# Computing mean\n",
    "mean = np.mean(array, axis=1)\n",
    "\n",
    "# Computing the standard deviation\n",
    "std_dev = np.std(array, axis=1)\n",
    "\n",
    "# Computing the variance\n",
    "variance = np.var(array, axis=1)\n",
    "\n",
    "print(\"Mean along the second axis: \", mean)\n",
    "print(\"\\nStandard deviation along the second axis:\")\n",
    "print(std_dev)\n",
    "print(\"\\nVariance along the second axis:\")\n",
    "print(variance)"
   ]
  }
 ],
 "metadata": {
  "kernelspec": {
   "display_name": "Python 3.10.7 64-bit",
   "language": "python",
   "name": "python3"
  },
  "language_info": {
   "codemirror_mode": {
    "name": "ipython",
    "version": 3
   },
   "file_extension": ".py",
   "mimetype": "text/x-python",
   "name": "python",
   "nbconvert_exporter": "python",
   "pygments_lexer": "ipython3",
   "version": "3.10.7"
  },
  "orig_nbformat": 4,
  "vscode": {
   "interpreter": {
    "hash": "2a129bf2e1a7214986d0e7730701d7e36b338071f8c0e2bc790aed4c6fe89b79"
   }
  }
 },
 "nbformat": 4,
 "nbformat_minor": 2
}
